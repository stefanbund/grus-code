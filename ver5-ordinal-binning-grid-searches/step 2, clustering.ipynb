{
 "cells": [
  {
   "cell_type": "markdown",
   "id": "5d7c5d04-6844-47bc-b7ab-15572b05d1d2",
   "metadata": {},
   "source": [
    "## Cluster Technique Search and Accuracy Test"
   ]
  },
  {
   "cell_type": "markdown",
   "id": "every-madrid",
   "metadata": {},
   "source": [
    "Adding in length it matters. Go back at into preprocessing and instead of taking the first value we need to group by and take the sum of each group instead. This is what causes the miss alignment in precursor statistics for the surge in that sequence. Could be affecting our clustering data. "
   ]
  },
  {
   "cell_type": "markdown",
   "id": "dress-longitude",
   "metadata": {},
   "source": [
    "Checklist\n",
    "- run with standard scaler instead\n",
    "- add in implementation of bin scoring \n",
    "- check other cluster scoring methodologies instead of silhoutte \n",
    "- check other clustering options\n",
    "- maybe do a grid search of each indivdual methodology instead "
   ]
  },
  {
   "cell_type": "markdown",
   "id": "natural-factory",
   "metadata": {},
   "source": [
    "No quantile standard scalar is much better"
   ]
  },
  {
   "cell_type": "markdown",
   "id": "progressive-rider",
   "metadata": {},
   "source": [
    "Cluster Profitability 1\n",
    "- cluster and get cluster qaulity scores and then create  function that looks at the labels and finds the associated surge_target_scores and calculates the mean score for each cluster and from there finds the total difference in cluster averages. We want the clusters that have the greatest difference because that shows that each cluster is seperating by profitability"
   ]
  },
  {
   "cell_type": "code",
   "execution_count": 8,
   "id": "3ca319f9",
   "metadata": {},
   "outputs": [
    {
     "name": "stdout",
     "output_type": "stream",
     "text": [
      "Defaulting to user installation because normal site-packages is not writeable\n",
      "Requirement already satisfied: sklearn in /Users/stefanbund/Library/Python/3.9/lib/python/site-packages (0.0.post10)\n",
      "Note: you may need to restart the kernel to use updated packages.\n"
     ]
    }
   ],
   "source": [
    "%pip install sklearn"
   ]
  },
  {
   "cell_type": "code",
   "execution_count": 1,
   "id": "6873776c-9e64-4e97-83ba-a1c93e578d8d",
   "metadata": {
    "tags": []
   },
   "outputs": [],
   "source": [
    "import pandas as pd\n",
    "# from sklearn.cluster import KMeans\n",
    "from sklearn.model_selection import GridSearchCV\n",
    "import sklearn.metrics\n",
    "import numpy as np\n",
    "from sklearn import preprocessing\n",
    "from sklearn.preprocessing import StandardScaler\n",
    "import datetime\n",
    "\n",
    "#SPECIFIED CLUSTER DISCOVERY\n",
    "# from sklearn.preprocessing import StandardScaler\n",
    "from sklearn.model_selection import train_test_split\n",
    "# from sklearn.model_selection import GridSearchCV\n",
    "# from sklearn.cluster import KMeans, AgglomerativeClustering, DBSCAN, SpectralClustering, Birch\n",
    "from sklearn.cluster import KMeans, AgglomerativeClustering, SpectralClustering,\\\n",
    "MeanShift, AffinityPropagation, DBSCAN, OPTICS, Birch\n",
    "from sklearn.metrics import silhouette_score"
   ]
  },
  {
   "cell_type": "code",
   "execution_count": 2,
   "id": "single-laundry",
   "metadata": {
    "tags": []
   },
   "outputs": [],
   "source": [
    "# BIN TECHNIQUE\n",
    "# load pipeline 1 csv and prep for clustering\n",
    "m2_pipeline = pd.read_csv('pipeline1.csv')\n",
    "# change is surge price rate of change per observation, change.1 is precursor\n",
    "# sum_change is surge sum_change per surge, and surge_area is surge alone"
   ]
  },
  {
   "cell_type": "code",
   "execution_count": 3,
   "id": "independent-value",
   "metadata": {},
   "outputs": [
    {
     "data": {
      "text/plain": [
       "group                                           2\n",
       "time                              1660221661058.0\n",
       "s_MP                                        29.99\n",
       "change                                  -0.000633\n",
       "type                                    precursor\n",
       "p_MP                                        29.94\n",
       "precursor_buy_cap_pct_change            -0.000798\n",
       "precursor_ask_cap_pct_change             0.000046\n",
       "precursor_bid_vol_pct_change            -0.000173\n",
       "precursor_ask_vol_pct_change             0.006228\n",
       "length                                          6\n",
       "sum_change                              -0.004876\n",
       "max_surge_mp                                29.99\n",
       "min_surge_mp                                29.99\n",
       "max_precursor_mp                            29.97\n",
       "min_precursor_mp                            29.84\n",
       "area                                    -0.029257\n",
       "surge_targets_met_pct                   -0.066689\n",
       "group.1                                         3\n",
       "time.1                            1660221846604.0\n",
       "s_MP.1                                      29.84\n",
       "change.1                                 0.001039\n",
       "type.1                                      surge\n",
       "p_MP.1                                      29.84\n",
       "precursor_buy_cap_pct_change.1          -0.000798\n",
       "precursor_ask_cap_pct_change.1           0.000046\n",
       "precursor_bid_vol_pct_change.1          -0.000173\n",
       "precursor_ask_vol_pct_change.1           0.006228\n",
       "length.1                                        1\n",
       "sum_change.1                             0.001039\n",
       "max_surge_mp.1                              29.84\n",
       "min_surge_mp.1                              29.84\n",
       "max_precursor_mp.1                          29.84\n",
       "min_precursor_mp.1                          29.84\n",
       "area.1                                   0.001039\n",
       "surge_area                               0.001039\n",
       "surge_targets_met_pct.1                       0.0\n",
       "Name: 0, dtype: object"
      ]
     },
     "execution_count": 3,
     "metadata": {},
     "output_type": "execute_result"
    }
   ],
   "source": [
    "m2_pipeline.iloc[0,:]"
   ]
  },
  {
   "cell_type": "code",
   "execution_count": 4,
   "id": "given-idaho",
   "metadata": {
    "tags": []
   },
   "outputs": [],
   "source": [
    "keepable = ['precursor_buy_cap_pct_change', \n",
    "            'precursor_ask_cap_pct_change',\n",
    "            'precursor_bid_vol_pct_change', \n",
    "            'precursor_ask_vol_pct_change',\n",
    "            'sum_change',\n",
    "            'length',\n",
    "            'surge_targets_met_pct']\n",
    "x = m2_pipeline[['surge_targets_met_pct']].values.astype(float)\n",
    "m2_pipeline = m2_pipeline[keepable]"
   ]
  },
  {
   "cell_type": "code",
   "execution_count": 5,
   "id": "otherwise-infection",
   "metadata": {},
   "outputs": [
    {
     "data": {
      "image/png": "[encoded data removed]",
      "text/plain": [
       "<Figure size 1000x600 with 1 Axes>"
      ]
     },
     "metadata": {},
     "output_type": "display_data"
    }
   ],
   "source": [
    "import scipy.stats as stats\n",
    "import matplotlib.pyplot as plt\n",
    "plt.figure(figsize=(10,6))\n",
    "stats.probplot(m2_pipeline['precursor_buy_cap_pct_change'], dist=\"norm\", plot=plt)\n",
    "plt.title('QQ-plot of column')\n",
    "plt.show()\n"
   ]
  },
  {
   "cell_type": "code",
   "execution_count": 6,
   "id": "bronze-function",
   "metadata": {},
   "outputs": [],
   "source": [
    "bins = [\n",
    "    m2_pipeline['surge_targets_met_pct'].min() -1,  # Min value  # -4 to 0 divided into three equal parts\n",
    "    -4/3,# Second bin edge for negative values\n",
    "    -4/6,\n",
    "    -4/12,\n",
    "    0,\n",
    "    0.125,\n",
    "    0.25, 0.5, 0.75, 1,  # Four bins between 0 and 1\n",
    "    2,  # One bin between 1 and 2\n",
    "    m2_pipeline['surge_targets_met_pct'].max() + 1]\n",
    "bin_labels = list(range(1, len(bins)))"
   ]
  },
  {
   "cell_type": "code",
   "execution_count": 7,
   "id": "finnish-cocktail",
   "metadata": {},
   "outputs": [
    {
     "name": "stdout",
     "output_type": "stream",
     "text": [
      "Bin 1: -5.01 - -1.33\n",
      "Bin 2: -1.33 - -0.67\n",
      "Bin 3: -0.67 - -0.33\n",
      "Bin 4: -0.33 - 0.00\n",
      "Bin 5: 0.00 - 0.12\n",
      "Bin 6: 0.12 - 0.25\n",
      "Bin 7: 0.25 - 0.50\n",
      "Bin 8: 0.50 - 0.75\n",
      "Bin 9: 0.75 - 1.00\n",
      "Bin 10: 1.00 - 2.00\n",
      "Bin 11: 2.00 - 5.97\n"
     ]
    }
   ],
   "source": [
    "for i in range(1, len(bins)):\n",
    "    print(f'Bin {bin_labels[i-1]}: {bins[i-1]:.2f} - {bins[i]:.2f}')"
   ]
  },
  {
   "cell_type": "code",
   "execution_count": 8,
   "id": "cross-ontario",
   "metadata": {},
   "outputs": [],
   "source": [
    "m2_pipeline['label'] = pd.cut(m2_pipeline['surge_targets_met_pct'], bins=bins, labels=bin_labels)"
   ]
  },
  {
   "cell_type": "code",
   "execution_count": 9,
   "id": "5405cb9f-cfa2-44ee-bcf8-845a5bfd9a05",
   "metadata": {
    "tags": []
   },
   "outputs": [],
   "source": [
    "m2_pipeline.to_csv('binned_pipeline.csv')"
   ]
  },
  {
   "cell_type": "markdown",
   "id": "3d5f4762-7027-4dca-879a-ab1bf88dc9a5",
   "metadata": {},
   "source": [
    "### standardize all features pre train/test"
   ]
  },
  {
   "cell_type": "code",
   "execution_count": 10,
   "id": "surprising-migration",
   "metadata": {},
   "outputs": [
    {
     "name": "stdout",
     "output_type": "stream",
     "text": [
      "0\n"
     ]
    }
   ],
   "source": [
    "print(m2_pipeline.isna().sum(axis=1).astype(bool).sum())"
   ]
  },
  {
   "cell_type": "code",
   "execution_count": 11,
   "id": "arranged-lunch",
   "metadata": {
    "tags": []
   },
   "outputs": [],
   "source": [
    "m2_pipeline = m2_pipeline.dropna()\n",
    "\n",
    "# Splitting the dataframe into features and labels\n",
    "X = m2_pipeline[['precursor_buy_cap_pct_change', 'precursor_ask_cap_pct_change','precursor_bid_vol_pct_change',\n",
    "                'precursor_ask_vol_pct_change','sum_change', 'length']]\n",
    "y = m2_pipeline[['surge_targets_met_pct','label']]\n",
    "\n",
    "# Performing the test/train split and standardization\n",
    "X_train, X_test, y_train, y_test = train_test_split(X, y, test_size=0.2, random_state=42)\n",
    "\n",
    "\n",
    "#from sklearn.preprocessing import QuantileTransformer\n",
    "#qt = QuantileTransformer(output_distribution='normal', random_state=0)\n",
    "scaler = StandardScaler()\n",
    "X_train_scaled = scaler.fit_transform(X_train)\n",
    "#X_train_scaled = pd.DataFrame(qt.fit_transform(X_train), columns=X_train.columns)\n",
    "#X_test_scaled = pd.DataFrame(qt.transform(X_test), columns=X_test.columns)"
   ]
  },
  {
   "cell_type": "code",
   "execution_count": 12,
   "id": "smaller-illness",
   "metadata": {},
   "outputs": [],
   "source": [
    "def silhouette_scorer(estimator, X, y=None):\n",
    "    labels = estimator.fit_predict(X)\n",
    "    score = silhouette_score(X, labels)\n",
    "    return score"
   ]
  },
  {
   "cell_type": "code",
   "execution_count": 13,
   "id": "surprising-comparative",
   "metadata": {},
   "outputs": [
    {
     "data": {
      "text/plain": [
       "0.9530143741376165"
      ]
     },
     "execution_count": 13,
     "metadata": {},
     "output_type": "execute_result"
    }
   ],
   "source": [
    "clf = KMeans(n_clusters = 2)\n",
    "clf.fit(X_train_scaled)\n",
    "silhouette_scorer(clf, X_train_scaled, y=None)"
   ]
  },
  {
   "cell_type": "code",
   "execution_count": 14,
   "id": "fuzzy-leave",
   "metadata": {},
   "outputs": [
    {
     "data": {
      "text/plain": [
       "array([0, 0, 0, ..., 0, 0, 0], dtype=int32)"
      ]
     },
     "execution_count": 14,
     "metadata": {},
     "output_type": "execute_result"
    }
   ],
   "source": [
    "clf.labels_"
   ]
  },
  {
   "cell_type": "code",
   "execution_count": 15,
   "id": "negative-attack",
   "metadata": {},
   "outputs": [
    {
     "data": {
      "text/plain": [
       "0.03167632955074607"
      ]
     },
     "execution_count": 15,
     "metadata": {},
     "output_type": "execute_result"
    }
   ],
   "source": [
    "y_train.surge_targets_met_pct.mean()"
   ]
  },
  {
   "cell_type": "code",
   "execution_count": 16,
   "id": "undefined-bunch",
   "metadata": {},
   "outputs": [],
   "source": [
    "def cluster_profitability(model, X, feature_name):\n",
    "    \"\"\"\n",
    "    Compute the profitability score of the clustering model.\n",
    "    \n",
    "    Parameters:\n",
    "    - model: Fitted clustering model\n",
    "    - X: DataFrame, the original data with all features\n",
    "    - feature_name: str, the name of the feature to compute profitability\n",
    "    \n",
    "    Returns:\n",
    "    - score: float, computed profitability score\n",
    "    \"\"\"\n",
    "    labels = model.labels_\n",
    "    df = pd.concat([X.reset_index(drop=True), pd.Series(labels, name='Cluster_Label')], axis=1)\n",
    "    cluster_means = df.groupby('Cluster_Label')[feature_name].mean()\n",
    "    \n",
    "    # Custom scoring logic here. \n",
    "    score = cluster_means.std()  # Standard deviation between cluster means\n",
    "    \n",
    "    return score\n"
   ]
  },
  {
   "cell_type": "code",
   "execution_count": 17,
   "id": "mechanical-tension",
   "metadata": {},
   "outputs": [
    {
     "data": {
      "text/plain": [
       "1.1949376438269113"
      ]
     },
     "execution_count": 17,
     "metadata": {},
     "output_type": "execute_result"
    }
   ],
   "source": [
    "cluster_profitability(clf, y_train, 'surge_targets_met_pct')"
   ]
  },
  {
   "cell_type": "code",
   "execution_count": 18,
   "id": "becoming-hungary",
   "metadata": {},
   "outputs": [
    {
     "name": "stdout",
     "output_type": "stream",
     "text": [
      "KMeans with 2 clusters:\n",
      "Silhouette score: 0.9530\n",
      "Profitability score: 1.1949\n",
      "\n",
      "KMeans with 3 clusters:\n",
      "Silhouette score: 0.8075\n",
      "Profitability score: 0.9617\n",
      "\n",
      "KMeans with 4 clusters:\n",
      "Silhouette score: 0.7796\n",
      "Profitability score: 0.8251\n",
      "\n",
      "KMeans with 5 clusters:\n",
      "Silhouette score: 0.5369\n",
      "Profitability score: 0.7405\n",
      "\n",
      "KMeans with 6 clusters:\n",
      "Silhouette score: 0.5423\n",
      "Profitability score: 0.6700\n",
      "\n",
      "KMeans with 7 clusters:\n",
      "Silhouette score: 0.5142\n",
      "Profitability score: 0.6197\n",
      "\n",
      "KMeans with 8 clusters:\n",
      "Silhouette score: 0.5184\n",
      "Profitability score: 0.5862\n",
      "\n",
      "KMeans with 9 clusters:\n",
      "Silhouette score: 0.4580\n",
      "Profitability score: 0.5547\n",
      "\n",
      "KMeans with 10 clusters:\n",
      "Silhouette score: 0.4609\n",
      "Profitability score: 0.5238\n",
      "\n",
      "Birch with 2 clusters:\n",
      "Silhouette score: 0.9530\n",
      "Profitability score: 1.1949\n",
      "\n",
      "Birch with 3 clusters:\n",
      "Silhouette score: 0.8100\n",
      "Profitability score: 0.9591\n",
      "\n",
      "Birch with 4 clusters:\n",
      "Silhouette score: 0.8144\n",
      "Profitability score: 0.8103\n",
      "\n",
      "Birch with 5 clusters:\n",
      "Silhouette score: 0.5810\n",
      "Profitability score: 0.7339\n",
      "\n",
      "Birch with 6 clusters:\n",
      "Silhouette score: 0.5836\n",
      "Profitability score: 0.6725\n",
      "\n",
      "Birch with 7 clusters:\n",
      "Silhouette score: 0.5650\n",
      "Profitability score: 0.6181\n",
      "\n",
      "Birch with 8 clusters:\n",
      "Silhouette score: 0.5662\n",
      "Profitability score: 0.5880\n",
      "\n",
      "Birch with 9 clusters:\n",
      "Silhouette score: 0.5671\n",
      "Profitability score: 0.5579\n",
      "\n",
      "Birch with 10 clusters:\n",
      "Silhouette score: 0.5733\n",
      "Profitability score: 0.5311\n",
      "\n",
      "Hierarchical with 2 clusters:\n",
      "Silhouette score: 0.9530\n",
      "Profitability score: 1.1949\n",
      "\n",
      "Hierarchical with 3 clusters:\n",
      "Silhouette score: 0.8143\n",
      "Profitability score: 0.9453\n",
      "\n",
      "Hierarchical with 4 clusters:\n",
      "Silhouette score: 0.7072\n",
      "Profitability score: 0.8237\n",
      "\n",
      "Hierarchical with 5 clusters:\n",
      "Silhouette score: 0.4940\n",
      "Profitability score: 0.7403\n",
      "\n",
      "Hierarchical with 6 clusters:\n",
      "Silhouette score: 0.5012\n",
      "Profitability score: 0.6709\n",
      "\n",
      "Hierarchical with 7 clusters:\n",
      "Silhouette score: 0.5003\n",
      "Profitability score: 0.6246\n",
      "\n",
      "Hierarchical with 8 clusters:\n",
      "Silhouette score: 0.5020\n",
      "Profitability score: 0.5921\n",
      "\n",
      "Hierarchical with 9 clusters:\n",
      "Silhouette score: 0.4831\n",
      "Profitability score: 0.5600\n",
      "\n",
      "Hierarchical with 10 clusters:\n",
      "Silhouette score: 0.4869\n",
      "Profitability score: 0.5299\n",
      "\n"
     ]
    }
   ],
   "source": [
    "# Define a range for n_clusters\n",
    "n_clusters_options = [2, 3, 4, 5, 6, 7, 8, 9, 10]\n",
    "\n",
    "# Define your models\n",
    "clustering_models = [\n",
    "    ('KMeans', KMeans()),\n",
    "    ('Birch', Birch()),\n",
    "    ('Hierarchical', AgglomerativeClustering())\n",
    "]\n",
    "\n",
    "results_df = pd.DataFrame(columns=['algo', 'n_clusters', 'score', 'profit'])\n",
    "\n",
    "# Loop over the models\n",
    "for model_name, model in clustering_models:\n",
    "    # Loop over the n_clusters options\n",
    "    for n_clusters in n_clusters_options:\n",
    "        # Set the number of clusters and fit the model\n",
    "        model.set_params(n_clusters=n_clusters)\n",
    "        labels = model.fit_predict(X_train_scaled)\n",
    "\n",
    "        # Evaluate using the silhouette score\n",
    "        score = silhouette_score(X_train_scaled, labels)\n",
    "        # Compute profitability score\n",
    "        profit = cluster_profitability(model, y_train, 'surge_targets_met_pct')\n",
    "\n",
    "        # Store the best parameters, model, and score\n",
    "        print(f'{model_name} with {n_clusters} clusters:')\n",
    "        print(f'Silhouette score: {score:.4f}')\n",
    "        print(f'Profitability score: {profit:.4f}\\n')\n",
    "\n",
    "        \n",
    "        results_df = results_df.append({\n",
    "            'algo': model_name, \n",
    "            'n_clusters': n_clusters, \n",
    "            'score': score,\n",
    "            'profit': profit\n",
    "        }, ignore_index=True)\n",
    "        \n",
    " "
   ]
  },
  {
   "cell_type": "code",
   "execution_count": 19,
   "id": "functioning-cyprus",
   "metadata": {},
   "outputs": [],
   "source": [
    "clustering_models = [\n",
    "    ('Meanshift',  MeanShift( bandwidth=None, seeds=None, bin_seeding=False, min_bin_freq=1, cluster_all=True, n_jobs=None, max_iter=300)),\n",
    "    ('AffinityPropagation', AffinityPropagation( damping=0.5, max_iter=200, convergence_iter=15, copy=True, preference=None, affinity='euclidean', verbose=False, random_state=42)),\n",
    "    ('DBSCAN', DBSCAN(eps=0.5, min_samples=5, metric='euclidean', metric_params=None, algorithm='auto', leaf_size=30, p=None, n_jobs=None)),\n",
    "    ('OPTICS', OPTICS( min_samples=5, max_eps=3, metric='minkowski', p=2, metric_params=None, cluster_method='xi', eps=None, xi=0.05, predecessor_correction=True, min_cluster_size=None, algorithm='auto', leaf_size=30, n_jobs=None))]"
   ]
  },
  {
   "cell_type": "code",
   "execution_count": 20,
   "id": "06622dc5-9e4d-4430-8fbe-15cfc8986f24",
   "metadata": {},
   "outputs": [
    {
     "ename": "SyntaxError",
     "evalue": "invalid syntax (759517116.py, line 7)",
     "output_type": "error",
     "traceback": [
      "\u001b[0;36m  File \u001b[0;32m\"/var/folders/kb/lywcv5sj44b9zmvpw2h42c2m0000gn/T/ipykernel_23528/759517116.py\"\u001b[0;36m, line \u001b[0;32m7\u001b[0m\n\u001b[0;31m    if n_clusters_ > 1:\u001b[0m\n\u001b[0m                      ^\u001b[0m\n\u001b[0;31mSyntaxError\u001b[0m\u001b[0;31m:\u001b[0m invalid syntax\n"
     ]
    }
   ],
   "source": [
    "\n",
    "# Loop over the models\n",
    "for model_name, model in clustering_models:\n",
    "\n",
    "    labels = model.fit_predict(X_train_scaled)\n",
    "    n_clusters_ = len(set(labels)\n",
    "    # Evaluate using the silhouette score\n",
    "    if n_clusters_ > 1:\n",
    "        # Evaluate using the silhouette score\n",
    "        score = silhouette_score(X_train_scaled, labels)\n",
    "        profit = cluster_profitability(model, y_train, 'surge_targets_met_pct')\n",
    "    else:\n",
    "        score = None  # or another indicator value, or you might log/print a message and continue\n",
    "    # Compute profitability score\n",
    "        profit =  None \n",
    "    # Store the best parameters, model, and score\n",
    "    print(f'{model_name} with {n_clusters} clusters:')\n",
    "    if n_clusters_ > 1:\n",
    "        print(f'Silhouette score: {score:.4f}')\n",
    "        print(f'Profitability score: {profit:.4f}\\n')\n",
    "\n",
    "\n",
    "    results_df = results_df.append({\n",
    "        'algo': model_name, \n",
    "        'n_clusters': n_clusters, \n",
    "        'score': score,\n",
    "        'profit': profit\n",
    "    }, ignore_index=True)\n",
    "        \n",
    " "
   ]
  },
  {
   "cell_type": "code",
   "execution_count": null,
   "id": "premium-wayne",
   "metadata": {},
   "outputs": [
    {
     "data": {
      "text/html": [
       "<div>\n",
       "<style scoped>\n",
       "    .dataframe tbody tr th:only-of-type {\n",
       "        vertical-align: middle;\n",
       "    }\n",
       "\n",
       "    .dataframe tbody tr th {\n",
       "        vertical-align: top;\n",
       "    }\n",
       "\n",
       "    .dataframe thead th {\n",
       "        text-align: right;\n",
       "    }\n",
       "</style>\n",
       "<table border=\"1\" class=\"dataframe\">\n",
       "  <thead>\n",
       "    <tr style=\"text-align: right;\">\n",
       "      <th></th>\n",
       "      <th>algo</th>\n",
       "      <th>n_clusters</th>\n",
       "      <th>score</th>\n",
       "      <th>profit</th>\n",
       "    </tr>\n",
       "  </thead>\n",
       "  <tbody>\n",
       "    <tr>\n",
       "      <th>27</th>\n",
       "      <td>Meanshift</td>\n",
       "      <td>10</td>\n",
       "      <td>0.477647</td>\n",
       "      <td>0.422803</td>\n",
       "    </tr>\n",
       "    <tr>\n",
       "      <th>14</th>\n",
       "      <td>Birch</td>\n",
       "      <td>7</td>\n",
       "      <td>0.73976</td>\n",
       "      <td>0.217987</td>\n",
       "    </tr>\n",
       "    <tr>\n",
       "      <th>16</th>\n",
       "      <td>Birch</td>\n",
       "      <td>9</td>\n",
       "      <td>0.563139</td>\n",
       "      <td>0.207827</td>\n",
       "    </tr>\n",
       "    <tr>\n",
       "      <th>5</th>\n",
       "      <td>KMeans</td>\n",
       "      <td>7</td>\n",
       "      <td>0.511235</td>\n",
       "      <td>0.204077</td>\n",
       "    </tr>\n",
       "    <tr>\n",
       "      <th>15</th>\n",
       "      <td>Birch</td>\n",
       "      <td>8</td>\n",
       "      <td>0.562683</td>\n",
       "      <td>0.20353</td>\n",
       "    </tr>\n",
       "    <tr>\n",
       "      <th>17</th>\n",
       "      <td>Birch</td>\n",
       "      <td>10</td>\n",
       "      <td>0.563539</td>\n",
       "      <td>0.201124</td>\n",
       "    </tr>\n",
       "    <tr>\n",
       "      <th>25</th>\n",
       "      <td>Hierarchical</td>\n",
       "      <td>9</td>\n",
       "      <td>0.460035</td>\n",
       "      <td>0.19559</td>\n",
       "    </tr>\n",
       "    <tr>\n",
       "      <th>7</th>\n",
       "      <td>KMeans</td>\n",
       "      <td>9</td>\n",
       "      <td>0.52576</td>\n",
       "      <td>0.187796</td>\n",
       "    </tr>\n",
       "    <tr>\n",
       "      <th>26</th>\n",
       "      <td>Hierarchical</td>\n",
       "      <td>10</td>\n",
       "      <td>0.457981</td>\n",
       "      <td>0.185215</td>\n",
       "    </tr>\n",
       "    <tr>\n",
       "      <th>8</th>\n",
       "      <td>KMeans</td>\n",
       "      <td>10</td>\n",
       "      <td>0.500212</td>\n",
       "      <td>0.178062</td>\n",
       "    </tr>\n",
       "    <tr>\n",
       "      <th>2</th>\n",
       "      <td>KMeans</td>\n",
       "      <td>4</td>\n",
       "      <td>0.813111</td>\n",
       "      <td>0.154526</td>\n",
       "    </tr>\n",
       "    <tr>\n",
       "      <th>10</th>\n",
       "      <td>Birch</td>\n",
       "      <td>3</td>\n",
       "      <td>0.850691</td>\n",
       "      <td>0.152463</td>\n",
       "    </tr>\n",
       "    <tr>\n",
       "      <th>19</th>\n",
       "      <td>Hierarchical</td>\n",
       "      <td>3</td>\n",
       "      <td>0.850691</td>\n",
       "      <td>0.152463</td>\n",
       "    </tr>\n",
       "    <tr>\n",
       "      <th>22</th>\n",
       "      <td>Hierarchical</td>\n",
       "      <td>6</td>\n",
       "      <td>0.412957</td>\n",
       "      <td>0.148542</td>\n",
       "    </tr>\n",
       "    <tr>\n",
       "      <th>13</th>\n",
       "      <td>Birch</td>\n",
       "      <td>6</td>\n",
       "      <td>0.739571</td>\n",
       "      <td>0.14581</td>\n",
       "    </tr>\n",
       "    <tr>\n",
       "      <th>21</th>\n",
       "      <td>Hierarchical</td>\n",
       "      <td>5</td>\n",
       "      <td>0.410249</td>\n",
       "      <td>0.141597</td>\n",
       "    </tr>\n",
       "    <tr>\n",
       "      <th>4</th>\n",
       "      <td>KMeans</td>\n",
       "      <td>6</td>\n",
       "      <td>0.533422</td>\n",
       "      <td>0.137213</td>\n",
       "    </tr>\n",
       "    <tr>\n",
       "      <th>23</th>\n",
       "      <td>Hierarchical</td>\n",
       "      <td>7</td>\n",
       "      <td>0.419866</td>\n",
       "      <td>0.135667</td>\n",
       "    </tr>\n",
       "    <tr>\n",
       "      <th>20</th>\n",
       "      <td>Hierarchical</td>\n",
       "      <td>4</td>\n",
       "      <td>0.403612</td>\n",
       "      <td>0.132611</td>\n",
       "    </tr>\n",
       "    <tr>\n",
       "      <th>11</th>\n",
       "      <td>Birch</td>\n",
       "      <td>4</td>\n",
       "      <td>0.758282</td>\n",
       "      <td>0.131287</td>\n",
       "    </tr>\n",
       "    <tr>\n",
       "      <th>3</th>\n",
       "      <td>KMeans</td>\n",
       "      <td>5</td>\n",
       "      <td>0.526756</td>\n",
       "      <td>0.129374</td>\n",
       "    </tr>\n",
       "    <tr>\n",
       "      <th>24</th>\n",
       "      <td>Hierarchical</td>\n",
       "      <td>8</td>\n",
       "      <td>0.45984</td>\n",
       "      <td>0.125746</td>\n",
       "    </tr>\n",
       "    <tr>\n",
       "      <th>12</th>\n",
       "      <td>Birch</td>\n",
       "      <td>5</td>\n",
       "      <td>0.765198</td>\n",
       "      <td>0.123945</td>\n",
       "    </tr>\n",
       "    <tr>\n",
       "      <th>6</th>\n",
       "      <td>KMeans</td>\n",
       "      <td>8</td>\n",
       "      <td>0.56422</td>\n",
       "      <td>0.113891</td>\n",
       "    </tr>\n",
       "    <tr>\n",
       "      <th>30</th>\n",
       "      <td>OPTICS</td>\n",
       "      <td>10</td>\n",
       "      <td>-0.576019</td>\n",
       "      <td>0.111393</td>\n",
       "    </tr>\n",
       "    <tr>\n",
       "      <th>29</th>\n",
       "      <td>DBSCAN</td>\n",
       "      <td>10</td>\n",
       "      <td>0.441303</td>\n",
       "      <td>0.098936</td>\n",
       "    </tr>\n",
       "    <tr>\n",
       "      <th>0</th>\n",
       "      <td>KMeans</td>\n",
       "      <td>2</td>\n",
       "      <td>0.888867</td>\n",
       "      <td>0.034577</td>\n",
       "    </tr>\n",
       "    <tr>\n",
       "      <th>1</th>\n",
       "      <td>KMeans</td>\n",
       "      <td>3</td>\n",
       "      <td>0.81207</td>\n",
       "      <td>0.029921</td>\n",
       "    </tr>\n",
       "    <tr>\n",
       "      <th>18</th>\n",
       "      <td>Hierarchical</td>\n",
       "      <td>2</td>\n",
       "      <td>0.869585</td>\n",
       "      <td>0.008961</td>\n",
       "    </tr>\n",
       "    <tr>\n",
       "      <th>9</th>\n",
       "      <td>Birch</td>\n",
       "      <td>2</td>\n",
       "      <td>0.869585</td>\n",
       "      <td>0.008961</td>\n",
       "    </tr>\n",
       "    <tr>\n",
       "      <th>28</th>\n",
       "      <td>AffinityPropagation</td>\n",
       "      <td>10</td>\n",
       "      <td>None</td>\n",
       "      <td>None</td>\n",
       "    </tr>\n",
       "  </tbody>\n",
       "</table>\n",
       "</div>"
      ],
      "text/plain": [
       "                   algo n_clusters     score    profit\n",
       "27            Meanshift         10  0.477647  0.422803\n",
       "14                Birch          7   0.73976  0.217987\n",
       "16                Birch          9  0.563139  0.207827\n",
       "5                KMeans          7  0.511235  0.204077\n",
       "15                Birch          8  0.562683   0.20353\n",
       "17                Birch         10  0.563539  0.201124\n",
       "25         Hierarchical          9  0.460035   0.19559\n",
       "7                KMeans          9   0.52576  0.187796\n",
       "26         Hierarchical         10  0.457981  0.185215\n",
       "8                KMeans         10  0.500212  0.178062\n",
       "2                KMeans          4  0.813111  0.154526\n",
       "10                Birch          3  0.850691  0.152463\n",
       "19         Hierarchical          3  0.850691  0.152463\n",
       "22         Hierarchical          6  0.412957  0.148542\n",
       "13                Birch          6  0.739571   0.14581\n",
       "21         Hierarchical          5  0.410249  0.141597\n",
       "4                KMeans          6  0.533422  0.137213\n",
       "23         Hierarchical          7  0.419866  0.135667\n",
       "20         Hierarchical          4  0.403612  0.132611\n",
       "11                Birch          4  0.758282  0.131287\n",
       "3                KMeans          5  0.526756  0.129374\n",
       "24         Hierarchical          8   0.45984  0.125746\n",
       "12                Birch          5  0.765198  0.123945\n",
       "6                KMeans          8   0.56422  0.113891\n",
       "30               OPTICS         10 -0.576019  0.111393\n",
       "29               DBSCAN         10  0.441303  0.098936\n",
       "0                KMeans          2  0.888867  0.034577\n",
       "1                KMeans          3   0.81207  0.029921\n",
       "18         Hierarchical          2  0.869585  0.008961\n",
       "9                 Birch          2  0.869585  0.008961\n",
       "28  AffinityPropagation         10      None      None"
      ]
     },
     "execution_count": 104,
     "metadata": {},
     "output_type": "execute_result"
    }
   ],
   "source": [
    "sorted_df = results_df.sort_values(by='profit', ascending=False)\n",
    "sorted_df"
   ]
  },
  {
   "cell_type": "code",
   "execution_count": null,
   "id": "sought-happening",
   "metadata": {},
   "outputs": [],
   "source": [
    "clf = Birch(n_clusters = 7)\n",
    "labels = clf.fit_predict(X_train_scaled)\n"
   ]
  },
  {
   "cell_type": "code",
   "execution_count": null,
   "id": "magnetic-familiar",
   "metadata": {},
   "outputs": [
    {
     "data": {
      "text/plain": [
       "7"
      ]
     },
     "execution_count": 114,
     "metadata": {},
     "output_type": "execute_result"
    }
   ],
   "source": [
    "len(set(labels)) - (1 if -1 in labels else 0)"
   ]
  },
  {
   "cell_type": "code",
   "execution_count": null,
   "id": "ahead-syndrome",
   "metadata": {},
   "outputs": [],
   "source": [
    "df = pd.concat([y_train.reset_index(drop=True), pd.Series(labels, name='Cluster_Label')], axis=1)\n",
    "cluster_means = df.groupby('Cluster_Label')['surge_targets_met_pct'].mean()\n",
    "    \n",
    "# Custom scoring logic here. \n",
    "score = cluster_means.std()  # Standard deviation between cluster means\n",
    "    "
   ]
  },
  {
   "cell_type": "code",
   "execution_count": null,
   "id": "italian-jonathan",
   "metadata": {},
   "outputs": [
    {
     "data": {
      "text/plain": [
       "Cluster_Label\n",
       "0    0.020329\n",
       "1   -0.038373\n",
       "2    0.064452\n",
       "3   -0.137443\n",
       "4    0.086935\n",
       "5    0.218863\n",
       "6   -0.462012\n",
       "Name: surge_targets_met_pct, dtype: float64"
      ]
     },
     "execution_count": 116,
     "metadata": {},
     "output_type": "execute_result"
    }
   ],
   "source": [
    "cluster_means"
   ]
  },
  {
   "cell_type": "code",
   "execution_count": null,
   "id": "permanent-stream",
   "metadata": {},
   "outputs": [
    {
     "data": {
      "text/plain": [
       "7     12\n",
       "4      6\n",
       "3      5\n",
       "6      5\n",
       "10     3\n",
       "5      2\n",
       "8      2\n",
       "9      1\n",
       "1      0\n",
       "2      0\n",
       "11     0\n",
       "Name: label, dtype: int64"
      ]
     },
     "execution_count": 117,
     "metadata": {},
     "output_type": "execute_result"
    }
   ],
   "source": [
    "df[df['Cluster_Label'] == 5]['label'].value_counts()"
   ]
  },
  {
   "cell_type": "code",
   "execution_count": null,
   "id": "respiratory-movement",
   "metadata": {},
   "outputs": [],
   "source": [
    "# chose model to precede with and use the cluster labels as output into csv."
   ]
  },
  {
   "cell_type": "markdown",
   "id": "third-router",
   "metadata": {},
   "source": [
    "#### BELOW THIS LINE DEPPRECIATED FOR NOW"
   ]
  },
  {
   "cell_type": "markdown",
   "id": "d09f98f9-92de-453e-bf8d-72961c698a2d",
   "metadata": {},
   "source": [
    "## explore top results by cluster quality scoring\n",
    "\n",
    "use silhouette viz\n",
    "\n",
    "then davies\n",
    "\n",
    "then kolmogorov"
   ]
  },
  {
   "cell_type": "code",
   "execution_count": null,
   "id": "bd096ad6-dba8-4226-be34-4002f520c6f3",
   "metadata": {},
   "outputs": [],
   "source": [
    "#charting silhouettes\n",
    "import matplotlib.pyplot as plt\n",
    "import numpy as np\n",
    "from sklearn.metrics import silhouette_samples, silhouette_score\n",
    "\n",
    "# Calculate the silhouette scores for each sample\n",
    "silhouette_values = silhouette_samples(X, labels)\n",
    "\n",
    "# Calculate the average silhouette score\n",
    "average_score = silhouette_score(X, labels)\n",
    "\n",
    "# Plot the silhouette chart\n",
    "fig, ax = plt.subplots()\n",
    "y_lower = 10\n",
    "\n",
    "for i in range(n_clusters):\n",
    "    # Aggregate the silhouette scores for samples in cluster i and sort them\n",
    "    ith_cluster_silhouette_values = silhouette_values[labels == i]\n",
    "    ith_cluster_silhouette_values.sort()\n",
    "\n",
    "    size_cluster_i = ith_cluster_silhouette_values.shape[0]\n",
    "    y_upper = y_lower + size_cluster_i\n",
    "\n",
    "    # Fill the silhouette chart with the corresponding color\n",
    "    color = cm.nipy_spectral(float(i) / n_clusters)\n",
    "    ax.fill_betweenx(np.arange(y_lower, y_upper), 0, ith_cluster_silhouette_values, facecolor=color, edgecolor=color, alpha=0.7)\n",
    "\n",
    "    # Label each cluster with its silhouette score\n",
    "    ax.text(-0.05, y_lower + 0.5 * size_cluster_i, str(i))\n",
    "    \n",
    "    # Compute the new y_lower for next plot\n",
    "    y_lower = y_upper + 10\n",
    "\n",
    "ax.set_xlabel(\"Silhouette coefficient values\")\n",
    "ax.set_ylabel(\"Cluster label\")\n",
    "\n",
    "# The vertical line indicates the average silhouette score\n",
    "ax.axvline(x=average_score, color=\"red\", linestyle=\"--\")\n",
    "\n",
    "plt.show()\n"
   ]
  },
  {
   "cell_type": "markdown",
   "id": "938c7312-02c2-4b6b-af2f-9f044b677acb",
   "metadata": {},
   "source": [
    "## top method hyperparameter optimization\n",
    "take the top technique by silhouette then dive into a fuller exploration of its specific hyperparameters"
   ]
  },
  {
   "cell_type": "code",
   "execution_count": null,
   "id": "5987147d-516e-4e6d-8990-59f2d27a2379",
   "metadata": {},
   "outputs": [],
   "source": [
    "from sklearn.cluster import SpectralClustering\n",
    "from sklearn.model_selection import RandomizedSearchCV\n",
    "\n",
    "param_distributions = {\n",
    "    'n_clusters': [2, 3, 4],\n",
    "    'affinity': ['nearest_neighbors', 'rbf'],\n",
    "    'gamma': [0.1, 1.0, 10.0]\n",
    "}\n",
    "\n",
    "clustering = SpectralClustering()\n",
    "random_search = RandomizedSearchCV(clustering, param_distributions)\n",
    "random_search.fit(X)\n"
   ]
  },
  {
   "cell_type": "markdown",
   "id": "2c4b99ad-37c5-4d5f-8007-5bffa28473c7",
   "metadata": {},
   "source": [
    "## estimate the model accuracy, givne best hyperparameters"
   ]
  },
  {
   "cell_type": "code",
   "execution_count": null,
   "id": "48f8d6b0-fe5b-401a-ba7f-2f54e479f8a7",
   "metadata": {},
   "outputs": [],
   "source": [
    "#use best model:\n",
    "from sklearn.model_selection import train_test_split\n",
    "from sklearn.cluster import SpectralClustering\n",
    "from sklearn.metrics import accuracy_score\n",
    "X = m2_pipeline.drop(columns=['bin'])\n",
    "y = m2_pipeline['bin']\n",
    "# Splitting the dataset into train and test sets\n",
    "\n",
    "#USE STANDARD SCALING ONCE YOU DIVDE TEST AND TRAIN NOT BEFORE\n",
    "X_train, X_test, y_train, y_test = train_test_split(X, y, test_size=0.2, random_state=42)\n",
    "\n",
    "# Creating an instance of SpectralClustering\n",
    "model = SpectralClustering(n_clusters=7)\n",
    "\n",
    "# Fitting the model to the training data\n",
    "model.fit_predict(X_train)\n",
    "\n",
    "# Predicting labels for the testing data\n",
    "y_pred = model.predict(X_test)\n",
    "\n",
    "# Calculating the accuracy score\n",
    "accuracy = accuracy_score(y_test, y_pred)\n"
   ]
  },
  {
   "cell_type": "code",
   "execution_count": null,
   "id": "turkish-midwest",
   "metadata": {},
   "outputs": [],
   "source": [
    "def silhouette_scorer(estimator, X, y=None):\n",
    "    labels = estimator.fit_predict(X)\n",
    "    score = silhouette_score(X, labels)\n",
    "    return score\n",
    "# Defining the parameter grid for GridSearchCV\n",
    "param_grid = {'n_clusters': [2,3,4,5,6,7,8,9,10]}  #'algorithm': ['auto', 'full', 'elkan']\n",
    "\n",
    "clustering_models = [\n",
    "    ('KMeans', KMeans()),\n",
    "    ('Birch', Birch()),\n",
    "    ('Hierarchical',AgglomerativeClustering())]\n",
    "# Performing GridSearchCV for each clustering model\n",
    "for model_name, model in clustering_models:\n",
    "    grid_search = GridSearchCV(model, param_grid, scoring=silhouette_scorer)\n",
    "    grid_search.fit(X_train_scaled)\n",
    "    # Evaluating the best model based on silhouette score\n",
    "    best_model = grid_search.best_estimator_\n",
    "    best_score = grid_search.best_score_\n",
    "    print(f'{model_name}:')\n",
    "    print(f'Best parameters: {grid_search.best_params_}')\n",
    "    print(f'Silhouette score (train): {best_score:.4f}')\n",
    "    best_params = grid_search.best_params_\n",
    "    pkg = {\"algo\": model_name, \"best_params\": grid_search.best_params_,\n",
    "        \"best_estimator\": grid_search.best_estimator_,\n",
    "        \"best_score\": best_score} \n",
    "    # # Add the cluster label as a new column\n",
    "    #method_df = X_train_scaled\n",
    "    #method_df['label'] = y_train\n",
    "    #method_df['cluster_label'] = best_model.labels_\n",
    "\n",
    "    #now = datetime.datetime.now()\n",
    "    #print(\"Current date and time: \")\n",
    "    #print(now.strftime(\"%Y-%m-%d %H:%M:%S\"))\n",
    "    #run_time = now.strftime(\"%Y-%m-%d %H:%M:%S\")\n",
    "    #file_name = 'clustered/'+ 'clustered_'+ model_name+' _'+ run_time+ '.csv'\n",
    "    #print(file_name)\n",
    "    #method_df.to_csv(file_name)\n",
    "    # print(pkg)\n",
    "    global_test_results.append(pkg)\n",
    " "
   ]
  }
 ],
 "metadata": {
  "kernelspec": {
   "display_name": "Python 3 (ipykernel)",
   "language": "python",
   "name": "python3"
  },
  "language_info": {
   "codemirror_mode": {
    "name": "ipython",
    "version": 3
   },
   "file_extension": ".py",
   "mimetype": "text/x-python",
   "name": "python",
   "nbconvert_exporter": "python",
   "pygments_lexer": "ipython3",
   "version": "3.11.4"
  }
 },
 "nbformat": 4,
 "nbformat_minor": 5
}
