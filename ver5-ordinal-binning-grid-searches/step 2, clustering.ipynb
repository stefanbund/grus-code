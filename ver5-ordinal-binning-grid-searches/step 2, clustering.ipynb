{
 "cells": [
  {
   "cell_type": "markdown",
   "id": "5d7c5d04-6844-47bc-b7ab-15572b05d1d2",
   "metadata": {},
   "source": [
    "## Cluster Technique Search and Accuracy Test"
   ]
  },
  {
   "cell_type": "markdown",
   "id": "every-madrid",
   "metadata": {},
   "source": [
    "Adding in length it matters. Go back at into preprocessing and instead of taking the first value we need to group by and take the sum of each group instead. This is what causes the miss alignment in precursor statistics for the surge in that sequence. Could be affecting our clustering data. "
   ]
  },
  {
   "cell_type": "markdown",
   "id": "dress-longitude",
   "metadata": {},
   "source": [
    "Checklist\n",
    "- run with standard scaler instead\n",
    "- add in implementation of bin scoring \n",
    "- check other cluster scoring methodologies instead of silhoutte \n",
    "- check other clustering options\n",
    "- maybe do a grid search of each indivdual methodology instead "
   ]
  },
  {
   "cell_type": "markdown",
   "id": "natural-factory",
   "metadata": {},
   "source": [
    "No quantile standard scalar is much better"
   ]
  },
  {
   "cell_type": "code",
   "execution_count": 18,
   "id": "6873776c-9e64-4e97-83ba-a1c93e578d8d",
   "metadata": {
    "tags": []
   },
   "outputs": [],
   "source": [
    "import pandas as pd\n",
    "# from sklearn.cluster import KMeans\n",
    "from sklearn.model_selection import GridSearchCV\n",
    "import sklearn.metrics\n",
    "import numpy as np\n",
    "from sklearn import preprocessing\n",
    "from sklearn.preprocessing import StandardScaler\n",
    "import datetime\n",
    "\n",
    "#SPECIFIED CLUSTER DISCOVERY\n",
    "# from sklearn.preprocessing import StandardScaler\n",
    "from sklearn.model_selection import train_test_split\n",
    "# from sklearn.model_selection import GridSearchCV\n",
    "# from sklearn.cluster import KMeans, AgglomerativeClustering, DBSCAN, SpectralClustering, Birch\n",
    "from sklearn.cluster import KMeans, AgglomerativeClustering, SpectralClustering,\\\n",
    "MeanShift, AffinityPropagation, DBSCAN, OPTICS, Birch\n",
    "from sklearn.metrics import silhouette_score"
   ]
  },
  {
   "cell_type": "code",
   "execution_count": 19,
   "id": "single-laundry",
   "metadata": {
    "tags": []
   },
   "outputs": [],
   "source": [
    "# BIN TECHNIQUE\n",
    "# load pipeline 1 csv and prep for clustering\n",
    "m2_pipeline = pd.read_csv('pipeline1.csv')\n",
    "# change is surge price rate of change per observation, change.1 is precursor\n",
    "# sum_change is surge sum_change per surge, and surge_area is surge alone"
   ]
  },
  {
   "cell_type": "code",
   "execution_count": 20,
   "id": "independent-value",
   "metadata": {},
   "outputs": [
    {
     "data": {
      "text/plain": [
       "group                                           2\n",
       "time                              1660221654244.0\n",
       "s_MP                                         30.0\n",
       "change                                  -0.000533\n",
       "type                                    precursor\n",
       "p_MP                                        29.98\n",
       "precursor_buy_cap_pct_change            -0.000044\n",
       "precursor_ask_cap_pct_change            -0.000004\n",
       "precursor_bid_vol_pct_change            -0.000017\n",
       "precursor_ask_vol_pct_change            -0.000351\n",
       "length                                          6\n",
       "sum_change                               -0.00501\n",
       "max_surge_mp                                 30.0\n",
       "min_surge_mp                                 30.0\n",
       "max_precursor_mp                            29.98\n",
       "min_precursor_mp                            29.85\n",
       "area                                    -0.030057\n",
       "surge_targets_met_pct                   -0.066667\n",
       "group.1                                         3\n",
       "time.1                            1660221833233.0\n",
       "s_MP.1                                      29.86\n",
       "change.1                                  0.00067\n",
       "type.1                                      surge\n",
       "p_MP.1                                      29.85\n",
       "precursor_buy_cap_pct_change.1          -0.000044\n",
       "precursor_ask_cap_pct_change.1          -0.000004\n",
       "precursor_bid_vol_pct_change.1          -0.000017\n",
       "precursor_ask_vol_pct_change.1          -0.000351\n",
       "length.1                                        1\n",
       "sum_change.1                              0.00067\n",
       "max_surge_mp.1                              29.86\n",
       "min_surge_mp.1                              29.86\n",
       "max_precursor_mp.1                          29.85\n",
       "min_precursor_mp.1                          29.85\n",
       "area.1                                    0.00067\n",
       "surge_area                                0.00067\n",
       "surge_targets_met_pct.1                  -0.03349\n",
       "Name: 0, dtype: object"
      ]
     },
     "execution_count": 20,
     "metadata": {},
     "output_type": "execute_result"
    }
   ],
   "source": [
    "m2_pipeline.iloc[0,:]"
   ]
  },
  {
   "cell_type": "code",
   "execution_count": 21,
   "id": "given-idaho",
   "metadata": {
    "tags": []
   },
   "outputs": [],
   "source": [
    "keepable = ['precursor_buy_cap_pct_change', \n",
    "            'precursor_ask_cap_pct_change',\n",
    "            'precursor_bid_vol_pct_change', \n",
    "            'precursor_ask_vol_pct_change',\n",
    "            'sum_change',\n",
    "            'length',\n",
    "            'surge_targets_met_pct']\n",
    "x = m2_pipeline[['surge_targets_met_pct']].values.astype(float)\n",
    "m2_pipeline = m2_pipeline[keepable]"
   ]
  },
  {
   "cell_type": "code",
   "execution_count": 22,
   "id": "otherwise-infection",
   "metadata": {},
   "outputs": [
    {
     "data": {
      "image/png": "[encoded data removed]",
      "text/plain": [
       "<Figure size 1000x600 with 1 Axes>"
      ]
     },
     "metadata": {},
     "output_type": "display_data"
    }
   ],
   "source": [
    "import scipy.stats as stats\n",
    "import matplotlib.pyplot as plt\n",
    "plt.figure(figsize=(10,6))\n",
    "stats.probplot(m2_pipeline['precursor_buy_cap_pct_change'], dist=\"norm\", plot=plt)\n",
    "plt.title('QQ-plot of column')\n",
    "plt.show()\n"
   ]
  },
  {
   "cell_type": "code",
   "execution_count": 23,
   "id": "bronze-function",
   "metadata": {},
   "outputs": [],
   "source": [
    "bins = [\n",
    "    m2_pipeline['surge_targets_met_pct'].min() -1,  # Min value\n",
    "    -4/3*2,  # -4 to 0 divided into three equal parts\n",
    "    -4/3,  # Second bin edge for negative values\n",
    "    0,  # Zero separating negative and positive values\n",
    "    0.25, 0.5, 0.75, 1,  # Four bins between 0 and 1\n",
    "    2,  # One bin between 1 and 2\n",
    "    m2_pipeline['surge_targets_met_pct'].max() + 1]"
   ]
  },
  {
   "cell_type": "code",
   "execution_count": 24,
   "id": "backed-window",
   "metadata": {},
   "outputs": [
    {
     "data": {
      "text/plain": [
       "[-4.24232081911261,\n",
       " -2.6666666666666665,\n",
       " -1.3333333333333333,\n",
       " 0,\n",
       " 0.25,\n",
       " 0.5,\n",
       " 0.75,\n",
       " 1,\n",
       " 2,\n",
       " 5.322377307519139]"
      ]
     },
     "execution_count": 24,
     "metadata": {},
     "output_type": "execute_result"
    }
   ],
   "source": [
    "bins"
   ]
  },
  {
   "cell_type": "code",
   "execution_count": 25,
   "id": "cross-ontario",
   "metadata": {},
   "outputs": [],
   "source": [
    "m2_pipeline['label'] = pd.cut(m2_pipeline['surge_targets_met_pct'], bins=bins, labels=list(range(1, len(bins))))"
   ]
  },
  {
   "cell_type": "code",
   "execution_count": 26,
   "id": "024682c2-746e-4162-9453-13016958db4c",
   "metadata": {},
   "outputs": [
    {
     "data": {
      "text/html": [
       "<div>\n",
       "<style scoped>\n",
       "    .dataframe tbody tr th:only-of-type {\n",
       "        vertical-align: middle;\n",
       "    }\n",
       "\n",
       "    .dataframe tbody tr th {\n",
       "        vertical-align: top;\n",
       "    }\n",
       "\n",
       "    .dataframe thead th {\n",
       "        text-align: right;\n",
       "    }\n",
       "</style>\n",
       "<table border=\"1\" class=\"dataframe\">\n",
       "  <thead>\n",
       "    <tr style=\"text-align: right;\">\n",
       "      <th></th>\n",
       "      <th>precursor_buy_cap_pct_change</th>\n",
       "      <th>precursor_ask_cap_pct_change</th>\n",
       "      <th>precursor_bid_vol_pct_change</th>\n",
       "      <th>precursor_ask_vol_pct_change</th>\n",
       "      <th>sum_change</th>\n",
       "      <th>length</th>\n",
       "      <th>surge_targets_met_pct</th>\n",
       "      <th>label</th>\n",
       "    </tr>\n",
       "  </thead>\n",
       "  <tbody>\n",
       "    <tr>\n",
       "      <th>0</th>\n",
       "      <td>-0.000044</td>\n",
       "      <td>-0.000004</td>\n",
       "      <td>-0.000017</td>\n",
       "      <td>-0.000351</td>\n",
       "      <td>-5.009518e-03</td>\n",
       "      <td>6</td>\n",
       "      <td>-0.066667</td>\n",
       "      <td>3</td>\n",
       "    </tr>\n",
       "    <tr>\n",
       "      <th>1</th>\n",
       "      <td>-0.002358</td>\n",
       "      <td>-0.000002</td>\n",
       "      <td>-0.000818</td>\n",
       "      <td>-0.000333</td>\n",
       "      <td>1.345640e-04</td>\n",
       "      <td>1</td>\n",
       "      <td>0.100469</td>\n",
       "      <td>4</td>\n",
       "    </tr>\n",
       "    <tr>\n",
       "      <th>2</th>\n",
       "      <td>-0.001354</td>\n",
       "      <td>-0.000017</td>\n",
       "      <td>-0.000446</td>\n",
       "      <td>-0.001967</td>\n",
       "      <td>-3.410602e-03</td>\n",
       "      <td>3</td>\n",
       "      <td>0.133779</td>\n",
       "      <td>4</td>\n",
       "    </tr>\n",
       "    <tr>\n",
       "      <th>3</th>\n",
       "      <td>-0.000514</td>\n",
       "      <td>0.000017</td>\n",
       "      <td>-0.000278</td>\n",
       "      <td>0.001923</td>\n",
       "      <td>8.855895e-07</td>\n",
       "      <td>2</td>\n",
       "      <td>-0.033467</td>\n",
       "      <td>3</td>\n",
       "    </tr>\n",
       "    <tr>\n",
       "      <th>4</th>\n",
       "      <td>0.014278</td>\n",
       "      <td>0.000034</td>\n",
       "      <td>0.006498</td>\n",
       "      <td>0.008866</td>\n",
       "      <td>-1.377036e-02</td>\n",
       "      <td>7</td>\n",
       "      <td>0.167224</td>\n",
       "      <td>4</td>\n",
       "    </tr>\n",
       "    <tr>\n",
       "      <th>...</th>\n",
       "      <td>...</td>\n",
       "      <td>...</td>\n",
       "      <td>...</td>\n",
       "      <td>...</td>\n",
       "      <td>...</td>\n",
       "      <td>...</td>\n",
       "      <td>...</td>\n",
       "      <td>...</td>\n",
       "    </tr>\n",
       "    <tr>\n",
       "      <th>5725</th>\n",
       "      <td>-0.007939</td>\n",
       "      <td>-0.000315</td>\n",
       "      <td>-0.001930</td>\n",
       "      <td>-0.000743</td>\n",
       "      <td>-2.389645e-03</td>\n",
       "      <td>2</td>\n",
       "      <td>-0.099502</td>\n",
       "      <td>3</td>\n",
       "    </tr>\n",
       "    <tr>\n",
       "      <th>5726</th>\n",
       "      <td>-0.604637</td>\n",
       "      <td>-0.990184</td>\n",
       "      <td>0.384741</td>\n",
       "      <td>-0.122234</td>\n",
       "      <td>-3.020852e-01</td>\n",
       "      <td>5</td>\n",
       "      <td>0.000000</td>\n",
       "      <td>3</td>\n",
       "    </tr>\n",
       "    <tr>\n",
       "      <th>5727</th>\n",
       "      <td>-0.001037</td>\n",
       "      <td>-0.000074</td>\n",
       "      <td>-0.000258</td>\n",
       "      <td>-0.000349</td>\n",
       "      <td>-4.980070e-04</td>\n",
       "      <td>5</td>\n",
       "      <td>0.099800</td>\n",
       "      <td>4</td>\n",
       "    </tr>\n",
       "    <tr>\n",
       "      <th>5728</th>\n",
       "      <td>0.010895</td>\n",
       "      <td>-0.000219</td>\n",
       "      <td>0.002650</td>\n",
       "      <td>-0.000977</td>\n",
       "      <td>-9.952165e-04</td>\n",
       "      <td>18</td>\n",
       "      <td>0.000000</td>\n",
       "      <td>3</td>\n",
       "    </tr>\n",
       "    <tr>\n",
       "      <th>5729</th>\n",
       "      <td>-0.015932</td>\n",
       "      <td>0.000483</td>\n",
       "      <td>-0.003916</td>\n",
       "      <td>0.002353</td>\n",
       "      <td>-6.980058e-04</td>\n",
       "      <td>2</td>\n",
       "      <td>0.000000</td>\n",
       "      <td>3</td>\n",
       "    </tr>\n",
       "  </tbody>\n",
       "</table>\n",
       "<p>5730 rows × 8 columns</p>\n",
       "</div>"
      ],
      "text/plain": [
       "      precursor_buy_cap_pct_change  precursor_ask_cap_pct_change  \\\n",
       "0                        -0.000044                     -0.000004   \n",
       "1                        -0.002358                     -0.000002   \n",
       "2                        -0.001354                     -0.000017   \n",
       "3                        -0.000514                      0.000017   \n",
       "4                         0.014278                      0.000034   \n",
       "...                            ...                           ...   \n",
       "5725                     -0.007939                     -0.000315   \n",
       "5726                     -0.604637                     -0.990184   \n",
       "5727                     -0.001037                     -0.000074   \n",
       "5728                      0.010895                     -0.000219   \n",
       "5729                     -0.015932                      0.000483   \n",
       "\n",
       "      precursor_bid_vol_pct_change  precursor_ask_vol_pct_change  \\\n",
       "0                        -0.000017                     -0.000351   \n",
       "1                        -0.000818                     -0.000333   \n",
       "2                        -0.000446                     -0.001967   \n",
       "3                        -0.000278                      0.001923   \n",
       "4                         0.006498                      0.008866   \n",
       "...                            ...                           ...   \n",
       "5725                     -0.001930                     -0.000743   \n",
       "5726                      0.384741                     -0.122234   \n",
       "5727                     -0.000258                     -0.000349   \n",
       "5728                      0.002650                     -0.000977   \n",
       "5729                     -0.003916                      0.002353   \n",
       "\n",
       "        sum_change  length  surge_targets_met_pct label  \n",
       "0    -5.009518e-03       6              -0.066667     3  \n",
       "1     1.345640e-04       1               0.100469     4  \n",
       "2    -3.410602e-03       3               0.133779     4  \n",
       "3     8.855895e-07       2              -0.033467     3  \n",
       "4    -1.377036e-02       7               0.167224     4  \n",
       "...            ...     ...                    ...   ...  \n",
       "5725 -2.389645e-03       2              -0.099502     3  \n",
       "5726 -3.020852e-01       5               0.000000     3  \n",
       "5727 -4.980070e-04       5               0.099800     4  \n",
       "5728 -9.952165e-04      18               0.000000     3  \n",
       "5729 -6.980058e-04       2               0.000000     3  \n",
       "\n",
       "[5730 rows x 8 columns]"
      ]
     },
     "execution_count": 26,
     "metadata": {},
     "output_type": "execute_result"
    }
   ],
   "source": [
    "m2_pipeline"
   ]
  },
  {
   "cell_type": "code",
   "execution_count": 27,
   "id": "5405cb9f-cfa2-44ee-bcf8-845a5bfd9a05",
   "metadata": {
    "tags": []
   },
   "outputs": [],
   "source": [
    "m2_pipeline.to_csv('binned_pipeline.csv')"
   ]
  },
  {
   "cell_type": "code",
   "execution_count": 28,
   "id": "7ad79207-adab-4e2e-a5e9-473111635457",
   "metadata": {
    "tags": []
   },
   "outputs": [],
   "source": [
    "global_test_results = [] #capture each test summary here, make df on this later\n",
    "profitability_analytics =[] #capture the value of each cluster, bin x price avg"
   ]
  },
  {
   "cell_type": "code",
   "execution_count": 29,
   "id": "5efd8bd4-7b2d-4ea3-b849-b4f5e00df1fa",
   "metadata": {
    "tags": []
   },
   "outputs": [],
   "source": [
    "def get_cluster_profit(cluster):\n",
    "    print(cluster) #method, cluster count, silhouette score\n",
    "    # for the dataframe m2_pipeline, group by 'cluster' then 'bin', multiply bin as number by the average price by bin"
   ]
  },
  {
   "cell_type": "markdown",
   "id": "3d5f4762-7027-4dca-879a-ab1bf88dc9a5",
   "metadata": {},
   "source": [
    "### standardize all features pre train/test"
   ]
  },
  {
   "cell_type": "code",
   "execution_count": 30,
   "id": "arranged-lunch",
   "metadata": {
    "tags": []
   },
   "outputs": [],
   "source": [
    "m2_pipeline = m2_pipeline.dropna()\n",
    "\n",
    "# Splitting the dataframe into features and labels\n",
    "X = m2_pipeline[['precursor_buy_cap_pct_change', 'precursor_ask_cap_pct_change','precursor_bid_vol_pct_change',\n",
    "                'precursor_ask_vol_pct_change','sum_change', 'length']]\n",
    "y = m2_pipeline['label']\n",
    "\n",
    "# Performing the test/train split and standardization\n",
    "X_train, X_test, y_train, y_test = train_test_split(X, y, test_size=0.2, random_state=42)\n",
    "\n",
    "\n",
    "#from sklearn.preprocessing import QuantileTransformer\n",
    "#qt = QuantileTransformer(output_distribution='normal', random_state=0)\n",
    "scaler = StandardScaler()\n",
    "X_train_scaled = scaler.fit_transform(X_train)\n",
    "#X_train_scaled = pd.DataFrame(qt.fit_transform(X_train), columns=X_train.columns)\n",
    "#X_test_scaled = pd.DataFrame(qt.transform(X_test), columns=X_test.columns)"
   ]
  },
  {
   "cell_type": "code",
   "execution_count": 31,
   "id": "virgin-representative",
   "metadata": {},
   "outputs": [
    {
     "name": "stdout",
     "output_type": "stream",
     "text": [
      "0\n"
     ]
    }
   ],
   "source": [
    "print(m2_pipeline.isna().sum(axis=1).astype(bool).sum())"
   ]
  },
  {
   "cell_type": "code",
   "execution_count": 32,
   "id": "smaller-illness",
   "metadata": {},
   "outputs": [],
   "source": [
    "def silhouette_scorer(estimator, X, y=None):\n",
    "    labels = estimator.fit_predict(X)\n",
    "    score = silhouette_score(X, labels)\n",
    "    return score"
   ]
  },
  {
   "cell_type": "code",
   "execution_count": 33,
   "id": "surprising-comparative",
   "metadata": {},
   "outputs": [
    {
     "data": {
      "text/plain": [
       "0.5479952462990493"
      ]
     },
     "execution_count": 33,
     "metadata": {},
     "output_type": "execute_result"
    }
   ],
   "source": [
    "clf = KMeans(n_clusters = 6)\n",
    "clf.fit(X_train_scaled)\n",
    "silhouette_scorer(clf, X_train_scaled, y=None)"
   ]
  },
  {
   "cell_type": "code",
   "execution_count": 34,
   "id": "10c9affa-6ded-45cc-89c5-d9949ae4e904",
   "metadata": {
    "tags": []
   },
   "outputs": [
    {
     "name": "stdout",
     "output_type": "stream",
     "text": [
      "KMeans:\n",
      "Best parameters: {'n_clusters': 2}\n",
      "Silhouette score (train): 0.9057\n",
      "Birch:\n",
      "Best parameters: {'n_clusters': 2}\n",
      "Silhouette score (train): 0.9001\n",
      "Hierarchical:\n",
      "Best parameters: {'n_clusters': 2}\n",
      "Silhouette score (train): 0.8847\n"
     ]
    }
   ],
   "source": [
    "# good till here work from here \n",
    "#def silhouette_scorer(estimator, X, y=None):\n",
    "#    score = silhouette_score(X, estimator.labels_)\n",
    "#    return score\n",
    "# Defining the parameter grid for GridSearchCV\n",
    "param_grid = {'n_clusters': [2,3,4,5,6,7,8,9,10]}  #'algorithm': ['auto', 'full', 'elkan']\n",
    "\n",
    "clustering_models = [\n",
    "    ('KMeans', KMeans()),\n",
    "    #('SpectralClustering', SpectralClustering(eigen_solver=None, n_components=None, random_state=42, n_init=10, gamma=1.0, affinity='rbf',\\\n",
    "          #            n_neighbors=10, eigen_tol='auto', assign_labels='kmeans', degree=3, coef0=1, kernel_params=None, n_jobs=None, verbose=False)),\n",
    "    ('Birch', Birch()),\n",
    "    ('Hierarchical',AgglomerativeClustering())]\n",
    "# Performing GridSearchCV for each clustering model\n",
    "for model_name, model in clustering_models:\n",
    "    grid_search = GridSearchCV(model, param_grid, scoring=silhouette_scorer)\n",
    "    grid_search.fit(X_train_scaled)\n",
    "    # Evaluating the best model based on silhouette score\n",
    "    best_model = grid_search.best_estimator_\n",
    "    best_score = grid_search.best_score_\n",
    "    print(f'{model_name}:')\n",
    "    print(f'Best parameters: {grid_search.best_params_}')\n",
    "    print(f'Silhouette score (train): {best_score:.4f}')\n",
    "    best_params = grid_search.best_params_\n",
    "    big_dict = grid_search.cv_results_\n",
    "    pkg = {\"algo\": model_name, \"best_params\": grid_search.best_params_,\n",
    "        \"best_estimator\": grid_search.best_estimator_,\n",
    "        \"best_score\": best_score, \"all_results\": big_dict} \n",
    "    # # Add the cluster label as a new column\n",
    "    #method_df = X_train_scaled\n",
    "    #method_df['label'] = y_train\n",
    "    #method_df['cluster_label'] = best_model.labels_\n",
    "\n",
    "    #now = datetime.datetime.now()\n",
    "    #print(\"Current date and time: \")\n",
    "    #print(now.strftime(\"%Y-%m-%d %H:%M:%S\"))\n",
    "    #run_time = now.strftime(\"%Y-%m-%d %H:%M:%S\")\n",
    "    #file_name = 'clustered/'+ 'clustered_'+ model_name+' _'+ run_time+ '.csv'\n",
    "    #print(file_name)\n",
    "    #method_df.to_csv(file_name)\n",
    "    # print(pkg)\n",
    "    global_test_results.append(pkg)"
   ]
  },
  {
   "cell_type": "code",
   "execution_count": 35,
   "id": "functioning-cyprus",
   "metadata": {},
   "outputs": [],
   "source": [
    "clustering_models = [\n",
    "    ('Meanshift',  MeanShift( bandwidth=None, seeds=None, bin_seeding=False, min_bin_freq=1, cluster_all=True, n_jobs=None, max_iter=300)),\n",
    "    ('AffinityPropagation', AffinityPropagation( damping=0.5, max_iter=200, convergence_iter=15, copy=True, preference=None, affinity='euclidean', verbose=False, random_state=42)),\n",
    "    ('DBSCAN', DBSCAN(eps=0.5, min_samples=5, metric='euclidean', metric_params=None, algorithm='auto', leaf_size=30, p=None, n_jobs=None)),\n",
    "    ('OPTICS', OPTICS( min_samples=5, max_eps=3, metric='minkowski', p=2, metric_params=None, cluster_method='xi', eps=None, xi=0.05, predecessor_correction=True, min_cluster_size=None, algorithm='auto', leaf_size=30, n_jobs=None))]"
   ]
  },
  {
   "cell_type": "code",
   "execution_count": 36,
   "id": "06622dc5-9e4d-4430-8fbe-15cfc8986f24",
   "metadata": {},
   "outputs": [
    {
     "name": "stdout",
     "output_type": "stream",
     "text": [
      "Meanshift:\n",
      "Silhouette score (train): 0.4849\n",
      "Silhouette score (test): 0.4849\n"
     ]
    },
    {
     "name": "stderr",
     "output_type": "stream",
     "text": [
      "/Users/stefanbund/anaconda3/lib/python3.11/site-packages/sklearn/cluster/_affinity_propagation.py:236: ConvergenceWarning: Affinity propagation did not converge, this model may return degenerate cluster centers and labels.\n",
      "  warnings.warn(\n",
      "/Users/stefanbund/anaconda3/lib/python3.11/site-packages/sklearn/cluster/_affinity_propagation.py:236: ConvergenceWarning: Affinity propagation did not converge, this model may return degenerate cluster centers and labels.\n",
      "  warnings.warn(\n",
      "/Users/stefanbund/anaconda3/lib/python3.11/site-packages/sklearn/cluster/_affinity_propagation.py:236: ConvergenceWarning: Affinity propagation did not converge, this model may return degenerate cluster centers and labels.\n",
      "  warnings.warn(\n",
      "/Users/stefanbund/anaconda3/lib/python3.11/site-packages/sklearn/cluster/_affinity_propagation.py:236: ConvergenceWarning: Affinity propagation did not converge, this model may return degenerate cluster centers and labels.\n",
      "  warnings.warn(\n",
      "/Users/stefanbund/anaconda3/lib/python3.11/site-packages/sklearn/cluster/_affinity_propagation.py:236: ConvergenceWarning: Affinity propagation did not converge, this model may return degenerate cluster centers and labels.\n",
      "  warnings.warn(\n",
      "/Users/stefanbund/anaconda3/lib/python3.11/site-packages/sklearn/cluster/_affinity_propagation.py:236: ConvergenceWarning: Affinity propagation did not converge, this model may return degenerate cluster centers and labels.\n",
      "  warnings.warn(\n"
     ]
    },
    {
     "name": "stdout",
     "output_type": "stream",
     "text": [
      "AffinityPropagation:\n",
      "Silhouette score (train): 0.2896\n",
      "Silhouette score (test): 0.2896\n",
      "DBSCAN:\n",
      "Silhouette score (train): 0.5028\n",
      "Silhouette score (test): 0.5028\n",
      "OPTICS:\n",
      "Silhouette score (train): -0.4811\n",
      "Silhouette score (test): -0.4811\n"
     ]
    }
   ],
   "source": [
    "\n",
    "param_grid = {}  #'algorithm': ['auto', 'full', 'elkan']\n",
    "for model_name, model in clustering_models:\n",
    "    grid_search = GridSearchCV(model, param_grid, scoring=silhouette_scorer)\n",
    "    grid_search.fit(X_train_scaled)\n",
    "    # Evaluating the best model based on silhouette score\n",
    "    best_model = grid_search.best_estimator_\n",
    "    best_score = grid_search.best_score_\n",
    "    print(f'{model_name}:')\n",
    "    # print(f'Best parameters: {grid_search.best_params_}')\n",
    "    print(f'Silhouette score (train): {best_score:.4f}')\n",
    "    print(f'Silhouette score (test): {best_score:.4f}')\n",
    "    big_dict = grid_search.cv_results_\n",
    "    pkg = {\"algo\":model_name, \"best_params\":grid_search.best_params_, \"best_estimator\":grid_search.best_estimator_,\\\n",
    "            \"best_score\":best_score, \"all_results\":big_dict}\n",
    "    # print(pkg)\n",
    "    global_test_results.append(pkg)"
   ]
  },
  {
   "cell_type": "markdown",
   "id": "sexual-earth",
   "metadata": {},
   "source": [
    "Left off here work on cluster accuracy now"
   ]
  },
  {
   "cell_type": "code",
   "execution_count": 37,
   "id": "1fb955e5-3d93-4da6-8eba-95a76f5e451f",
   "metadata": {},
   "outputs": [],
   "source": [
    "# from sklearn.cluster import SpectralClustering\n",
    "# from sklearn.model_selection import GridSearchCV\n",
    "\n",
    "# param_grid = {\n",
    "#     'n_clusters': [2,3,4,5,6,7,8,9,10],\n",
    "#     'affinity': ['nearest_neighbors', 'rbf'],\n",
    "#     'gamma': [0.1, 1.0, 10.0]\n",
    "# }\n",
    "# def silhouette_scorer(estimator, X, y=None):\n",
    "#     labels = estimator.fit_predict(X)\n",
    "#     score = silhouette_score(X, labels)\n",
    "#     return score\n",
    "# # ('SpectralClustering', SpectralClustering(eigen_solver=None, n_components=None, random_state=42, n_init=10, gamma=1.0, affinity='rbf',\\\n",
    "#     #                   n_neighbors=10, eigen_tol='auto', assign_labels='kmeans', degree=3, coef0=1, kernel_params=None, n_jobs=None, verbose=False)),\n",
    "# clustering = SpectralClustering(eigen_solver=None, n_components=None, random_state=42, n_init=10, gamma=1.0, affinity='rbf',\\\n",
    "#                       n_neighbors=10, eigen_tol='auto', assign_labels='kmeans', degree=3, coef0=1, kernel_params=None, n_jobs=None, verbose=False)\n",
    "# grid_search = GridSearchCV(clustering, param_grid, scoring=silhouette_scorer)\n",
    "# grid_search.fit(X_train_scaled, y_train)\n",
    "# # Evaluating the best model based on silhouette score\n",
    "# best_model = grid_search.best_estimator_\n",
    "# best_score = grid_search.best_score_\n",
    "# print(f'{model_name}:')\n",
    "# # print(f'Best parameters: {grid_search.best_params_}')\n",
    "# print(f'Silhouette score (train): {best_score:.4f}')\n",
    "# print(f'Silhouette score (test): {best_score:.4f}')\n",
    "# big_dict = grid_search.cv_results_\n",
    "# pkg = {\"algo\":model_name, \"best_params\":grid_search.best_params_, \"best_estimator\":grid_search.best_estimator_,\\\n",
    "#         \"best_score\":best_score, \"all_results\":big_dict}\n",
    "# # print(pkg)\n",
    "# global_test_results.append(pkg)"
   ]
  },
  {
   "cell_type": "markdown",
   "id": "1e5d5dec-84e5-426f-a7e8-c78d01d952dc",
   "metadata": {},
   "source": [
    "## explore clustering methods by profitability\n",
    "\n",
    "apply the cluster id to the dataframe, group by, then summarize value by bin x price range"
   ]
  },
  {
   "cell_type": "markdown",
   "id": "d09f98f9-92de-453e-bf8d-72961c698a2d",
   "metadata": {},
   "source": [
    "## explore top results by cluster quality scoring\n",
    "\n",
    "use silhouette viz\n",
    "\n",
    "then davies\n",
    "\n",
    "then kolmogorov"
   ]
  },
  {
   "cell_type": "code",
   "execution_count": 38,
   "id": "7b625c5d-576e-4e10-a2db-7c4e2c9ff563",
   "metadata": {},
   "outputs": [
    {
     "data": {
      "text/html": [
       "<div>\n",
       "<style scoped>\n",
       "    .dataframe tbody tr th:only-of-type {\n",
       "        vertical-align: middle;\n",
       "    }\n",
       "\n",
       "    .dataframe tbody tr th {\n",
       "        vertical-align: top;\n",
       "    }\n",
       "\n",
       "    .dataframe thead th {\n",
       "        text-align: right;\n",
       "    }\n",
       "</style>\n",
       "<table border=\"1\" class=\"dataframe\">\n",
       "  <thead>\n",
       "    <tr style=\"text-align: right;\">\n",
       "      <th></th>\n",
       "      <th>algo</th>\n",
       "      <th>best_params</th>\n",
       "      <th>best_estimator</th>\n",
       "      <th>best_score</th>\n",
       "      <th>all_results</th>\n",
       "    </tr>\n",
       "  </thead>\n",
       "  <tbody>\n",
       "    <tr>\n",
       "      <th>0</th>\n",
       "      <td>KMeans</td>\n",
       "      <td>{'n_clusters': 2}</td>\n",
       "      <td>KMeans(n_clusters=2)</td>\n",
       "      <td>0.905724</td>\n",
       "      <td>{'mean_fit_time': [0.29558796882629396, 0.3649...</td>\n",
       "    </tr>\n",
       "    <tr>\n",
       "      <th>1</th>\n",
       "      <td>Birch</td>\n",
       "      <td>{'n_clusters': 2}</td>\n",
       "      <td>Birch(n_clusters=2)</td>\n",
       "      <td>0.900053</td>\n",
       "      <td>{'mean_fit_time': [0.08960280418395997, 0.0851...</td>\n",
       "    </tr>\n",
       "    <tr>\n",
       "      <th>2</th>\n",
       "      <td>Hierarchical</td>\n",
       "      <td>{'n_clusters': 2}</td>\n",
       "      <td>AgglomerativeClustering()</td>\n",
       "      <td>0.884691</td>\n",
       "      <td>{'mean_fit_time': [0.2784595966339111, 0.27024...</td>\n",
       "    </tr>\n",
       "    <tr>\n",
       "      <th>3</th>\n",
       "      <td>Meanshift</td>\n",
       "      <td>{}</td>\n",
       "      <td>MeanShift()</td>\n",
       "      <td>0.484935</td>\n",
       "      <td>{'mean_fit_time': [4.995885562896729], 'std_fi...</td>\n",
       "    </tr>\n",
       "    <tr>\n",
       "      <th>4</th>\n",
       "      <td>AffinityPropagation</td>\n",
       "      <td>{}</td>\n",
       "      <td>AffinityPropagation(random_state=42)</td>\n",
       "      <td>0.289580</td>\n",
       "      <td>{'mean_fit_time': [18.530214691162108], 'std_f...</td>\n",
       "    </tr>\n",
       "    <tr>\n",
       "      <th>5</th>\n",
       "      <td>DBSCAN</td>\n",
       "      <td>{}</td>\n",
       "      <td>DBSCAN()</td>\n",
       "      <td>0.502811</td>\n",
       "      <td>{'mean_fit_time': [0.20637307167053223], 'std_...</td>\n",
       "    </tr>\n",
       "    <tr>\n",
       "      <th>6</th>\n",
       "      <td>OPTICS</td>\n",
       "      <td>{}</td>\n",
       "      <td>OPTICS(max_eps=3)</td>\n",
       "      <td>-0.481111</td>\n",
       "      <td>{'mean_fit_time': [0.7547399520874023], 'std_f...</td>\n",
       "    </tr>\n",
       "  </tbody>\n",
       "</table>\n",
       "</div>"
      ],
      "text/plain": [
       "                  algo        best_params  \\\n",
       "0               KMeans  {'n_clusters': 2}   \n",
       "1                Birch  {'n_clusters': 2}   \n",
       "2         Hierarchical  {'n_clusters': 2}   \n",
       "3            Meanshift                 {}   \n",
       "4  AffinityPropagation                 {}   \n",
       "5               DBSCAN                 {}   \n",
       "6               OPTICS                 {}   \n",
       "\n",
       "                         best_estimator  best_score  \\\n",
       "0                  KMeans(n_clusters=2)    0.905724   \n",
       "1                   Birch(n_clusters=2)    0.900053   \n",
       "2             AgglomerativeClustering()    0.884691   \n",
       "3                           MeanShift()    0.484935   \n",
       "4  AffinityPropagation(random_state=42)    0.289580   \n",
       "5                              DBSCAN()    0.502811   \n",
       "6                     OPTICS(max_eps=3)   -0.481111   \n",
       "\n",
       "                                         all_results  \n",
       "0  {'mean_fit_time': [0.29558796882629396, 0.3649...  \n",
       "1  {'mean_fit_time': [0.08960280418395997, 0.0851...  \n",
       "2  {'mean_fit_time': [0.2784595966339111, 0.27024...  \n",
       "3  {'mean_fit_time': [4.995885562896729], 'std_fi...  \n",
       "4  {'mean_fit_time': [18.530214691162108], 'std_f...  \n",
       "5  {'mean_fit_time': [0.20637307167053223], 'std_...  \n",
       "6  {'mean_fit_time': [0.7547399520874023], 'std_f...  "
      ]
     },
     "execution_count": 38,
     "metadata": {},
     "output_type": "execute_result"
    }
   ],
   "source": [
    "result_df = pd.DataFrame(global_test_results)\n",
    "result_df"
   ]
  },
  {
   "cell_type": "code",
   "execution_count": 39,
   "id": "bd096ad6-dba8-4226-be34-4002f520c6f3",
   "metadata": {},
   "outputs": [
    {
     "ename": "NameError",
     "evalue": "name 'labels' is not defined",
     "output_type": "error",
     "traceback": [
      "\u001b[0;31m---------------------------------------------------------------------------\u001b[0m",
      "\u001b[0;31mNameError\u001b[0m                                 Traceback (most recent call last)",
      "Cell \u001b[0;32mIn[39], line 7\u001b[0m\n\u001b[1;32m      4\u001b[0m \u001b[38;5;28;01mfrom\u001b[39;00m \u001b[38;5;21;01msklearn\u001b[39;00m\u001b[38;5;21;01m.\u001b[39;00m\u001b[38;5;21;01mmetrics\u001b[39;00m \u001b[38;5;28;01mimport\u001b[39;00m silhouette_samples, silhouette_score\n\u001b[1;32m      6\u001b[0m \u001b[38;5;66;03m# Calculate the silhouette scores for each sample\u001b[39;00m\n\u001b[0;32m----> 7\u001b[0m silhouette_values \u001b[38;5;241m=\u001b[39m silhouette_samples(X, labels)\n\u001b[1;32m      9\u001b[0m \u001b[38;5;66;03m# Calculate the average silhouette score\u001b[39;00m\n\u001b[1;32m     10\u001b[0m average_score \u001b[38;5;241m=\u001b[39m silhouette_score(X, labels)\n",
      "\u001b[0;31mNameError\u001b[0m: name 'labels' is not defined"
     ]
    }
   ],
   "source": [
    "#charting silhouettes\n",
    "import matplotlib.pyplot as plt\n",
    "import numpy as np\n",
    "from sklearn.metrics import silhouette_samples, silhouette_score\n",
    "\n",
    "# Calculate the silhouette scores for each sample\n",
    "silhouette_values = silhouette_samples(X, labels)\n",
    "\n",
    "# Calculate the average silhouette score\n",
    "average_score = silhouette_score(X, labels)\n",
    "\n",
    "# Plot the silhouette chart\n",
    "fig, ax = plt.subplots()\n",
    "y_lower = 10\n",
    "\n",
    "for i in range(n_clusters):\n",
    "    # Aggregate the silhouette scores for samples in cluster i and sort them\n",
    "    ith_cluster_silhouette_values = silhouette_values[labels == i]\n",
    "    ith_cluster_silhouette_values.sort()\n",
    "\n",
    "    size_cluster_i = ith_cluster_silhouette_values.shape[0]\n",
    "    y_upper = y_lower + size_cluster_i\n",
    "\n",
    "    # Fill the silhouette chart with the corresponding color\n",
    "    color = cm.nipy_spectral(float(i) / n_clusters)\n",
    "    ax.fill_betweenx(np.arange(y_lower, y_upper), 0, ith_cluster_silhouette_values, facecolor=color, edgecolor=color, alpha=0.7)\n",
    "\n",
    "    # Label each cluster with its silhouette score\n",
    "    ax.text(-0.05, y_lower + 0.5 * size_cluster_i, str(i))\n",
    "    \n",
    "    # Compute the new y_lower for next plot\n",
    "    y_lower = y_upper + 10\n",
    "\n",
    "ax.set_xlabel(\"Silhouette coefficient values\")\n",
    "ax.set_ylabel(\"Cluster label\")\n",
    "\n",
    "# The vertical line indicates the average silhouette score\n",
    "ax.axvline(x=average_score, color=\"red\", linestyle=\"--\")\n",
    "\n",
    "plt.show()\n"
   ]
  },
  {
   "cell_type": "markdown",
   "id": "2c4b99ad-37c5-4d5f-8007-5bffa28473c7",
   "metadata": {},
   "source": [
    "## retry spectral clustering, outside GridSearchCV"
   ]
  },
  {
   "cell_type": "code",
   "execution_count": null,
   "id": "48f8d6b0-fe5b-401a-ba7f-2f54e479f8a7",
   "metadata": {
    "tags": []
   },
   "outputs": [],
   "source": [
    "#use best model:\n",
    "from sklearn.model_selection import train_test_split\n",
    "from sklearn.cluster import SpectralClustering\n",
    "from sklearn.metrics import accuracy_score\n",
    "X = m2_pipeline.drop(columns=['bin'])\n",
    "y = m2_pipeline['bin']\n",
    "# Splitting the dataset into train and test sets\n",
    "\n",
    "#USE STANDARD SCALING ONCE YOU DIVDE TEST AND TRAIN NOT BEFORE\n",
    "X_train, X_test, y_train, y_test = train_test_split(X, y, test_size=0.2, random_state=42)\n",
    "\n",
    "# Creating an instance of SpectralClustering\n",
    "model = SpectralClustering(n_clusters=7)\n",
    "\n",
    "# Fitting the model to the training data\n",
    "model.fit_predict(X_train)\n",
    "\n",
    "# Predicting labels for the testing data\n",
    "y_pred = model.predict(X_test)\n",
    "\n",
    "# Calculating the accuracy score\n",
    "accuracy = accuracy_score(y_test, y_pred)\n"
   ]
  }
 ],
 "metadata": {
  "kernelspec": {
   "display_name": "Python 3 (ipykernel)",
   "language": "python",
   "name": "python3"
  },
  "language_info": {
   "codemirror_mode": {
    "name": "ipython",
    "version": 3
   },
   "file_extension": ".py",
   "mimetype": "text/x-python",
   "name": "python",
   "nbconvert_exporter": "python",
   "pygments_lexer": "ipython3",
   "version": "3.11.4"
  }
 },
 "nbformat": 4,
 "nbformat_minor": 5
}
