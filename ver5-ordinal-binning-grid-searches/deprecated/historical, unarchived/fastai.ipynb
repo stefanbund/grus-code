{
 "cells": [
  {
   "cell_type": "code",
   "execution_count": null,
   "metadata": {},
   "outputs": [],
   "source": [
    "!pip3 install fastai"
   ]
  },
  {
   "cell_type": "code",
   "execution_count": 3,
   "metadata": {},
   "outputs": [],
   "source": [
    "# from fastai.vision.all import *\n",
    "# from fastai.text.all import *\n",
    "# from fastai.collab import *\n",
    "from fastai.tabular.all import *\n",
    "import pandas as pd"
   ]
  },
  {
   "cell_type": "code",
   "execution_count": 37,
   "metadata": {},
   "outputs": [
    {
     "data": {
      "text/plain": [
       "Index(['Unnamed: 0', 'precursor_buy_cap_pct_change',\n",
       "       'precursor_ask_cap_pct_change', 'precursor_bid_vol_pct_change',\n",
       "       'precursor_ask_vol_pct_change', 'change.1', 'surge_targets_met_pct',\n",
       "       'label'],\n",
       "      dtype='object')"
      ]
     },
     "execution_count": 37,
     "metadata": {},
     "output_type": "execute_result"
    }
   ],
   "source": [
    "keepable = ['precursor_buy_cap_pct_change', 'precursor_ask_cap_pct_change',\n",
    "            'precursor_bid_vol_pct_change', 'precursor_ask_vol_pct_change']#,\n",
    "            #'sum_change','length']\n",
    "\n",
    "df = pd.read_csv('ver5-ordinal-binning-grid-searches/binned_pipeline.csv')\n",
    "df.columns"
   ]
  },
  {
   "cell_type": "code",
   "execution_count": 49,
   "metadata": {},
   "outputs": [
    {
     "data": {
      "text/html": [
       "<div>\n",
       "<style scoped>\n",
       "    .dataframe tbody tr th:only-of-type {\n",
       "        vertical-align: middle;\n",
       "    }\n",
       "\n",
       "    .dataframe tbody tr th {\n",
       "        vertical-align: top;\n",
       "    }\n",
       "\n",
       "    .dataframe thead th {\n",
       "        text-align: right;\n",
       "    }\n",
       "</style>\n",
       "<table border=\"1\" class=\"dataframe\">\n",
       "  <thead>\n",
       "    <tr style=\"text-align: right;\">\n",
       "      <th></th>\n",
       "      <th>precursor_buy_cap_pct_change</th>\n",
       "      <th>precursor_ask_cap_pct_change</th>\n",
       "      <th>precursor_bid_vol_pct_change</th>\n",
       "      <th>precursor_ask_vol_pct_change</th>\n",
       "    </tr>\n",
       "  </thead>\n",
       "  <tbody>\n",
       "    <tr>\n",
       "      <th>1258</th>\n",
       "      <td>-0.049673</td>\n",
       "      <td>-0.035832</td>\n",
       "      <td>-0.059342</td>\n",
       "      <td>-0.097716</td>\n",
       "    </tr>\n",
       "    <tr>\n",
       "      <th>2597</th>\n",
       "      <td>-0.232819</td>\n",
       "      <td>-0.037865</td>\n",
       "      <td>-0.141524</td>\n",
       "      <td>-0.363014</td>\n",
       "    </tr>\n",
       "  </tbody>\n",
       "</table>\n",
       "</div>"
      ],
      "text/plain": [
       "      precursor_buy_cap_pct_change  precursor_ask_cap_pct_change  \\\n",
       "1258                     -0.049673                     -0.035832   \n",
       "2597                     -0.232819                     -0.037865   \n",
       "\n",
       "      precursor_bid_vol_pct_change  precursor_ask_vol_pct_change  \n",
       "1258                     -0.059342                     -0.097716  \n",
       "2597                     -0.141524                     -0.363014  "
      ]
     },
     "execution_count": 49,
     "metadata": {},
     "output_type": "execute_result"
    }
   ],
   "source": [
    "##outline fundamental fastai / bones\n",
    "# path = untar_data(URLs.ADULT_SAMPLE)\n",
    "\n",
    "\n",
    "\n",
    "\n",
    "splits = RandomSplitter(valid_pct=0.2)(range_of(df))\n",
    "\n",
    "to = TabularPandas(df, procs=[Normalize],\n",
    "                   cont_names = keepable, \n",
    "                   y_names='label',\n",
    "                   splits=splits)\n",
    "\n",
    "to.xs.iloc[:2]"
   ]
  },
  {
   "cell_type": "code",
   "execution_count": 50,
   "metadata": {},
   "outputs": [],
   "source": [
    "dls = to.dataloaders(bs=64)"
   ]
  },
  {
   "cell_type": "code",
   "execution_count": 51,
   "metadata": {},
   "outputs": [
    {
     "data": {
      "text/html": [
       "<table border=\"1\" class=\"dataframe\">\n",
       "  <thead>\n",
       "    <tr style=\"text-align: right;\">\n",
       "      <th></th>\n",
       "      <th>precursor_buy_cap_pct_change</th>\n",
       "      <th>precursor_ask_cap_pct_change</th>\n",
       "      <th>precursor_bid_vol_pct_change</th>\n",
       "      <th>precursor_ask_vol_pct_change</th>\n",
       "      <th>label</th>\n",
       "    </tr>\n",
       "  </thead>\n",
       "  <tbody>\n",
       "    <tr>\n",
       "      <th>0</th>\n",
       "      <td>-0.010236</td>\n",
       "      <td>0.000017</td>\n",
       "      <td>-0.002945</td>\n",
       "      <td>0.009721</td>\n",
       "      <td>4.0</td>\n",
       "    </tr>\n",
       "    <tr>\n",
       "      <th>1</th>\n",
       "      <td>-0.023029</td>\n",
       "      <td>0.000504</td>\n",
       "      <td>-0.009093</td>\n",
       "      <td>0.004741</td>\n",
       "      <td>3.0</td>\n",
       "    </tr>\n",
       "    <tr>\n",
       "      <th>2</th>\n",
       "      <td>0.013536</td>\n",
       "      <td>0.004218</td>\n",
       "      <td>0.006765</td>\n",
       "      <td>0.027589</td>\n",
       "      <td>4.0</td>\n",
       "    </tr>\n",
       "    <tr>\n",
       "      <th>3</th>\n",
       "      <td>-0.006493</td>\n",
       "      <td>-0.000353</td>\n",
       "      <td>-0.003084</td>\n",
       "      <td>-0.000900</td>\n",
       "      <td>3.0</td>\n",
       "    </tr>\n",
       "    <tr>\n",
       "      <th>4</th>\n",
       "      <td>-0.007896</td>\n",
       "      <td>-0.000034</td>\n",
       "      <td>-0.001932</td>\n",
       "      <td>0.005059</td>\n",
       "      <td>3.0</td>\n",
       "    </tr>\n",
       "    <tr>\n",
       "      <th>5</th>\n",
       "      <td>-0.012626</td>\n",
       "      <td>0.000036</td>\n",
       "      <td>-0.004785</td>\n",
       "      <td>0.002128</td>\n",
       "      <td>5.0</td>\n",
       "    </tr>\n",
       "    <tr>\n",
       "      <th>6</th>\n",
       "      <td>-0.001215</td>\n",
       "      <td>-0.004000</td>\n",
       "      <td>-0.000570</td>\n",
       "      <td>-0.011367</td>\n",
       "      <td>5.0</td>\n",
       "    </tr>\n",
       "    <tr>\n",
       "      <th>7</th>\n",
       "      <td>-0.002853</td>\n",
       "      <td>0.000012</td>\n",
       "      <td>-0.001421</td>\n",
       "      <td>0.001379</td>\n",
       "      <td>3.0</td>\n",
       "    </tr>\n",
       "    <tr>\n",
       "      <th>8</th>\n",
       "      <td>0.009649</td>\n",
       "      <td>0.000431</td>\n",
       "      <td>0.002856</td>\n",
       "      <td>0.001723</td>\n",
       "      <td>6.0</td>\n",
       "    </tr>\n",
       "    <tr>\n",
       "      <th>9</th>\n",
       "      <td>-0.698507</td>\n",
       "      <td>0.205589</td>\n",
       "      <td>-0.473192</td>\n",
       "      <td>0.218052</td>\n",
       "      <td>3.0</td>\n",
       "    </tr>\n",
       "  </tbody>\n",
       "</table>"
      ],
      "text/plain": [
       "<IPython.core.display.HTML object>"
      ]
     },
     "metadata": {},
     "output_type": "display_data"
    }
   ],
   "source": [
    "dls.show_batch()"
   ]
  },
  {
   "cell_type": "code",
   "execution_count": 52,
   "metadata": {},
   "outputs": [],
   "source": [
    "learn = tabular_learner(dls, metrics=accuracy)"
   ]
  },
  {
   "cell_type": "code",
   "execution_count": 53,
   "metadata": {},
   "outputs": [
    {
     "data": {
      "text/html": [
       "\n",
       "<style>\n",
       "    /* Turns off some styling */\n",
       "    progress {\n",
       "        /* gets rid of default border in Firefox and Opera. */\n",
       "        border: none;\n",
       "        /* Needs to be in here for Safari polyfill so background images work as expected. */\n",
       "        background-size: auto;\n",
       "    }\n",
       "    progress:not([value]), progress:not([value])::-webkit-progress-bar {\n",
       "        background: repeating-linear-gradient(45deg, #7e7e7e, #7e7e7e 10px, #5c5c5c 10px, #5c5c5c 20px);\n",
       "    }\n",
       "    .progress-bar-interrupted, .progress-bar-interrupted::-webkit-progress-bar {\n",
       "        background: #F44336;\n",
       "    }\n",
       "</style>\n"
      ],
      "text/plain": [
       "<IPython.core.display.HTML object>"
      ]
     },
     "metadata": {},
     "output_type": "display_data"
    },
    {
     "data": {
      "text/html": [
       "<table border=\"1\" class=\"dataframe\">\n",
       "  <thead>\n",
       "    <tr style=\"text-align: left;\">\n",
       "      <th>epoch</th>\n",
       "      <th>train_loss</th>\n",
       "      <th>valid_loss</th>\n",
       "      <th>accuracy</th>\n",
       "      <th>time</th>\n",
       "    </tr>\n",
       "  </thead>\n",
       "  <tbody>\n",
       "    <tr>\n",
       "      <td>0</td>\n",
       "      <td>13.229666</td>\n",
       "      <td>12.065460</td>\n",
       "      <td>0.000000</td>\n",
       "      <td>00:00</td>\n",
       "    </tr>\n",
       "    <tr>\n",
       "      <td>1</td>\n",
       "      <td>9.780723</td>\n",
       "      <td>6.714011</td>\n",
       "      <td>0.000000</td>\n",
       "      <td>00:00</td>\n",
       "    </tr>\n",
       "    <tr>\n",
       "      <td>2</td>\n",
       "      <td>5.378587</td>\n",
       "      <td>2.988507</td>\n",
       "      <td>0.000000</td>\n",
       "      <td>00:00</td>\n",
       "    </tr>\n",
       "    <tr>\n",
       "      <td>3</td>\n",
       "      <td>3.315682</td>\n",
       "      <td>2.498810</td>\n",
       "      <td>0.000000</td>\n",
       "      <td>00:00</td>\n",
       "    </tr>\n",
       "  </tbody>\n",
       "</table>"
      ],
      "text/plain": [
       "<IPython.core.display.HTML object>"
      ]
     },
     "metadata": {},
     "output_type": "display_data"
    }
   ],
   "source": [
    "learn.fit_one_cycle(4)"
   ]
  },
  {
   "cell_type": "code",
   "execution_count": 55,
   "metadata": {},
   "outputs": [
    {
     "data": {
      "text/html": [
       "\n",
       "<style>\n",
       "    /* Turns off some styling */\n",
       "    progress {\n",
       "        /* gets rid of default border in Firefox and Opera. */\n",
       "        border: none;\n",
       "        /* Needs to be in here for Safari polyfill so background images work as expected. */\n",
       "        background-size: auto;\n",
       "    }\n",
       "    progress:not([value]), progress:not([value])::-webkit-progress-bar {\n",
       "        background: repeating-linear-gradient(45deg, #7e7e7e, #7e7e7e 10px, #5c5c5c 10px, #5c5c5c 20px);\n",
       "    }\n",
       "    .progress-bar-interrupted, .progress-bar-interrupted::-webkit-progress-bar {\n",
       "        background: #F44336;\n",
       "    }\n",
       "</style>\n"
      ],
      "text/plain": [
       "<IPython.core.display.HTML object>"
      ]
     },
     "metadata": {},
     "output_type": "display_data"
    },
    {
     "data": {
      "text/html": [],
      "text/plain": [
       "<IPython.core.display.HTML object>"
      ]
     },
     "metadata": {},
     "output_type": "display_data"
    },
    {
     "data": {
      "text/html": [
       "<table border=\"1\" class=\"dataframe\">\n",
       "  <thead>\n",
       "    <tr style=\"text-align: right;\">\n",
       "      <th></th>\n",
       "      <th>precursor_buy_cap_pct_change</th>\n",
       "      <th>precursor_ask_cap_pct_change</th>\n",
       "      <th>precursor_bid_vol_pct_change</th>\n",
       "      <th>precursor_ask_vol_pct_change</th>\n",
       "      <th>label</th>\n",
       "      <th>label_pred</th>\n",
       "    </tr>\n",
       "  </thead>\n",
       "  <tbody>\n",
       "    <tr>\n",
       "      <th>0</th>\n",
       "      <td>-0.050745</td>\n",
       "      <td>-0.035875</td>\n",
       "      <td>-0.043614</td>\n",
       "      <td>-0.129891</td>\n",
       "      <td>3.0</td>\n",
       "      <td>2.371946</td>\n",
       "    </tr>\n",
       "    <tr>\n",
       "      <th>1</th>\n",
       "      <td>-0.183348</td>\n",
       "      <td>-0.035840</td>\n",
       "      <td>-0.117781</td>\n",
       "      <td>-0.101827</td>\n",
       "      <td>5.0</td>\n",
       "      <td>2.372233</td>\n",
       "    </tr>\n",
       "    <tr>\n",
       "      <th>2</th>\n",
       "      <td>-0.032373</td>\n",
       "      <td>-0.037407</td>\n",
       "      <td>-0.045802</td>\n",
       "      <td>-0.339507</td>\n",
       "      <td>5.0</td>\n",
       "      <td>2.572989</td>\n",
       "    </tr>\n",
       "    <tr>\n",
       "      <th>3</th>\n",
       "      <td>-0.046401</td>\n",
       "      <td>-0.035814</td>\n",
       "      <td>-0.030343</td>\n",
       "      <td>0.061012</td>\n",
       "      <td>5.0</td>\n",
       "      <td>2.274800</td>\n",
       "    </tr>\n",
       "    <tr>\n",
       "      <th>4</th>\n",
       "      <td>-0.041684</td>\n",
       "      <td>-0.035604</td>\n",
       "      <td>-0.037575</td>\n",
       "      <td>-0.028504</td>\n",
       "      <td>3.0</td>\n",
       "      <td>2.273452</td>\n",
       "    </tr>\n",
       "    <tr>\n",
       "      <th>5</th>\n",
       "      <td>-0.069684</td>\n",
       "      <td>-0.035173</td>\n",
       "      <td>0.046878</td>\n",
       "      <td>0.085558</td>\n",
       "      <td>5.0</td>\n",
       "      <td>2.292290</td>\n",
       "    </tr>\n",
       "    <tr>\n",
       "      <th>6</th>\n",
       "      <td>0.274181</td>\n",
       "      <td>-0.035831</td>\n",
       "      <td>0.143497</td>\n",
       "      <td>-0.078416</td>\n",
       "      <td>6.0</td>\n",
       "      <td>2.513288</td>\n",
       "    </tr>\n",
       "    <tr>\n",
       "      <th>7</th>\n",
       "      <td>-0.079160</td>\n",
       "      <td>-0.035573</td>\n",
       "      <td>-0.057552</td>\n",
       "      <td>-0.016856</td>\n",
       "      <td>3.0</td>\n",
       "      <td>2.271174</td>\n",
       "    </tr>\n",
       "    <tr>\n",
       "      <th>8</th>\n",
       "      <td>0.162907</td>\n",
       "      <td>-0.036781</td>\n",
       "      <td>0.104517</td>\n",
       "      <td>-0.465143</td>\n",
       "      <td>3.0</td>\n",
       "      <td>2.723783</td>\n",
       "    </tr>\n",
       "  </tbody>\n",
       "</table>"
      ],
      "text/plain": [
       "<IPython.core.display.HTML object>"
      ]
     },
     "metadata": {},
     "output_type": "display_data"
    }
   ],
   "source": [
    "learn.show_results()"
   ]
  },
  {
   "cell_type": "code",
   "execution_count": 57,
   "metadata": {},
   "outputs": [
    {
     "data": {
      "text/html": [
       "\n",
       "<style>\n",
       "    /* Turns off some styling */\n",
       "    progress {\n",
       "        /* gets rid of default border in Firefox and Opera. */\n",
       "        border: none;\n",
       "        /* Needs to be in here for Safari polyfill so background images work as expected. */\n",
       "        background-size: auto;\n",
       "    }\n",
       "    progress:not([value]), progress:not([value])::-webkit-progress-bar {\n",
       "        background: repeating-linear-gradient(45deg, #7e7e7e, #7e7e7e 10px, #5c5c5c 10px, #5c5c5c 20px);\n",
       "    }\n",
       "    .progress-bar-interrupted, .progress-bar-interrupted::-webkit-progress-bar {\n",
       "        background: #F44336;\n",
       "    }\n",
       "</style>\n"
      ],
      "text/plain": [
       "<IPython.core.display.HTML object>"
      ]
     },
     "metadata": {},
     "output_type": "display_data"
    },
    {
     "data": {
      "text/html": [],
      "text/plain": [
       "<IPython.core.display.HTML object>"
      ]
     },
     "metadata": {},
     "output_type": "display_data"
    }
   ],
   "source": [
    "row, clas, probs = learn.predict(df.iloc[0])"
   ]
  },
  {
   "cell_type": "code",
   "execution_count": 59,
   "metadata": {},
   "outputs": [
    {
     "data": {
      "text/html": [
       "<table border=\"1\" class=\"dataframe\">\n",
       "  <thead>\n",
       "    <tr style=\"text-align: right;\">\n",
       "      <th></th>\n",
       "      <th>precursor_buy_cap_pct_change</th>\n",
       "      <th>precursor_ask_cap_pct_change</th>\n",
       "      <th>precursor_bid_vol_pct_change</th>\n",
       "      <th>precursor_ask_vol_pct_change</th>\n",
       "      <th>label</th>\n",
       "    </tr>\n",
       "  </thead>\n",
       "  <tbody>\n",
       "    <tr>\n",
       "      <th>0</th>\n",
       "      <td>-0.000044</td>\n",
       "      <td>-0.000004</td>\n",
       "      <td>-0.000017</td>\n",
       "      <td>-0.000351</td>\n",
       "      <td>2.314217</td>\n",
       "    </tr>\n",
       "  </tbody>\n",
       "</table>"
      ],
      "text/plain": [
       "<IPython.core.display.HTML object>"
      ]
     },
     "metadata": {},
     "output_type": "display_data"
    }
   ],
   "source": [
    "row.show()"
   ]
  },
  {
   "cell_type": "code",
   "execution_count": 61,
   "metadata": {},
   "outputs": [
    {
     "data": {
      "text/plain": [
       "(tensor([2.3142]), tensor([2.3142]))"
      ]
     },
     "execution_count": 61,
     "metadata": {},
     "output_type": "execute_result"
    }
   ],
   "source": [
    "clas, probs"
   ]
  },
  {
   "cell_type": "code",
   "execution_count": 64,
   "metadata": {},
   "outputs": [],
   "source": [
    "test_df = df.copy()\n",
    "test_df.drop(['label'], axis=1, inplace=True)\n",
    "dl = learn.dls.test_dl(test_df)"
   ]
  },
  {
   "cell_type": "code",
   "execution_count": 65,
   "metadata": {},
   "outputs": [
    {
     "data": {
      "text/html": [
       "\n",
       "<style>\n",
       "    /* Turns off some styling */\n",
       "    progress {\n",
       "        /* gets rid of default border in Firefox and Opera. */\n",
       "        border: none;\n",
       "        /* Needs to be in here for Safari polyfill so background images work as expected. */\n",
       "        background-size: auto;\n",
       "    }\n",
       "    progress:not([value]), progress:not([value])::-webkit-progress-bar {\n",
       "        background: repeating-linear-gradient(45deg, #7e7e7e, #7e7e7e 10px, #5c5c5c 10px, #5c5c5c 20px);\n",
       "    }\n",
       "    .progress-bar-interrupted, .progress-bar-interrupted::-webkit-progress-bar {\n",
       "        background: #F44336;\n",
       "    }\n",
       "</style>\n"
      ],
      "text/plain": [
       "<IPython.core.display.HTML object>"
      ]
     },
     "metadata": {},
     "output_type": "display_data"
    },
    {
     "data": {
      "text/html": [],
      "text/plain": [
       "<IPython.core.display.HTML object>"
      ]
     },
     "metadata": {},
     "output_type": "display_data"
    },
    {
     "data": {
      "text/plain": [
       "(tensor([[2.3142],\n",
       "         [2.3066],\n",
       "         [2.3451],\n",
       "         ...,\n",
       "         [2.3095],\n",
       "         [2.4134],\n",
       "         [2.2585]]),\n",
       " None)"
      ]
     },
     "execution_count": 65,
     "metadata": {},
     "output_type": "execute_result"
    }
   ],
   "source": [
    "learn.get_preds(dl=dl)"
   ]
  }
 ],
 "metadata": {
  "kernelspec": {
   "display_name": "Python 3 (ipykernel)",
   "language": "python",
   "name": "python3"
  },
  "language_info": {
   "codemirror_mode": {
    "name": "ipython",
    "version": 3
   },
   "file_extension": ".py",
   "mimetype": "text/x-python",
   "name": "python",
   "nbconvert_exporter": "python",
   "pygments_lexer": "ipython3",
   "version": "3.10.8"
  },
  "orig_nbformat": 4
 },
 "nbformat": 4,
 "nbformat_minor": 2
}
