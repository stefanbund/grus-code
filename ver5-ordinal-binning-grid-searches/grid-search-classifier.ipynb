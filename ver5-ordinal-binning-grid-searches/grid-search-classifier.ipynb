{
 "cells": [
  {
   "cell_type": "code",
   "execution_count": null,
   "metadata": {},
   "outputs": [],
   "source": [
    "## classifier search"
   ]
  },
  {
   "cell_type": "code",
   "execution_count": null,
   "metadata": {},
   "outputs": [],
   "source": [
    "# Import the necessary libraries\n",
    "import pandas as pd\n",
    "from sklearn.model_selection import GridSearchCV\n",
    "from sklearn.pipeline import Pipeline\n",
    "from sklearn.preprocessing import StandardScaler\n",
    "from sklearn.svm import SVC\n",
    "from sklearn.ensemble import RandomForestClassifier\n",
    "from sklearn.linear_model import LogisticRegression\n",
    "\n",
    "# Create the dataframe 'm2_pipeline'\n",
    "m2_pipeline = pd.DataFrame(...)  # Replace '...' with your actual data\n",
    "\n",
    "# Define the classifier methods and their corresponding parameter grids\n",
    "classifiers = [\n",
    "    ('SVM', SVC(), {'C': [0.1, 1, 10], 'kernel': ['linear', 'rbf']}),\n",
    "    ('Random Forest', RandomForestClassifier(), {'n_estimators': [100, 200, 300], 'max_depth': [None, 5, 10]}),\n",
    "    ('Logistic Regression', LogisticRegression(), {'C': [0.1, 1, 10], 'penalty': ['l1', 'l2']})\n",
    "    # Add more classifiers and their parameter grids here\n",
    "]\n",
    "\n",
    "# Perform grid search on each classifier in a loop\n",
    "for classifier_name, classifier, param_grid in classifiers:\n",
    "    # Create the pipeline with a scaler and the classifier\n",
    "    pipeline = Pipeline([\n",
    "        ('scaler', StandardScaler()),\n",
    "        ('classifier', classifier)\n",
    "    ])\n",
    "\n",
    "    # Perform grid search to find the best classifier and its parameters\n",
    "    grid_search = GridSearchCV(pipeline, param_grid=param_grid, cv=5)\n",
    "    grid_search.fit(m2_pipeline)\n",
    "\n",
    "    # Print the best classifier and its parameters\n",
    "    print(f\"Best classifier for {classifier_name}: {grid_search.best_estimator_}\")\n",
    "    print(f\"Best parameters for {classifier_name}: {grid_search.best_params_}\")\n"
   ]
  }
 ],
 "metadata": {
  "language_info": {
   "name": "python"
  },
  "orig_nbformat": 4
 },
 "nbformat": 4,
 "nbformat_minor": 2
}
