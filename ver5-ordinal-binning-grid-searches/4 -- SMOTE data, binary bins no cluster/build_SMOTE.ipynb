{
 "cells": [
  {
   "cell_type": "code",
   "execution_count": 2,
   "metadata": {},
   "outputs": [
    {
     "name": "stdout",
     "output_type": "stream",
     "text": [
      "Requirement already satisfied: imblearn in /home/stefan/Desktop/GRUS/caret1/core/gh-code/grus-code/.conda/lib/python3.9/site-packages (0.0)\n",
      "Requirement already satisfied: imbalanced-learn in /home/stefan/Desktop/GRUS/caret1/core/gh-code/grus-code/.conda/lib/python3.9/site-packages (from imblearn) (0.11.0)\n",
      "Requirement already satisfied: numpy>=1.17.3 in /home/stefan/Desktop/GRUS/caret1/core/gh-code/grus-code/.conda/lib/python3.9/site-packages (from imbalanced-learn->imblearn) (1.25.2)\n",
      "Requirement already satisfied: scipy>=1.5.0 in /home/stefan/Desktop/GRUS/caret1/core/gh-code/grus-code/.conda/lib/python3.9/site-packages (from imbalanced-learn->imblearn) (1.11.3)\n",
      "Requirement already satisfied: scikit-learn>=1.0.2 in /home/stefan/Desktop/GRUS/caret1/core/gh-code/grus-code/.conda/lib/python3.9/site-packages (from imbalanced-learn->imblearn) (1.3.1)\n",
      "Requirement already satisfied: joblib>=1.1.1 in /home/stefan/Desktop/GRUS/caret1/core/gh-code/grus-code/.conda/lib/python3.9/site-packages (from imbalanced-learn->imblearn) (1.3.2)\n",
      "Requirement already satisfied: threadpoolctl>=2.0.0 in /home/stefan/Desktop/GRUS/caret1/core/gh-code/grus-code/.conda/lib/python3.9/site-packages (from imbalanced-learn->imblearn) (3.2.0)\n",
      "Note: you may need to restart the kernel to use updated packages.\n",
      "Requirement already satisfied: pandas in /home/stefan/Desktop/GRUS/caret1/core/gh-code/grus-code/.conda/lib/python3.9/site-packages (2.1.1)\n",
      "Requirement already satisfied: numpy>=1.22.4 in /home/stefan/Desktop/GRUS/caret1/core/gh-code/grus-code/.conda/lib/python3.9/site-packages (from pandas) (1.25.2)\n",
      "Requirement already satisfied: python-dateutil>=2.8.2 in /home/stefan/Desktop/GRUS/caret1/core/gh-code/grus-code/.conda/lib/python3.9/site-packages (from pandas) (2.8.2)\n",
      "Requirement already satisfied: pytz>=2020.1 in /home/stefan/Desktop/GRUS/caret1/core/gh-code/grus-code/.conda/lib/python3.9/site-packages (from pandas) (2023.3.post1)\n",
      "Requirement already satisfied: tzdata>=2022.1 in /home/stefan/Desktop/GRUS/caret1/core/gh-code/grus-code/.conda/lib/python3.9/site-packages (from pandas) (2023.3)\n",
      "Requirement already satisfied: six>=1.5 in /home/stefan/Desktop/GRUS/caret1/core/gh-code/grus-code/.conda/lib/python3.9/site-packages (from python-dateutil>=2.8.2->pandas) (1.16.0)\n",
      "Note: you may need to restart the kernel to use updated packages.\n",
      "Requirement already satisfied: shap in /home/stefan/Desktop/GRUS/caret1/core/gh-code/grus-code/.conda/lib/python3.9/site-packages (0.43.0)\n",
      "Requirement already satisfied: numpy in /home/stefan/Desktop/GRUS/caret1/core/gh-code/grus-code/.conda/lib/python3.9/site-packages (from shap) (1.25.2)\n",
      "Requirement already satisfied: scipy in /home/stefan/Desktop/GRUS/caret1/core/gh-code/grus-code/.conda/lib/python3.9/site-packages (from shap) (1.11.3)\n",
      "Requirement already satisfied: scikit-learn in /home/stefan/Desktop/GRUS/caret1/core/gh-code/grus-code/.conda/lib/python3.9/site-packages (from shap) (1.3.1)\n",
      "Requirement already satisfied: pandas in /home/stefan/Desktop/GRUS/caret1/core/gh-code/grus-code/.conda/lib/python3.9/site-packages (from shap) (2.1.1)\n",
      "Requirement already satisfied: tqdm>=4.27.0 in /home/stefan/Desktop/GRUS/caret1/core/gh-code/grus-code/.conda/lib/python3.9/site-packages (from shap) (4.66.1)\n",
      "Requirement already satisfied: packaging>20.9 in /home/stefan/Desktop/GRUS/caret1/core/gh-code/grus-code/.conda/lib/python3.9/site-packages (from shap) (23.2)\n",
      "Requirement already satisfied: slicer==0.0.7 in /home/stefan/Desktop/GRUS/caret1/core/gh-code/grus-code/.conda/lib/python3.9/site-packages (from shap) (0.0.7)\n",
      "Requirement already satisfied: numba in /home/stefan/Desktop/GRUS/caret1/core/gh-code/grus-code/.conda/lib/python3.9/site-packages (from shap) (0.58.0)\n",
      "Requirement already satisfied: cloudpickle in /home/stefan/Desktop/GRUS/caret1/core/gh-code/grus-code/.conda/lib/python3.9/site-packages (from shap) (3.0.0)\n",
      "Requirement already satisfied: llvmlite<0.42,>=0.41.0dev0 in /home/stefan/Desktop/GRUS/caret1/core/gh-code/grus-code/.conda/lib/python3.9/site-packages (from numba->shap) (0.41.0)\n",
      "Requirement already satisfied: python-dateutil>=2.8.2 in /home/stefan/Desktop/GRUS/caret1/core/gh-code/grus-code/.conda/lib/python3.9/site-packages (from pandas->shap) (2.8.2)\n",
      "Requirement already satisfied: pytz>=2020.1 in /home/stefan/Desktop/GRUS/caret1/core/gh-code/grus-code/.conda/lib/python3.9/site-packages (from pandas->shap) (2023.3.post1)\n",
      "Requirement already satisfied: tzdata>=2022.1 in /home/stefan/Desktop/GRUS/caret1/core/gh-code/grus-code/.conda/lib/python3.9/site-packages (from pandas->shap) (2023.3)\n",
      "Requirement already satisfied: joblib>=1.1.1 in /home/stefan/Desktop/GRUS/caret1/core/gh-code/grus-code/.conda/lib/python3.9/site-packages (from scikit-learn->shap) (1.3.2)\n",
      "Requirement already satisfied: threadpoolctl>=2.0.0 in /home/stefan/Desktop/GRUS/caret1/core/gh-code/grus-code/.conda/lib/python3.9/site-packages (from scikit-learn->shap) (3.2.0)\n",
      "Requirement already satisfied: six>=1.5 in /home/stefan/Desktop/GRUS/caret1/core/gh-code/grus-code/.conda/lib/python3.9/site-packages (from python-dateutil>=2.8.2->pandas->shap) (1.16.0)\n",
      "Note: you may need to restart the kernel to use updated packages.\n",
      "Requirement already satisfied: matplot in /home/stefan/Desktop/GRUS/caret1/core/gh-code/grus-code/.conda/lib/python3.9/site-packages (0.1.9)\n",
      "Requirement already satisfied: pyloco>=0.0.134 in /home/stefan/Desktop/GRUS/caret1/core/gh-code/grus-code/.conda/lib/python3.9/site-packages (from matplot) (0.0.139)\n",
      "Requirement already satisfied: matplotlib>=3.1.1 in /home/stefan/Desktop/GRUS/caret1/core/gh-code/grus-code/.conda/lib/python3.9/site-packages (from matplot) (3.8.0)\n",
      "Requirement already satisfied: contourpy>=1.0.1 in /home/stefan/Desktop/GRUS/caret1/core/gh-code/grus-code/.conda/lib/python3.9/site-packages (from matplotlib>=3.1.1->matplot) (1.1.1)\n",
      "Requirement already satisfied: cycler>=0.10 in /home/stefan/Desktop/GRUS/caret1/core/gh-code/grus-code/.conda/lib/python3.9/site-packages (from matplotlib>=3.1.1->matplot) (0.12.1)\n",
      "Requirement already satisfied: fonttools>=4.22.0 in /home/stefan/Desktop/GRUS/caret1/core/gh-code/grus-code/.conda/lib/python3.9/site-packages (from matplotlib>=3.1.1->matplot) (4.43.1)\n",
      "Requirement already satisfied: kiwisolver>=1.0.1 in /home/stefan/Desktop/GRUS/caret1/core/gh-code/grus-code/.conda/lib/python3.9/site-packages (from matplotlib>=3.1.1->matplot) (1.4.5)\n",
      "Requirement already satisfied: numpy<2,>=1.21 in /home/stefan/Desktop/GRUS/caret1/core/gh-code/grus-code/.conda/lib/python3.9/site-packages (from matplotlib>=3.1.1->matplot) (1.25.2)\n",
      "Requirement already satisfied: packaging>=20.0 in /home/stefan/Desktop/GRUS/caret1/core/gh-code/grus-code/.conda/lib/python3.9/site-packages (from matplotlib>=3.1.1->matplot) (23.2)\n",
      "Requirement already satisfied: pillow>=6.2.0 in /home/stefan/Desktop/GRUS/caret1/core/gh-code/grus-code/.conda/lib/python3.9/site-packages (from matplotlib>=3.1.1->matplot) (10.1.0)\n",
      "Requirement already satisfied: pyparsing>=2.3.1 in /home/stefan/Desktop/GRUS/caret1/core/gh-code/grus-code/.conda/lib/python3.9/site-packages (from matplotlib>=3.1.1->matplot) (3.1.1)\n",
      "Requirement already satisfied: python-dateutil>=2.7 in /home/stefan/Desktop/GRUS/caret1/core/gh-code/grus-code/.conda/lib/python3.9/site-packages (from matplotlib>=3.1.1->matplot) (2.8.2)\n",
      "Requirement already satisfied: importlib-resources>=3.2.0 in /home/stefan/Desktop/GRUS/caret1/core/gh-code/grus-code/.conda/lib/python3.9/site-packages (from matplotlib>=3.1.1->matplot) (6.1.0)\n",
      "Requirement already satisfied: ushlex in /home/stefan/Desktop/GRUS/caret1/core/gh-code/grus-code/.conda/lib/python3.9/site-packages (from pyloco>=0.0.134->matplot) (0.99.1)\n",
      "Requirement already satisfied: websocket-client in /home/stefan/Desktop/GRUS/caret1/core/gh-code/grus-code/.conda/lib/python3.9/site-packages (from pyloco>=0.0.134->matplot) (1.6.4)\n",
      "Requirement already satisfied: twine in /home/stefan/Desktop/GRUS/caret1/core/gh-code/grus-code/.conda/lib/python3.9/site-packages (from pyloco>=0.0.134->matplot) (4.0.2)\n",
      "Requirement already satisfied: typing in /home/stefan/Desktop/GRUS/caret1/core/gh-code/grus-code/.conda/lib/python3.9/site-packages (from pyloco>=0.0.134->matplot) (3.7.4.3)\n",
      "Requirement already satisfied: SimpleWebSocketServer in /home/stefan/Desktop/GRUS/caret1/core/gh-code/grus-code/.conda/lib/python3.9/site-packages (from pyloco>=0.0.134->matplot) (0.1.2)\n",
      "Requirement already satisfied: zipp>=3.1.0 in /home/stefan/Desktop/GRUS/caret1/core/gh-code/grus-code/.conda/lib/python3.9/site-packages (from importlib-resources>=3.2.0->matplotlib>=3.1.1->matplot) (3.17.0)\n",
      "Requirement already satisfied: six>=1.5 in /home/stefan/Desktop/GRUS/caret1/core/gh-code/grus-code/.conda/lib/python3.9/site-packages (from python-dateutil>=2.7->matplotlib>=3.1.1->matplot) (1.16.0)\n",
      "Requirement already satisfied: pkginfo>=1.8.1 in /home/stefan/Desktop/GRUS/caret1/core/gh-code/grus-code/.conda/lib/python3.9/site-packages (from twine->pyloco>=0.0.134->matplot) (1.9.6)\n",
      "Requirement already satisfied: readme-renderer>=35.0 in /home/stefan/Desktop/GRUS/caret1/core/gh-code/grus-code/.conda/lib/python3.9/site-packages (from twine->pyloco>=0.0.134->matplot) (42.0)\n",
      "Requirement already satisfied: requests>=2.20 in /home/stefan/Desktop/GRUS/caret1/core/gh-code/grus-code/.conda/lib/python3.9/site-packages (from twine->pyloco>=0.0.134->matplot) (2.31.0)\n",
      "Requirement already satisfied: requests-toolbelt!=0.9.0,>=0.8.0 in /home/stefan/Desktop/GRUS/caret1/core/gh-code/grus-code/.conda/lib/python3.9/site-packages (from twine->pyloco>=0.0.134->matplot) (1.0.0)\n",
      "Requirement already satisfied: urllib3>=1.26.0 in /home/stefan/Desktop/GRUS/caret1/core/gh-code/grus-code/.conda/lib/python3.9/site-packages (from twine->pyloco>=0.0.134->matplot) (2.0.6)\n",
      "Requirement already satisfied: importlib-metadata>=3.6 in /home/stefan/Desktop/GRUS/caret1/core/gh-code/grus-code/.conda/lib/python3.9/site-packages (from twine->pyloco>=0.0.134->matplot) (6.8.0)\n",
      "Requirement already satisfied: keyring>=15.1 in /home/stefan/Desktop/GRUS/caret1/core/gh-code/grus-code/.conda/lib/python3.9/site-packages (from twine->pyloco>=0.0.134->matplot) (24.2.0)\n",
      "Requirement already satisfied: rfc3986>=1.4.0 in /home/stefan/Desktop/GRUS/caret1/core/gh-code/grus-code/.conda/lib/python3.9/site-packages (from twine->pyloco>=0.0.134->matplot) (2.0.0)\n",
      "Requirement already satisfied: rich>=12.0.0 in /home/stefan/Desktop/GRUS/caret1/core/gh-code/grus-code/.conda/lib/python3.9/site-packages (from twine->pyloco>=0.0.134->matplot) (13.6.0)\n",
      "Requirement already satisfied: jaraco.classes in /home/stefan/Desktop/GRUS/caret1/core/gh-code/grus-code/.conda/lib/python3.9/site-packages (from keyring>=15.1->twine->pyloco>=0.0.134->matplot) (3.3.0)\n",
      "Requirement already satisfied: SecretStorage>=3.2 in /home/stefan/Desktop/GRUS/caret1/core/gh-code/grus-code/.conda/lib/python3.9/site-packages (from keyring>=15.1->twine->pyloco>=0.0.134->matplot) (3.3.3)\n",
      "Requirement already satisfied: jeepney>=0.4.2 in /home/stefan/Desktop/GRUS/caret1/core/gh-code/grus-code/.conda/lib/python3.9/site-packages (from keyring>=15.1->twine->pyloco>=0.0.134->matplot) (0.8.0)\n",
      "Requirement already satisfied: nh3>=0.2.14 in /home/stefan/Desktop/GRUS/caret1/core/gh-code/grus-code/.conda/lib/python3.9/site-packages (from readme-renderer>=35.0->twine->pyloco>=0.0.134->matplot) (0.2.14)\n",
      "Requirement already satisfied: docutils>=0.13.1 in /home/stefan/Desktop/GRUS/caret1/core/gh-code/grus-code/.conda/lib/python3.9/site-packages (from readme-renderer>=35.0->twine->pyloco>=0.0.134->matplot) (0.20.1)\n",
      "Requirement already satisfied: Pygments>=2.5.1 in /home/stefan/Desktop/GRUS/caret1/core/gh-code/grus-code/.conda/lib/python3.9/site-packages (from readme-renderer>=35.0->twine->pyloco>=0.0.134->matplot) (2.16.1)\n",
      "Requirement already satisfied: charset-normalizer<4,>=2 in /home/stefan/Desktop/GRUS/caret1/core/gh-code/grus-code/.conda/lib/python3.9/site-packages (from requests>=2.20->twine->pyloco>=0.0.134->matplot) (3.3.0)\n",
      "Requirement already satisfied: idna<4,>=2.5 in /home/stefan/Desktop/GRUS/caret1/core/gh-code/grus-code/.conda/lib/python3.9/site-packages (from requests>=2.20->twine->pyloco>=0.0.134->matplot) (3.4)\n",
      "Requirement already satisfied: certifi>=2017.4.17 in /home/stefan/Desktop/GRUS/caret1/core/gh-code/grus-code/.conda/lib/python3.9/site-packages (from requests>=2.20->twine->pyloco>=0.0.134->matplot) (2023.7.22)\n",
      "Requirement already satisfied: markdown-it-py>=2.2.0 in /home/stefan/Desktop/GRUS/caret1/core/gh-code/grus-code/.conda/lib/python3.9/site-packages (from rich>=12.0.0->twine->pyloco>=0.0.134->matplot) (3.0.0)\n",
      "Requirement already satisfied: mdurl~=0.1 in /home/stefan/Desktop/GRUS/caret1/core/gh-code/grus-code/.conda/lib/python3.9/site-packages (from markdown-it-py>=2.2.0->rich>=12.0.0->twine->pyloco>=0.0.134->matplot) (0.1.2)\n",
      "Requirement already satisfied: cryptography>=2.0 in /home/stefan/Desktop/GRUS/caret1/core/gh-code/grus-code/.conda/lib/python3.9/site-packages (from SecretStorage>=3.2->keyring>=15.1->twine->pyloco>=0.0.134->matplot) (41.0.4)\n",
      "Requirement already satisfied: more-itertools in /home/stefan/Desktop/GRUS/caret1/core/gh-code/grus-code/.conda/lib/python3.9/site-packages (from jaraco.classes->keyring>=15.1->twine->pyloco>=0.0.134->matplot) (10.1.0)\n",
      "Requirement already satisfied: cffi>=1.12 in /home/stefan/Desktop/GRUS/caret1/core/gh-code/grus-code/.conda/lib/python3.9/site-packages (from cryptography>=2.0->SecretStorage>=3.2->keyring>=15.1->twine->pyloco>=0.0.134->matplot) (1.16.0)\n",
      "Requirement already satisfied: pycparser in /home/stefan/Desktop/GRUS/caret1/core/gh-code/grus-code/.conda/lib/python3.9/site-packages (from cffi>=1.12->cryptography>=2.0->SecretStorage>=3.2->keyring>=15.1->twine->pyloco>=0.0.134->matplot) (2.21)\n",
      "Note: you may need to restart the kernel to use updated packages.\n",
      "Requirement already satisfied: seaborn in /home/stefan/Desktop/GRUS/caret1/core/gh-code/grus-code/.conda/lib/python3.9/site-packages (0.13.0)\n",
      "Requirement already satisfied: numpy!=1.24.0,>=1.20 in /home/stefan/Desktop/GRUS/caret1/core/gh-code/grus-code/.conda/lib/python3.9/site-packages (from seaborn) (1.25.2)\n",
      "Requirement already satisfied: pandas>=1.2 in /home/stefan/Desktop/GRUS/caret1/core/gh-code/grus-code/.conda/lib/python3.9/site-packages (from seaborn) (2.1.1)\n",
      "Requirement already satisfied: matplotlib!=3.6.1,>=3.3 in /home/stefan/Desktop/GRUS/caret1/core/gh-code/grus-code/.conda/lib/python3.9/site-packages (from seaborn) (3.8.0)\n",
      "Requirement already satisfied: contourpy>=1.0.1 in /home/stefan/Desktop/GRUS/caret1/core/gh-code/grus-code/.conda/lib/python3.9/site-packages (from matplotlib!=3.6.1,>=3.3->seaborn) (1.1.1)\n",
      "Requirement already satisfied: cycler>=0.10 in /home/stefan/Desktop/GRUS/caret1/core/gh-code/grus-code/.conda/lib/python3.9/site-packages (from matplotlib!=3.6.1,>=3.3->seaborn) (0.12.1)\n",
      "Requirement already satisfied: fonttools>=4.22.0 in /home/stefan/Desktop/GRUS/caret1/core/gh-code/grus-code/.conda/lib/python3.9/site-packages (from matplotlib!=3.6.1,>=3.3->seaborn) (4.43.1)\n",
      "Requirement already satisfied: kiwisolver>=1.0.1 in /home/stefan/Desktop/GRUS/caret1/core/gh-code/grus-code/.conda/lib/python3.9/site-packages (from matplotlib!=3.6.1,>=3.3->seaborn) (1.4.5)\n",
      "Requirement already satisfied: packaging>=20.0 in /home/stefan/Desktop/GRUS/caret1/core/gh-code/grus-code/.conda/lib/python3.9/site-packages (from matplotlib!=3.6.1,>=3.3->seaborn) (23.2)\n",
      "Requirement already satisfied: pillow>=6.2.0 in /home/stefan/Desktop/GRUS/caret1/core/gh-code/grus-code/.conda/lib/python3.9/site-packages (from matplotlib!=3.6.1,>=3.3->seaborn) (10.1.0)\n",
      "Requirement already satisfied: pyparsing>=2.3.1 in /home/stefan/Desktop/GRUS/caret1/core/gh-code/grus-code/.conda/lib/python3.9/site-packages (from matplotlib!=3.6.1,>=3.3->seaborn) (3.1.1)\n",
      "Requirement already satisfied: python-dateutil>=2.7 in /home/stefan/Desktop/GRUS/caret1/core/gh-code/grus-code/.conda/lib/python3.9/site-packages (from matplotlib!=3.6.1,>=3.3->seaborn) (2.8.2)\n",
      "Requirement already satisfied: importlib-resources>=3.2.0 in /home/stefan/Desktop/GRUS/caret1/core/gh-code/grus-code/.conda/lib/python3.9/site-packages (from matplotlib!=3.6.1,>=3.3->seaborn) (6.1.0)\n",
      "Requirement already satisfied: pytz>=2020.1 in /home/stefan/Desktop/GRUS/caret1/core/gh-code/grus-code/.conda/lib/python3.9/site-packages (from pandas>=1.2->seaborn) (2023.3.post1)\n",
      "Requirement already satisfied: tzdata>=2022.1 in /home/stefan/Desktop/GRUS/caret1/core/gh-code/grus-code/.conda/lib/python3.9/site-packages (from pandas>=1.2->seaborn) (2023.3)\n",
      "Requirement already satisfied: zipp>=3.1.0 in /home/stefan/Desktop/GRUS/caret1/core/gh-code/grus-code/.conda/lib/python3.9/site-packages (from importlib-resources>=3.2.0->matplotlib!=3.6.1,>=3.3->seaborn) (3.17.0)\n",
      "Requirement already satisfied: six>=1.5 in /home/stefan/Desktop/GRUS/caret1/core/gh-code/grus-code/.conda/lib/python3.9/site-packages (from python-dateutil>=2.7->matplotlib!=3.6.1,>=3.3->seaborn) (1.16.0)\n",
      "Note: you may need to restart the kernel to use updated packages.\n",
      "Requirement already satisfied: altair in /home/stefan/Desktop/GRUS/caret1/core/gh-code/grus-code/.conda/lib/python3.9/site-packages (5.1.2)\n",
      "Requirement already satisfied: jinja2 in /home/stefan/Desktop/GRUS/caret1/core/gh-code/grus-code/.conda/lib/python3.9/site-packages (from altair) (3.1.2)\n",
      "Requirement already satisfied: jsonschema>=3.0 in /home/stefan/Desktop/GRUS/caret1/core/gh-code/grus-code/.conda/lib/python3.9/site-packages (from altair) (4.19.1)\n",
      "Requirement already satisfied: numpy in /home/stefan/Desktop/GRUS/caret1/core/gh-code/grus-code/.conda/lib/python3.9/site-packages (from altair) (1.25.2)\n",
      "Requirement already satisfied: packaging in /home/stefan/Desktop/GRUS/caret1/core/gh-code/grus-code/.conda/lib/python3.9/site-packages (from altair) (23.2)\n",
      "Requirement already satisfied: pandas>=0.25 in /home/stefan/Desktop/GRUS/caret1/core/gh-code/grus-code/.conda/lib/python3.9/site-packages (from altair) (2.1.1)\n",
      "Requirement already satisfied: toolz in /home/stefan/Desktop/GRUS/caret1/core/gh-code/grus-code/.conda/lib/python3.9/site-packages (from altair) (0.12.0)\n",
      "Requirement already satisfied: typing-extensions>=4.0.1 in /home/stefan/Desktop/GRUS/caret1/core/gh-code/grus-code/.conda/lib/python3.9/site-packages (from altair) (4.8.0)\n",
      "Requirement already satisfied: attrs>=22.2.0 in /home/stefan/Desktop/GRUS/caret1/core/gh-code/grus-code/.conda/lib/python3.9/site-packages (from jsonschema>=3.0->altair) (23.1.0)\n",
      "Requirement already satisfied: jsonschema-specifications>=2023.03.6 in /home/stefan/Desktop/GRUS/caret1/core/gh-code/grus-code/.conda/lib/python3.9/site-packages (from jsonschema>=3.0->altair) (2023.7.1)\n",
      "Requirement already satisfied: referencing>=0.28.4 in /home/stefan/Desktop/GRUS/caret1/core/gh-code/grus-code/.conda/lib/python3.9/site-packages (from jsonschema>=3.0->altair) (0.30.2)\n",
      "Requirement already satisfied: rpds-py>=0.7.1 in /home/stefan/Desktop/GRUS/caret1/core/gh-code/grus-code/.conda/lib/python3.9/site-packages (from jsonschema>=3.0->altair) (0.10.6)\n",
      "Requirement already satisfied: python-dateutil>=2.8.2 in /home/stefan/Desktop/GRUS/caret1/core/gh-code/grus-code/.conda/lib/python3.9/site-packages (from pandas>=0.25->altair) (2.8.2)\n",
      "Requirement already satisfied: pytz>=2020.1 in /home/stefan/Desktop/GRUS/caret1/core/gh-code/grus-code/.conda/lib/python3.9/site-packages (from pandas>=0.25->altair) (2023.3.post1)\n",
      "Requirement already satisfied: tzdata>=2022.1 in /home/stefan/Desktop/GRUS/caret1/core/gh-code/grus-code/.conda/lib/python3.9/site-packages (from pandas>=0.25->altair) (2023.3)\n",
      "Requirement already satisfied: MarkupSafe>=2.0 in /home/stefan/Desktop/GRUS/caret1/core/gh-code/grus-code/.conda/lib/python3.9/site-packages (from jinja2->altair) (2.1.3)\n",
      "Requirement already satisfied: six>=1.5 in /home/stefan/Desktop/GRUS/caret1/core/gh-code/grus-code/.conda/lib/python3.9/site-packages (from python-dateutil>=2.8.2->pandas>=0.25->altair) (1.16.0)\n",
      "Note: you may need to restart the kernel to use updated packages.\n",
      "\u001b[31mERROR: Could not find a version that satisfies the requirement mlxtend.plotting (from versions: none)\u001b[0m\u001b[31m\n",
      "\u001b[0m\u001b[31mERROR: No matching distribution found for mlxtend.plotting\u001b[0m\u001b[31m\n",
      "\u001b[0mNote: you may need to restart the kernel to use updated packages.\n"
     ]
    }
   ],
   "source": [
    "%pip install imblearn\n",
    "%pip install pandas\n",
    "%pip install shap\n",
    "%pip install matplot\n",
    "%pip install seaborn\n",
    "%pip install altair"
   ]
  },
  {
   "cell_type": "markdown",
   "metadata": {},
   "source": [
    "## expand a labeled dataset to SMOTE\n",
    "\n",
    "magnify the number of minority/exceptional cases within the sequence dataset, ideally targets the binary binned dataset.\n",
    "\n",
    "[reference 1](<ver5-ordinal-binning-grid-searches/step 2-0, ranged clustering, with time.ipynb>)\n",
    "\n",
    "different oversampling tools: Naive random oversampling, SMOTE, ADASYN, SMOTENC, locate the most effective, while optimizing the accuracy of a binary classifier. ~98 accuracy\n",
    "\n",
    "a set of ensemble methods are tested then compiled into a voting classifier. ~90 accuracy"
   ]
  },
  {
   "cell_type": "code",
   "execution_count": 1,
   "metadata": {},
   "outputs": [
    {
     "name": "stderr",
     "output_type": "stream",
     "text": [
      "IProgress not found. Please update jupyter and ipywidgets. See https://ipywidgets.readthedocs.io/en/stable/user_install.html\n"
     ]
    }
   ],
   "source": [
    "from imblearn.over_sampling import RandomOverSampler, SMOTE, ADASYN, BorderlineSMOTE, SVMSMOTE,SMOTENC, KMeansSMOTE\n",
    "from imblearn.combine import SMOTEENN, SMOTETomek\n",
    "from collections import Counter\n",
    "import pandas as pd \n",
    "\n",
    "from sklearn.metrics import balanced_accuracy_score\n",
    "from imblearn.ensemble import BalancedBaggingClassifier,BalancedRandomForestClassifier,RUSBoostClassifier\n",
    "\n",
    "from sklearn.neighbors import KNeighborsClassifier\n",
    "from sklearn.metrics import accuracy_score\n",
    "\n",
    "from sklearn.svm import SVC\n",
    "from sklearn.ensemble import BaggingClassifier\n",
    "from sklearn.datasets import make_classification\n",
    "from sklearn.model_selection import GridSearchCV\n",
    "from sklearn.preprocessing import StandardScaler\n",
    "\n",
    "from sklearn.ensemble import HistGradientBoostingClassifier, GradientBoostingClassifier, RandomForestClassifier, \\\n",
    "ExtraTreesClassifier, RandomTreesEmbedding, BaggingClassifier\n",
    "from sklearn.linear_model import RidgeCV, LassoCV\n",
    "from sklearn.neighbors import KNeighborsClassifier\n",
    "\n",
    "from sklearn.model_selection import train_test_split\n",
    "from sklearn.metrics import multilabel_confusion_matrix\n",
    "from sklearn.metrics import confusion_matrix, ConfusionMatrixDisplay\n",
    "from sklearn.metrics import classification_report\n",
    "from scipy import stats\n",
    "\n",
    "from sklearn.tree import DecisionTreeClassifier\n",
    "import shap\n",
    "import pandas as pd\n",
    "import time\n",
    "from sklearn.inspection import permutation_importance\n",
    "import matplotlib.pyplot as plt\n",
    "import seaborn as sns\n",
    "import altair as alt\n",
    "\n",
    "from sklearn.linear_model import LogisticRegression\n",
    "from sklearn.naive_bayes import BernoulliNB\n",
    "from sklearn.neighbors import KNeighborsClassifier\n",
    "from sklearn.ensemble import  VotingClassifier \n",
    "from sklearn.model_selection import cross_val_score\n"
   ]
  },
  {
   "cell_type": "code",
   "execution_count": 6,
   "metadata": {},
   "outputs": [],
   "source": [
    "m2_pipeline = pd.read_csv(\"binary_binned_pipeline.csv\")"
   ]
  },
  {
   "cell_type": "code",
   "execution_count": 7,
   "metadata": {},
   "outputs": [
    {
     "data": {
      "text/plain": [
       "Index(['Unnamed: 0', 'precursor_buy_cap_pct_change',\n",
       "       'precursor_ask_cap_pct_change', 'precursor_bid_vol_pct_change',\n",
       "       'precursor_ask_vol_pct_change', 'sum_change', 'length',\n",
       "       'surge_targets_met_pct', 'time', 'label'],\n",
       "      dtype='object')"
      ]
     },
     "execution_count": 7,
     "metadata": {},
     "output_type": "execute_result"
    }
   ],
   "source": [
    "m2_pipeline.columns #do this to identify the index of the categorical feature, for below setup"
   ]
  },
  {
   "cell_type": "code",
   "execution_count": 8,
   "metadata": {},
   "outputs": [],
   "source": [
    "keepable = ['precursor_buy_cap_pct_change', \n",
    "            'precursor_ask_cap_pct_change',\n",
    "            'precursor_bid_vol_pct_change', \n",
    "            'precursor_ask_vol_pct_change',\n",
    "            'sum_change','length','time']"
   ]
  },
  {
   "cell_type": "code",
   "execution_count": 9,
   "metadata": {},
   "outputs": [],
   "source": [
    "y = m2_pipeline['label'].values #per https://stackoverflow.com/a/73095562/12001832\n",
    "X = m2_pipeline[keepable].values\n",
    "# Performing the test/train split\n",
    "X_train, X_test, y_train, y_test = train_test_split(X, y, test_size=0.2, random_state=42)\n",
    "\n",
    "#normalize all numeric columns\n",
    "scaler = StandardScaler()\n",
    "X_train_scaled = scaler.fit_transform(X_train)\n",
    "    "
   ]
  },
  {
   "cell_type": "code",
   "execution_count": 10,
   "metadata": {},
   "outputs": [],
   "source": [
    "#set up toolsets as functions to build separate datasets, bin_Naive, bin_SMOTE, bin_ADASYN\n",
    "\n",
    "def build_naive():  #https://imbalanced-learn.org/stable/over_sampling.html#naive-random-over-sampling\n",
    "    ros = RandomOverSampler(random_state=42, sampling_strategy='minority')\n",
    "    X_resampled, y_resampled = ros.fit_resample(X, y)\n",
    "    print(\"ROS\",sorted(Counter(y_resampled).items()))\n",
    "    return X_resampled, y_resampled\n",
    "\n",
    "def build_smote(): #https://imbalanced-learn.org/stable/references/generated/imblearn.over_sampling.SMOTE.html#smote\n",
    "    X_resampled, y_resampled = SMOTE(random_state=42 ).fit_resample(X, y)\n",
    "    print(\"SMOTE\",sorted(Counter(y_resampled).items()))\n",
    "    return X_resampled, y_resampled\n",
    "\n",
    "def build_adasyn(): #https://imbalanced-learn.org/stable/references/generated/imblearn.over_sampling.ADASYN.html#adasyn\n",
    "    X_resampled, y_resampled = ADASYN(random_state=42,sampling_strategy='minority').fit_resample(X, y)\n",
    "    print(\"ADASYN\",sorted(Counter(y_resampled).items()))\n",
    "    return X_resampled, y_resampled\n",
    "\n",
    "def build_borderline(): #https://imbalanced-learn.org/stable/references/generated/imblearn.over_sampling.BorderlineSMOTE.html#borderlinesmote\n",
    "    X_resampled, y_resampled = BorderlineSMOTE(random_state=42,sampling_strategy='minority').fit_resample(X, y)\n",
    "    print(\"BORDERLINE\",sorted(Counter(y_resampled).items())) \n",
    "    return X_resampled, y_resampled\n",
    "\n",
    "def build_smotenc(): #https://imbalanced-learn.org/stable/references/generated/imblearn.over_sampling.SMOTENC.html#smotenc\n",
    "    smote_nc = SMOTENC( random_state=42,sampling_strategy='minority')\n",
    "    X_resampled, y_resampled = smote_nc.fit_resample(X, y)\n",
    "    print(\"SMOTENC\",sorted(Counter(y_resampled).items()))\n",
    "    return X_resampled, y_resampled\n",
    "\n",
    "def build_svmsmote():\n",
    "    sm = SVMSMOTE(random_state=42)\n",
    "    X_res, y_res = sm.fit_resample(X, y)\n",
    "    print(\"SVMSMOTE\",'Resampled dataset shape %s' % Counter(y_res))\n",
    "    return X_res, y_res\n",
    "\n",
    "def build_kmsmote(): #https://imbalanced-learn.org/stable/combine.html#combination-of-over-and-under-sampling\n",
    "    m = KMeansSMOTE( random_state=42,sampling_strategy='minority')\n",
    "    X_res, y_res = m.fit_resample(X, y)\n",
    "    # Find the number of new samples in the middle blob\n",
    "    n_res_in_middle = ((X_res[:, 0] > -5) & (X_res[:, 0] < 5)).sum()\n",
    "    print(\"KMSMOTE\",\"Samples in the middle blob: %s\" % n_res_in_middle)\n",
    "    return X_res, y_res\n",
    "\n",
    "def build_smoteenn():\n",
    "    smote_enn = SMOTEENN(random_state=42,sampling_strategy='minority')\n",
    "    X_resampled, y_resampled = smote_enn.fit_resample(X, y)\n",
    "    print(\"SMOTEENN\",sorted(Counter(y_resampled).items()))\n",
    "    return X_resampled, y_resampled\n",
    "\n",
    "def build_smotetomek():\n",
    "    smote_tomek = SMOTETomek(random_state=42,sampling_strategy='minority')\n",
    "    X_resampled, y_resampled = smote_tomek.fit_resample(X, y)\n",
    "    print(\"SMOTETOMEK\",sorted(Counter(y_resampled).items()))\n",
    "    return X_resampled, y_resampled"
   ]
  },
  {
   "cell_type": "markdown",
   "metadata": {},
   "source": [
    "### take optimal classifier parameters and technique"
   ]
  },
  {
   "cell_type": "code",
   "execution_count": 11,
   "metadata": {},
   "outputs": [],
   "source": [
    "def getBestClassifier(oversampler, dataset):   #'kmsmote', build_svmsmote(source)\n",
    "    classifiers = [  # Define the classifiers and their respective hyperparameters\n",
    "        LogisticRegression(),\n",
    "        BernoulliNB(),\n",
    "        KNeighborsClassifier(),\n",
    "    ]\n",
    "    params = {\n",
    "        'LogisticRegression':{'C': [0.1, 1, 10], 'penalty':['l1','l2','elasticnet','None'], 'multi_class':['ovr','auto'],\\\n",
    "                              'random_state':[42]},\n",
    "        'BernoulliNB':{'fit_prior':[True, False]},\n",
    "        'KNeighborsClassifier':{'n_neighbors':[3,4,5,6,7,8], 'algorithm':['auto'], 'n_jobs':[1,2,3,4]}\n",
    "    }\n",
    "    comparative = []\n",
    "    # Perform the grid search\n",
    "    for clf in classifiers:\n",
    "        name = clf.__class__.__name__\n",
    "        if name in params:\n",
    "            grid_search = GridSearchCV(clf, params[name], cv=5)\n",
    "            grid_search.fit(X_train_scaled, y_train)\n",
    "            \n",
    "            print(f\"Best parameters for {name}: {grid_search.best_params_}\")\n",
    "            accuracy = grid_search.score(X_test, y_test)\n",
    "            \n",
    "            dict = {\"classifier\":name, \"best_params\":grid_search.best_params_, \"accuracy\":accuracy, \"oversampler\":oversampler}\n",
    "            comparative.append(dict)\n",
    "    return(comparative)"
   ]
  },
  {
   "cell_type": "markdown",
   "metadata": {},
   "source": [
    "## trigger the search mechanism, per SMOTE method\n",
    "\n",
    "loop through each oversampled dataset, then run the classifier search on that set, outlining each set, before hand\n",
    "\n",
    "for each set, run the classifier search"
   ]
  },
  {
   "cell_type": "code",
   "execution_count": null,
   "metadata": {},
   "outputs": [],
   "source": [
    "\n",
    "source = 'binary_binned_pipeline.csv'\n",
    "resultSet = []\n",
    "resultSet.append(getBestClassifier('naive', build_naive()))  #many rows\n",
    "resultSet.append(getBestClassifier('smote', build_smote()))\n",
    "resultSet.append(getBestClassifier('adasyn', build_adasyn()))\n",
    "resultSet.append(getBestClassifier('borderline', build_borderline()))\n",
    "# resultSet.append(getBestClassifier('smotenc', build_smotenc()))\n",
    "resultSet.append(getBestClassifier('svmsmote', build_svmsmote()))\n",
    "# resultSet.append(getBestClassifier('kmsmote', build_kmsmote()))\n",
    "resultSet.append(getBestClassifier('smoteenn', build_smoteenn()))\n",
    "resultSet.append(getBestClassifier('smotetomek', build_smotetomek()))\n",
    "\n",
    "optimals = pd.DataFrame(resultSet)"
   ]
  },
  {
   "cell_type": "code",
   "execution_count": 13,
   "metadata": {},
   "outputs": [
    {
     "data": {
      "text/html": [
       "<div>\n",
       "<style scoped>\n",
       "    .dataframe tbody tr th:only-of-type {\n",
       "        vertical-align: middle;\n",
       "    }\n",
       "\n",
       "    .dataframe tbody tr th {\n",
       "        vertical-align: top;\n",
       "    }\n",
       "\n",
       "    .dataframe thead th {\n",
       "        text-align: right;\n",
       "    }\n",
       "</style>\n",
       "<table border=\"1\" class=\"dataframe\">\n",
       "  <thead>\n",
       "    <tr style=\"text-align: right;\">\n",
       "      <th></th>\n",
       "      <th>0</th>\n",
       "      <th>1</th>\n",
       "      <th>2</th>\n",
       "    </tr>\n",
       "  </thead>\n",
       "  <tbody>\n",
       "    <tr>\n",
       "      <th>0</th>\n",
       "      <td>{'classifier': 'LogisticRegression', 'best_par...</td>\n",
       "      <td>{'classifier': 'BernoulliNB', 'best_params': {...</td>\n",
       "      <td>{'classifier': 'KNeighborsClassifier', 'best_p...</td>\n",
       "    </tr>\n",
       "    <tr>\n",
       "      <th>1</th>\n",
       "      <td>{'classifier': 'LogisticRegression', 'best_par...</td>\n",
       "      <td>{'classifier': 'BernoulliNB', 'best_params': {...</td>\n",
       "      <td>{'classifier': 'KNeighborsClassifier', 'best_p...</td>\n",
       "    </tr>\n",
       "    <tr>\n",
       "      <th>2</th>\n",
       "      <td>{'classifier': 'LogisticRegression', 'best_par...</td>\n",
       "      <td>{'classifier': 'BernoulliNB', 'best_params': {...</td>\n",
       "      <td>{'classifier': 'KNeighborsClassifier', 'best_p...</td>\n",
       "    </tr>\n",
       "    <tr>\n",
       "      <th>3</th>\n",
       "      <td>{'classifier': 'LogisticRegression', 'best_par...</td>\n",
       "      <td>{'classifier': 'BernoulliNB', 'best_params': {...</td>\n",
       "      <td>{'classifier': 'KNeighborsClassifier', 'best_p...</td>\n",
       "    </tr>\n",
       "    <tr>\n",
       "      <th>4</th>\n",
       "      <td>{'classifier': 'LogisticRegression', 'best_par...</td>\n",
       "      <td>{'classifier': 'BernoulliNB', 'best_params': {...</td>\n",
       "      <td>{'classifier': 'KNeighborsClassifier', 'best_p...</td>\n",
       "    </tr>\n",
       "    <tr>\n",
       "      <th>5</th>\n",
       "      <td>{'classifier': 'LogisticRegression', 'best_par...</td>\n",
       "      <td>{'classifier': 'BernoulliNB', 'best_params': {...</td>\n",
       "      <td>{'classifier': 'KNeighborsClassifier', 'best_p...</td>\n",
       "    </tr>\n",
       "    <tr>\n",
       "      <th>6</th>\n",
       "      <td>{'classifier': 'LogisticRegression', 'best_par...</td>\n",
       "      <td>{'classifier': 'BernoulliNB', 'best_params': {...</td>\n",
       "      <td>{'classifier': 'KNeighborsClassifier', 'best_p...</td>\n",
       "    </tr>\n",
       "  </tbody>\n",
       "</table>\n",
       "</div>"
      ],
      "text/plain": [
       "                                                   0  \\\n",
       "0  {'classifier': 'LogisticRegression', 'best_par...   \n",
       "1  {'classifier': 'LogisticRegression', 'best_par...   \n",
       "2  {'classifier': 'LogisticRegression', 'best_par...   \n",
       "3  {'classifier': 'LogisticRegression', 'best_par...   \n",
       "4  {'classifier': 'LogisticRegression', 'best_par...   \n",
       "5  {'classifier': 'LogisticRegression', 'best_par...   \n",
       "6  {'classifier': 'LogisticRegression', 'best_par...   \n",
       "\n",
       "                                                   1  \\\n",
       "0  {'classifier': 'BernoulliNB', 'best_params': {...   \n",
       "1  {'classifier': 'BernoulliNB', 'best_params': {...   \n",
       "2  {'classifier': 'BernoulliNB', 'best_params': {...   \n",
       "3  {'classifier': 'BernoulliNB', 'best_params': {...   \n",
       "4  {'classifier': 'BernoulliNB', 'best_params': {...   \n",
       "5  {'classifier': 'BernoulliNB', 'best_params': {...   \n",
       "6  {'classifier': 'BernoulliNB', 'best_params': {...   \n",
       "\n",
       "                                                   2  \n",
       "0  {'classifier': 'KNeighborsClassifier', 'best_p...  \n",
       "1  {'classifier': 'KNeighborsClassifier', 'best_p...  \n",
       "2  {'classifier': 'KNeighborsClassifier', 'best_p...  \n",
       "3  {'classifier': 'KNeighborsClassifier', 'best_p...  \n",
       "4  {'classifier': 'KNeighborsClassifier', 'best_p...  \n",
       "5  {'classifier': 'KNeighborsClassifier', 'best_p...  \n",
       "6  {'classifier': 'KNeighborsClassifier', 'best_p...  "
      ]
     },
     "execution_count": 13,
     "metadata": {},
     "output_type": "execute_result"
    }
   ],
   "source": [
    "optimals"
   ]
  },
  {
   "cell_type": "code",
   "execution_count": 26,
   "metadata": {},
   "outputs": [],
   "source": [
    "# print_dict = lambda x: print(x)\n",
    "\n",
    "# # Apply the lambda function to each row of the data frame\n",
    "# optimals.applymap(print_dict)"
   ]
  },
  {
   "cell_type": "markdown",
   "metadata": {},
   "source": [
    "[pitfalls of oversampling](https://imbalanced-learn.org/stable/common_pitfalls.html#data-leakage)"
   ]
  },
  {
   "cell_type": "markdown",
   "metadata": {},
   "source": [
    "## sampling based ensemble methods\n",
    "\n",
    "score each, can you combine into a voter?\n",
    "\n",
    "[validation curve model selection](https://imbalanced-learn.org/stable/auto_examples/model_selection/plot_validation_curve.html#plotting-validation-curves)"
   ]
  },
  {
   "cell_type": "code",
   "execution_count": 15,
   "metadata": {},
   "outputs": [
    {
     "name": "stderr",
     "output_type": "stream",
     "text": [
      "`base_estimator` was renamed to `estimator` in version 0.10 and will be removed in 0.12.\n"
     ]
    },
    {
     "data": {
      "text/plain": [
       "0.5"
      ]
     },
     "execution_count": 15,
     "metadata": {},
     "output_type": "execute_result"
    }
   ],
   "source": [
    "# balanced bagger\n",
    "\n",
    "bbc = BalancedBaggingClassifier(base_estimator=LogisticRegression(),\n",
    "                                sampling_strategy='auto',\n",
    "                                replacement=False,\n",
    "                                random_state=42)\n",
    "bbc.fit(X_train_scaled, y_train)\n",
    "y_pred = bbc.predict(X_test)\n",
    "balanced_accuracy_score(y_test, y_pred)"
   ]
  },
  {
   "cell_type": "code",
   "execution_count": 16,
   "metadata": {},
   "outputs": [
    {
     "data": {
      "text/plain": [
       "0.5864746945898779"
      ]
     },
     "execution_count": 16,
     "metadata": {},
     "output_type": "execute_result"
    }
   ],
   "source": [
    "#balanced tree estimator\n",
    "brf = BalancedRandomForestClassifier(\n",
    "    n_estimators=100, random_state=42, sampling_strategy=\"all\", replacement=True\n",
    ")\n",
    "brf.fit(X_train_scaled, y_train)\n",
    "y_pred = brf.predict(X_test)\n",
    "balanced_accuracy_score(y_test, y_pred)"
   ]
  },
  {
   "cell_type": "code",
   "execution_count": 17,
   "metadata": {},
   "outputs": [
    {
     "data": {
      "text/plain": [
       "0.5"
      ]
     },
     "execution_count": 17,
     "metadata": {},
     "output_type": "execute_result"
    }
   ],
   "source": [
    "rusboost = RUSBoostClassifier(n_estimators=200, algorithm='SAMME.R',\n",
    "                              random_state=42)\n",
    "rusboost.fit(X_train_scaled, y_train)\n",
    "y_pred = rusboost.predict(X_test)\n",
    "balanced_accuracy_score(y_test, y_pred)"
   ]
  },
  {
   "cell_type": "code",
   "execution_count": 19,
   "metadata": {},
   "outputs": [
    {
     "name": "stderr",
     "output_type": "stream",
     "text": [
      "`base_estimator` was renamed to `estimator` in version 0.10 and will be removed in 0.12.\n",
      "`base_estimator` was renamed to `estimator` in version 0.10 and will be removed in 0.12.\n",
      "`base_estimator` was renamed to `estimator` in version 0.10 and will be removed in 0.12.\n",
      "`base_estimator` was renamed to `estimator` in version 0.10 and will be removed in 0.12.\n",
      "`base_estimator` was renamed to `estimator` in version 0.10 and will be removed in 0.12.\n",
      "`base_estimator` was renamed to `estimator` in version 0.10 and will be removed in 0.12.\n",
      "`base_estimator` was renamed to `estimator` in version 0.10 and will be removed in 0.12.\n",
      "`base_estimator` was renamed to `estimator` in version 0.10 and will be removed in 0.12.\n",
      "`base_estimator` was renamed to `estimator` in version 0.10 and will be removed in 0.12.\n",
      "`base_estimator` was renamed to `estimator` in version 0.10 and will be removed in 0.12.\n",
      "`base_estimator` was renamed to `estimator` in version 0.10 and will be removed in 0.12.\n",
      "`base_estimator` was renamed to `estimator` in version 0.10 and will be removed in 0.12.\n",
      "`base_estimator` was renamed to `estimator` in version 0.10 and will be removed in 0.12.\n",
      "`base_estimator` was renamed to `estimator` in version 0.10 and will be removed in 0.12.\n",
      "`base_estimator` was renamed to `estimator` in version 0.10 and will be removed in 0.12.\n",
      "`base_estimator` was renamed to `estimator` in version 0.10 and will be removed in 0.12.\n",
      "`base_estimator` was renamed to `estimator` in version 0.10 and will be removed in 0.12.\n",
      "`base_estimator` was renamed to `estimator` in version 0.10 and will be removed in 0.12.\n",
      "`base_estimator` was renamed to `estimator` in version 0.10 and will be removed in 0.12.\n",
      "`base_estimator` was renamed to `estimator` in version 0.10 and will be removed in 0.12.\n",
      "`base_estimator` was renamed to `estimator` in version 0.10 and will be removed in 0.12.\n",
      "`base_estimator` was renamed to `estimator` in version 0.10 and will be removed in 0.12.\n",
      "`base_estimator` was renamed to `estimator` in version 0.10 and will be removed in 0.12.\n",
      "`base_estimator` was renamed to `estimator` in version 0.10 and will be removed in 0.12.\n",
      "`base_estimator` was renamed to `estimator` in version 0.10 and will be removed in 0.12.\n"
     ]
    },
    {
     "name": "stdout",
     "output_type": "stream",
     "text": [
      "Accuracy: 0.82 (+/- 0.05) [BalancedBaggingClassifier]\n",
      "Accuracy: 0.77 (+/- 0.03) [BalancedRandomForestClassifier]\n",
      "Accuracy: 0.88 (+/- 0.06) [RUSBoostClassifier]\n"
     ]
    },
    {
     "name": "stderr",
     "output_type": "stream",
     "text": [
      "`base_estimator` was renamed to `estimator` in version 0.10 and will be removed in 0.12.\n",
      "`base_estimator` was renamed to `estimator` in version 0.10 and will be removed in 0.12.\n",
      "`base_estimator` was renamed to `estimator` in version 0.10 and will be removed in 0.12.\n",
      "`base_estimator` was renamed to `estimator` in version 0.10 and will be removed in 0.12.\n",
      "`base_estimator` was renamed to `estimator` in version 0.10 and will be removed in 0.12.\n",
      "`base_estimator` was renamed to `estimator` in version 0.10 and will be removed in 0.12.\n",
      "`base_estimator` was renamed to `estimator` in version 0.10 and will be removed in 0.12.\n",
      "`base_estimator` was renamed to `estimator` in version 0.10 and will be removed in 0.12.\n",
      "`base_estimator` was renamed to `estimator` in version 0.10 and will be removed in 0.12.\n",
      "`base_estimator` was renamed to `estimator` in version 0.10 and will be removed in 0.12.\n",
      "`base_estimator` was renamed to `estimator` in version 0.10 and will be removed in 0.12.\n",
      "`base_estimator` was renamed to `estimator` in version 0.10 and will be removed in 0.12.\n",
      "`base_estimator` was renamed to `estimator` in version 0.10 and will be removed in 0.12.\n",
      "`base_estimator` was renamed to `estimator` in version 0.10 and will be removed in 0.12.\n",
      "`base_estimator` was renamed to `estimator` in version 0.10 and will be removed in 0.12.\n",
      "`base_estimator` was renamed to `estimator` in version 0.10 and will be removed in 0.12.\n",
      "`base_estimator` was renamed to `estimator` in version 0.10 and will be removed in 0.12.\n",
      "`base_estimator` was renamed to `estimator` in version 0.10 and will be removed in 0.12.\n",
      "`base_estimator` was renamed to `estimator` in version 0.10 and will be removed in 0.12.\n",
      "`base_estimator` was renamed to `estimator` in version 0.10 and will be removed in 0.12.\n",
      "`base_estimator` was renamed to `estimator` in version 0.10 and will be removed in 0.12.\n",
      "`base_estimator` was renamed to `estimator` in version 0.10 and will be removed in 0.12.\n",
      "`base_estimator` was renamed to `estimator` in version 0.10 and will be removed in 0.12.\n",
      "`base_estimator` was renamed to `estimator` in version 0.10 and will be removed in 0.12.\n",
      "`base_estimator` was renamed to `estimator` in version 0.10 and will be removed in 0.12.\n"
     ]
    },
    {
     "name": "stdout",
     "output_type": "stream",
     "text": [
      "Accuracy: 0.82 (+/- 0.03) [Voting]\n"
     ]
    }
   ],
   "source": [
    "\n",
    "X = m2_pipeline[keepable].values  #.drop(columns=['label']).values #per https://stackoverflow.com/a/73095562/12001832\n",
    "y = m2_pipeline['label'].values\n",
    "X_train, X_test, y_train, y_test = train_test_split(X, y, test_size=0.2, random_state=42)\n",
    "\n",
    "#normalize all numeric columns\n",
    "scaler = StandardScaler()\n",
    "X_train_scaled = scaler.fit_transform(X_train)\n",
    "vc = VotingClassifier(estimators=[('bbc',bbc),('brf',brf),('rusboost',rusboost)], voting='soft')#  , weights=weights) \n",
    "# #fit all, voting classifier scoring\n",
    "for clf, label in zip([bbc,brf,rusboost,vc], ['BalancedBaggingClassifier','BalancedRandomForestClassifier','RUSBoostClassifier','Voting']):\n",
    "    scores = cross_val_score(clf, X_train_scaled, y_train, scoring='accuracy', cv=25)\n",
    "    print(\"Accuracy: %0.2f (+/- %0.2f) [%s]\" % (scores.mean(), scores.std(), label))"
   ]
  },
  {
   "cell_type": "markdown",
   "metadata": {},
   "source": [
    "## voting classifier error report"
   ]
  },
  {
   "cell_type": "code",
   "execution_count": 37,
   "metadata": {},
   "outputs": [
    {
     "name": "stdout",
     "output_type": "stream",
     "text": [
      "[0 1]\n"
     ]
    },
    {
     "name": "stderr",
     "output_type": "stream",
     "text": [
      "`base_estimator` was renamed to `estimator` in version 0.10 and will be removed in 0.12.\n"
     ]
    },
    {
     "name": "stdout",
     "output_type": "stream",
     "text": [
      "              precision    recall  f1-score   support\n",
      "\n",
      "           0       0.98      1.00      0.99      1146\n",
      "           1       1.00      0.00      0.00        20\n",
      "\n",
      "    accuracy                           0.98      1166\n",
      "   macro avg       0.99      0.50      0.50      1166\n",
      "weighted avg       0.98      0.98      0.97      1166\n",
      "\n"
     ]
    },
    {
     "data": {
      "image/png": "[encoded data removed]",
      "text/plain": [
       "<Figure size 640x480 with 2 Axes>"
      ]
     },
     "metadata": {},
     "output_type": "display_data"
    }
   ],
   "source": [
    "labels_ = m2_pipeline['label'].unique()\n",
    "print(labels_)\n",
    "# X_test_scaled = scaler.fit_transform(X_test)\n",
    "vc.fit(X_train_scaled,y_train)\n",
    "\n",
    "y_pred_vc = vc.predict(X_test)\n",
    "ConfusionMatrixDisplay.from_predictions(y_test, y_pred_vc, labels=labels_)\n",
    "\n",
    "print(classification_report(y_test, y_pred_vc,zero_division=1))"
   ]
  },
  {
   "cell_type": "markdown",
   "metadata": {},
   "source": [
    "## voting classifier classifier report (error reporting part 2)"
   ]
  },
  {
   "cell_type": "code",
   "execution_count": 36,
   "metadata": {},
   "outputs": [],
   "source": [
    "# print(classification_report(y_test, y_pred_vc,zero_division=1))"
   ]
  },
  {
   "cell_type": "markdown",
   "metadata": {},
   "source": [
    "## binary classifier error reporting"
   ]
  },
  {
   "cell_type": "code",
   "execution_count": 28,
   "metadata": {},
   "outputs": [
    {
     "name": "stdout",
     "output_type": "stream",
     "text": [
      "{'classifier': 'LogisticRegression', 'best_params': {'C': 0.1, 'multi_class': 'ovr', 'penalty': 'l2', 'random_state': 42}, 'accuracy': 0.9828473413379074, 'oversampler': 'naive'}\n",
      "{'classifier': 'LogisticRegression', 'best_params': {'C': 0.1, 'multi_class': 'ovr', 'penalty': 'l2', 'random_state': 42}, 'accuracy': 0.9828473413379074, 'oversampler': 'smote'}\n",
      "{'classifier': 'LogisticRegression', 'best_params': {'C': 0.1, 'multi_class': 'ovr', 'penalty': 'l2', 'random_state': 42}, 'accuracy': 0.9828473413379074, 'oversampler': 'adasyn'}\n",
      "{'classifier': 'LogisticRegression', 'best_params': {'C': 0.1, 'multi_class': 'ovr', 'penalty': 'l2', 'random_state': 42}, 'accuracy': 0.9828473413379074, 'oversampler': 'borderline'}\n",
      "{'classifier': 'LogisticRegression', 'best_params': {'C': 0.1, 'multi_class': 'ovr', 'penalty': 'l2', 'random_state': 42}, 'accuracy': 0.9828473413379074, 'oversampler': 'svmsmote'}\n",
      "{'classifier': 'LogisticRegression', 'best_params': {'C': 0.1, 'multi_class': 'ovr', 'penalty': 'l2', 'random_state': 42}, 'accuracy': 0.9828473413379074, 'oversampler': 'smoteenn'}\n",
      "{'classifier': 'LogisticRegression', 'best_params': {'C': 0.1, 'multi_class': 'ovr', 'penalty': 'l2', 'random_state': 42}, 'accuracy': 0.9828473413379074, 'oversampler': 'smotetomek'}\n",
      "{'classifier': 'BernoulliNB', 'best_params': {'fit_prior': True}, 'accuracy': 0.9828473413379074, 'oversampler': 'naive'}\n",
      "{'classifier': 'BernoulliNB', 'best_params': {'fit_prior': True}, 'accuracy': 0.9828473413379074, 'oversampler': 'smote'}\n",
      "{'classifier': 'BernoulliNB', 'best_params': {'fit_prior': True}, 'accuracy': 0.9828473413379074, 'oversampler': 'adasyn'}\n",
      "{'classifier': 'BernoulliNB', 'best_params': {'fit_prior': True}, 'accuracy': 0.9828473413379074, 'oversampler': 'borderline'}\n",
      "{'classifier': 'BernoulliNB', 'best_params': {'fit_prior': True}, 'accuracy': 0.9828473413379074, 'oversampler': 'svmsmote'}\n",
      "{'classifier': 'BernoulliNB', 'best_params': {'fit_prior': True}, 'accuracy': 0.9828473413379074, 'oversampler': 'smoteenn'}\n",
      "{'classifier': 'BernoulliNB', 'best_params': {'fit_prior': True}, 'accuracy': 0.9828473413379074, 'oversampler': 'smotetomek'}\n",
      "{'classifier': 'KNeighborsClassifier', 'best_params': {'algorithm': 'auto', 'n_jobs': 1, 'n_neighbors': 6}, 'accuracy': 0.9828473413379074, 'oversampler': 'naive'}\n",
      "{'classifier': 'KNeighborsClassifier', 'best_params': {'algorithm': 'auto', 'n_jobs': 1, 'n_neighbors': 6}, 'accuracy': 0.9828473413379074, 'oversampler': 'smote'}\n",
      "{'classifier': 'KNeighborsClassifier', 'best_params': {'algorithm': 'auto', 'n_jobs': 1, 'n_neighbors': 6}, 'accuracy': 0.9828473413379074, 'oversampler': 'adasyn'}\n",
      "{'classifier': 'KNeighborsClassifier', 'best_params': {'algorithm': 'auto', 'n_jobs': 1, 'n_neighbors': 6}, 'accuracy': 0.9828473413379074, 'oversampler': 'borderline'}\n",
      "{'classifier': 'KNeighborsClassifier', 'best_params': {'algorithm': 'auto', 'n_jobs': 1, 'n_neighbors': 6}, 'accuracy': 0.9828473413379074, 'oversampler': 'svmsmote'}\n",
      "{'classifier': 'KNeighborsClassifier', 'best_params': {'algorithm': 'auto', 'n_jobs': 1, 'n_neighbors': 6}, 'accuracy': 0.9828473413379074, 'oversampler': 'smoteenn'}\n",
      "{'classifier': 'KNeighborsClassifier', 'best_params': {'algorithm': 'auto', 'n_jobs': 1, 'n_neighbors': 6}, 'accuracy': 0.9828473413379074, 'oversampler': 'smotetomek'}\n"
     ]
    },
    {
     "name": "stderr",
     "output_type": "stream",
     "text": [
      "DataFrame.applymap has been deprecated. Use DataFrame.map instead.\n"
     ]
    },
    {
     "data": {
      "text/html": [
       "<div>\n",
       "<style scoped>\n",
       "    .dataframe tbody tr th:only-of-type {\n",
       "        vertical-align: middle;\n",
       "    }\n",
       "\n",
       "    .dataframe tbody tr th {\n",
       "        vertical-align: top;\n",
       "    }\n",
       "\n",
       "    .dataframe thead th {\n",
       "        text-align: right;\n",
       "    }\n",
       "</style>\n",
       "<table border=\"1\" class=\"dataframe\">\n",
       "  <thead>\n",
       "    <tr style=\"text-align: right;\">\n",
       "      <th></th>\n",
       "      <th>0</th>\n",
       "      <th>1</th>\n",
       "      <th>2</th>\n",
       "    </tr>\n",
       "  </thead>\n",
       "  <tbody>\n",
       "    <tr>\n",
       "      <th>0</th>\n",
       "      <td>None</td>\n",
       "      <td>None</td>\n",
       "      <td>None</td>\n",
       "    </tr>\n",
       "    <tr>\n",
       "      <th>1</th>\n",
       "      <td>None</td>\n",
       "      <td>None</td>\n",
       "      <td>None</td>\n",
       "    </tr>\n",
       "    <tr>\n",
       "      <th>2</th>\n",
       "      <td>None</td>\n",
       "      <td>None</td>\n",
       "      <td>None</td>\n",
       "    </tr>\n",
       "    <tr>\n",
       "      <th>3</th>\n",
       "      <td>None</td>\n",
       "      <td>None</td>\n",
       "      <td>None</td>\n",
       "    </tr>\n",
       "    <tr>\n",
       "      <th>4</th>\n",
       "      <td>None</td>\n",
       "      <td>None</td>\n",
       "      <td>None</td>\n",
       "    </tr>\n",
       "    <tr>\n",
       "      <th>5</th>\n",
       "      <td>None</td>\n",
       "      <td>None</td>\n",
       "      <td>None</td>\n",
       "    </tr>\n",
       "    <tr>\n",
       "      <th>6</th>\n",
       "      <td>None</td>\n",
       "      <td>None</td>\n",
       "      <td>None</td>\n",
       "    </tr>\n",
       "  </tbody>\n",
       "</table>\n",
       "</div>"
      ],
      "text/plain": [
       "      0     1     2\n",
       "0  None  None  None\n",
       "1  None  None  None\n",
       "2  None  None  None\n",
       "3  None  None  None\n",
       "4  None  None  None\n",
       "5  None  None  None\n",
       "6  None  None  None"
      ]
     },
     "execution_count": 28,
     "metadata": {},
     "output_type": "execute_result"
    }
   ],
   "source": [
    "print_dict = lambda x: print(x)\n",
    "\n",
    "# Apply the lambda function to each row of the data frame\n",
    "optimals.applymap(print_dict)"
   ]
  },
  {
   "cell_type": "markdown",
   "metadata": {},
   "source": [
    "### logistic regression fit, predict and error reporting"
   ]
  },
  {
   "cell_type": "code",
   "execution_count": 40,
   "metadata": {},
   "outputs": [
    {
     "name": "stdout",
     "output_type": "stream",
     "text": [
      "0.9828473413379074\n",
      "[0 1]\n",
      "              precision    recall  f1-score   support\n",
      "\n",
      "           0       0.98      1.00      0.99      1146\n",
      "           1       1.00      0.00      0.00        20\n",
      "\n",
      "    accuracy                           0.98      1166\n",
      "   macro avg       0.99      0.50      0.50      1166\n",
      "weighted avg       0.98      0.98      0.97      1166\n",
      "\n"
     ]
    },
    {
     "data": {
      "image/png": "[encoded data removed]",
      "text/plain": [
       "<Figure size 640x480 with 2 Axes>"
      ]
     },
     "metadata": {},
     "output_type": "display_data"
    }
   ],
   "source": [
    "logreg = LogisticRegression(C=0.1, multi_class='ovr', penalty='l2', random_state=42)\n",
    "logreg.fit(X_train_scaled, y_train)\n",
    "\n",
    "y_pred_lr = logreg.predict(X_test)\n",
    "\n",
    "accuracy_lr = accuracy_score(y_test, y_pred_lr)\n",
    "print(accuracy_lr)\n",
    "\n",
    "labels_ = m2_pipeline['label'].unique()\n",
    "print(labels_)\n",
    "ConfusionMatrixDisplay.from_predictions(y_test, y_pred_lr, labels=labels_)\n",
    "\n",
    "print(classification_report(y_test, y_pred_lr,zero_division=1))"
   ]
  },
  {
   "cell_type": "markdown",
   "metadata": {},
   "source": [
    "### Naive Bayes (Bernouilli) classifier accuracy and error report"
   ]
  },
  {
   "cell_type": "code",
   "execution_count": 42,
   "metadata": {},
   "outputs": [
    {
     "name": "stdout",
     "output_type": "stream",
     "text": [
      "0.9828473413379074\n",
      "[0 1]\n",
      "              precision    recall  f1-score   support\n",
      "\n",
      "           0       0.98      1.00      0.99      1146\n",
      "           1       1.00      0.00      0.00        20\n",
      "\n",
      "    accuracy                           0.98      1166\n",
      "   macro avg       0.99      0.50      0.50      1166\n",
      "weighted avg       0.98      0.98      0.97      1166\n",
      "\n"
     ]
    },
    {
     "data": {
      "image/png": "[encoded data removed]",
      "text/plain": [
       "<Figure size 640x480 with 2 Axes>"
      ]
     },
     "metadata": {},
     "output_type": "display_data"
    }
   ],
   "source": [
    "bnb = BernoulliNB(fit_prior=True)\n",
    "bnb.fit(X_train_scaled, y_train)\n",
    "\n",
    "y_pred_nb = bnb.predict(X_test)\n",
    "\n",
    "accuracy_nb = accuracy_score(y_test, y_pred_nb)\n",
    "print(accuracy_nb)\n",
    "\n",
    "labels_ = m2_pipeline['label'].unique()\n",
    "print(labels_)\n",
    "ConfusionMatrixDisplay.from_predictions(y_test, y_pred_nb, labels=labels_)\n",
    "\n",
    "print(classification_report(y_test, y_pred_nb,zero_division=1))"
   ]
  },
  {
   "cell_type": "markdown",
   "metadata": {},
   "source": [
    "### KN Neighbors Classifier error and classification report"
   ]
  },
  {
   "cell_type": "code",
   "execution_count": 43,
   "metadata": {},
   "outputs": [
    {
     "name": "stdout",
     "output_type": "stream",
     "text": [
      "0.9828473413379074\n",
      "[0 1]\n",
      "              precision    recall  f1-score   support\n",
      "\n",
      "           0       0.98      1.00      0.99      1146\n",
      "           1       1.00      0.00      0.00        20\n",
      "\n",
      "    accuracy                           0.98      1166\n",
      "   macro avg       0.99      0.50      0.50      1166\n",
      "weighted avg       0.98      0.98      0.97      1166\n",
      "\n"
     ]
    },
    {
     "data": {
      "image/png": "[encoded data removed]",
      "text/plain": [
       "<Figure size 640x480 with 2 Axes>"
      ]
     },
     "metadata": {},
     "output_type": "display_data"
    }
   ],
   "source": [
    "knn = KNeighborsClassifier(algorithm='auto', n_jobs=1, n_neighbors=6)\n",
    "knn.fit(X_train_scaled, y_train)\n",
    "\n",
    "y_pred_knn = knn.predict(X_test)\n",
    "\n",
    "accuracy_knn = accuracy_score(y_test, y_pred_knn)\n",
    "print(accuracy_knn)\n",
    "\n",
    "labels_ = m2_pipeline['label'].unique()\n",
    "print(labels_)\n",
    "ConfusionMatrixDisplay.from_predictions(y_test, y_pred_knn, labels=labels_)\n",
    "\n",
    "print(classification_report(y_test, y_pred_knn ,zero_division=1))"
   ]
  }
 ],
 "metadata": {
  "kernelspec": {
   "display_name": "Python 3",
   "language": "python",
   "name": "python3"
  },
  "language_info": {
   "codemirror_mode": {
    "name": "ipython",
    "version": 3
   },
   "file_extension": ".py",
   "mimetype": "text/x-python",
   "name": "python",
   "nbconvert_exporter": "python",
   "pygments_lexer": "ipython3",
   "version": "3.9.18"
  }
 },
 "nbformat": 4,
 "nbformat_minor": 2
}
