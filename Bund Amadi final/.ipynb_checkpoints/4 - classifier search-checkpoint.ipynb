{
 "cells": [
  {
   "cell_type": "markdown",
   "id": "4c30f8bf-652d-44fa-9a25-e7288788ef53",
   "metadata": {},
   "source": [
    "## classifier method search\n",
    "\n",
    "premise: use a looped grid search to explore the accuracy metrics of classfiers"
   ]
  },
  {
   "cell_type": "code",
   "execution_count": 53,
   "id": "b3068694-fdd8-46ab-a2cf-3fbc8aaf6bef",
   "metadata": {
    "tags": []
   },
   "outputs": [],
   "source": [
    "import category_encoders as ce\n",
    "from sklearn.svm import SVC\n",
    "from sklearn.ensemble import BaggingClassifier\n",
    "from sklearn.datasets import make_classification\n",
    "from sklearn.model_selection import GridSearchCV\n",
    "\n",
    "from sklearn.ensemble import HistGradientBoostingClassifier, GradientBoostingClassifier, RandomForestClassifier, \\\n",
    "ExtraTreesClassifier, RandomTreesEmbedding, BaggingClassifier\n",
    "from sklearn.linear_model import RidgeCV, LassoCV\n",
    "from sklearn.neighbors import KNeighborsClassifier\n",
    "\n",
    "from sklearn.model_selection import train_test_split\n",
    "\n",
    "from sklearn.tree import DecisionTreeClassifier\n",
    "\n",
    "import pandas as pd"
   ]
  },
  {
   "cell_type": "code",
   "execution_count": 54,
   "id": "953e943e-f4b3-456f-8019-8d979d44c22c",
   "metadata": {
    "tags": []
   },
   "outputs": [],
   "source": [
    "m2_pipeline = pd.read_csv('binned_pipeline.csv')\n"
   ]
  },
  {
   "cell_type": "markdown",
   "id": "991b1b8c-62cb-4b02-8586-b19a9798f709",
   "metadata": {},
   "source": [
    "## testing data for colinearity among features"
   ]
  },
  {
   "cell_type": "code",
   "execution_count": 55,
   "id": "339e4a9d-32be-4304-adb6-7c4be7ab83e3",
   "metadata": {
    "tags": []
   },
   "outputs": [
    {
     "data": {
      "text/html": [
       "<div>\n",
       "<style scoped>\n",
       "    .dataframe tbody tr th:only-of-type {\n",
       "        vertical-align: middle;\n",
       "    }\n",
       "\n",
       "    .dataframe tbody tr th {\n",
       "        vertical-align: top;\n",
       "    }\n",
       "\n",
       "    .dataframe thead th {\n",
       "        text-align: right;\n",
       "    }\n",
       "</style>\n",
       "<table border=\"1\" class=\"dataframe\">\n",
       "  <thead>\n",
       "    <tr style=\"text-align: right;\">\n",
       "      <th></th>\n",
       "      <th>Unnamed: 0</th>\n",
       "      <th>precursor_buy_cap_pct_change</th>\n",
       "      <th>precursor_ask_cap_pct_change</th>\n",
       "      <th>precursor_bid_vol_pct_change</th>\n",
       "      <th>precursor_ask_vol_pct_change</th>\n",
       "      <th>change.1</th>\n",
       "      <th>surge_targets_met_pct</th>\n",
       "      <th>label</th>\n",
       "    </tr>\n",
       "  </thead>\n",
       "  <tbody>\n",
       "    <tr>\n",
       "      <th>Unnamed: 0</th>\n",
       "      <td>1.000000</td>\n",
       "      <td>-0.074820</td>\n",
       "      <td>-0.036954</td>\n",
       "      <td>-0.077781</td>\n",
       "      <td>0.017377</td>\n",
       "      <td>-0.037113</td>\n",
       "      <td>-0.002245</td>\n",
       "      <td>-0.040018</td>\n",
       "    </tr>\n",
       "    <tr>\n",
       "      <th>precursor_buy_cap_pct_change</th>\n",
       "      <td>-0.074820</td>\n",
       "      <td>1.000000</td>\n",
       "      <td>0.218251</td>\n",
       "      <td>0.825875</td>\n",
       "      <td>0.082502</td>\n",
       "      <td>-0.015773</td>\n",
       "      <td>0.007553</td>\n",
       "      <td>0.000636</td>\n",
       "    </tr>\n",
       "    <tr>\n",
       "      <th>precursor_ask_cap_pct_change</th>\n",
       "      <td>-0.036954</td>\n",
       "      <td>0.218251</td>\n",
       "      <td>1.000000</td>\n",
       "      <td>0.340009</td>\n",
       "      <td>0.092719</td>\n",
       "      <td>-0.005007</td>\n",
       "      <td>-0.020821</td>\n",
       "      <td>-0.016212</td>\n",
       "    </tr>\n",
       "    <tr>\n",
       "      <th>precursor_bid_vol_pct_change</th>\n",
       "      <td>-0.077781</td>\n",
       "      <td>0.825875</td>\n",
       "      <td>0.340009</td>\n",
       "      <td>1.000000</td>\n",
       "      <td>0.011741</td>\n",
       "      <td>-0.017284</td>\n",
       "      <td>0.005475</td>\n",
       "      <td>-0.001806</td>\n",
       "    </tr>\n",
       "    <tr>\n",
       "      <th>precursor_ask_vol_pct_change</th>\n",
       "      <td>0.017377</td>\n",
       "      <td>0.082502</td>\n",
       "      <td>0.092719</td>\n",
       "      <td>0.011741</td>\n",
       "      <td>1.000000</td>\n",
       "      <td>0.018066</td>\n",
       "      <td>0.020034</td>\n",
       "      <td>0.024472</td>\n",
       "    </tr>\n",
       "    <tr>\n",
       "      <th>change.1</th>\n",
       "      <td>-0.037113</td>\n",
       "      <td>-0.015773</td>\n",
       "      <td>-0.005007</td>\n",
       "      <td>-0.017284</td>\n",
       "      <td>0.018066</td>\n",
       "      <td>1.000000</td>\n",
       "      <td>0.051610</td>\n",
       "      <td>0.079098</td>\n",
       "    </tr>\n",
       "    <tr>\n",
       "      <th>surge_targets_met_pct</th>\n",
       "      <td>-0.002245</td>\n",
       "      <td>0.007553</td>\n",
       "      <td>-0.020821</td>\n",
       "      <td>0.005475</td>\n",
       "      <td>0.020034</td>\n",
       "      <td>0.051610</td>\n",
       "      <td>1.000000</td>\n",
       "      <td>0.817659</td>\n",
       "    </tr>\n",
       "    <tr>\n",
       "      <th>label</th>\n",
       "      <td>-0.040018</td>\n",
       "      <td>0.000636</td>\n",
       "      <td>-0.016212</td>\n",
       "      <td>-0.001806</td>\n",
       "      <td>0.024472</td>\n",
       "      <td>0.079098</td>\n",
       "      <td>0.817659</td>\n",
       "      <td>1.000000</td>\n",
       "    </tr>\n",
       "  </tbody>\n",
       "</table>\n",
       "</div>"
      ],
      "text/plain": [
       "                              Unnamed: 0  precursor_buy_cap_pct_change  \\\n",
       "Unnamed: 0                      1.000000                     -0.074820   \n",
       "precursor_buy_cap_pct_change   -0.074820                      1.000000   \n",
       "precursor_ask_cap_pct_change   -0.036954                      0.218251   \n",
       "precursor_bid_vol_pct_change   -0.077781                      0.825875   \n",
       "precursor_ask_vol_pct_change    0.017377                      0.082502   \n",
       "change.1                       -0.037113                     -0.015773   \n",
       "surge_targets_met_pct          -0.002245                      0.007553   \n",
       "label                          -0.040018                      0.000636   \n",
       "\n",
       "                              precursor_ask_cap_pct_change  \\\n",
       "Unnamed: 0                                       -0.036954   \n",
       "precursor_buy_cap_pct_change                      0.218251   \n",
       "precursor_ask_cap_pct_change                      1.000000   \n",
       "precursor_bid_vol_pct_change                      0.340009   \n",
       "precursor_ask_vol_pct_change                      0.092719   \n",
       "change.1                                         -0.005007   \n",
       "surge_targets_met_pct                            -0.020821   \n",
       "label                                            -0.016212   \n",
       "\n",
       "                              precursor_bid_vol_pct_change  \\\n",
       "Unnamed: 0                                       -0.077781   \n",
       "precursor_buy_cap_pct_change                      0.825875   \n",
       "precursor_ask_cap_pct_change                      0.340009   \n",
       "precursor_bid_vol_pct_change                      1.000000   \n",
       "precursor_ask_vol_pct_change                      0.011741   \n",
       "change.1                                         -0.017284   \n",
       "surge_targets_met_pct                             0.005475   \n",
       "label                                            -0.001806   \n",
       "\n",
       "                              precursor_ask_vol_pct_change  change.1  \\\n",
       "Unnamed: 0                                        0.017377 -0.037113   \n",
       "precursor_buy_cap_pct_change                      0.082502 -0.015773   \n",
       "precursor_ask_cap_pct_change                      0.092719 -0.005007   \n",
       "precursor_bid_vol_pct_change                      0.011741 -0.017284   \n",
       "precursor_ask_vol_pct_change                      1.000000  0.018066   \n",
       "change.1                                          0.018066  1.000000   \n",
       "surge_targets_met_pct                             0.020034  0.051610   \n",
       "label                                             0.024472  0.079098   \n",
       "\n",
       "                              surge_targets_met_pct     label  \n",
       "Unnamed: 0                                -0.002245 -0.040018  \n",
       "precursor_buy_cap_pct_change               0.007553  0.000636  \n",
       "precursor_ask_cap_pct_change              -0.020821 -0.016212  \n",
       "precursor_bid_vol_pct_change               0.005475 -0.001806  \n",
       "precursor_ask_vol_pct_change               0.020034  0.024472  \n",
       "change.1                                   0.051610  0.079098  \n",
       "surge_targets_met_pct                      1.000000  0.817659  \n",
       "label                                      0.817659  1.000000  "
      ]
     },
     "execution_count": 55,
     "metadata": {},
     "output_type": "execute_result"
    }
   ],
   "source": [
    "m2_pipeline.corr(numeric_only=True)"
   ]
  },
  {
   "cell_type": "code",
   "execution_count": 56,
   "id": "e6c33e08-0303-46f3-8242-460e0cdcd80b",
   "metadata": {
    "tags": []
   },
   "outputs": [
    {
     "data": {
      "text/plain": [
       "<Axes: >"
      ]
     },
     "execution_count": 56,
     "metadata": {},
     "output_type": "execute_result"
    },
    {
     "data": {
      "image/png": "[encoded data removed]",
      "text/plain": [
       "<Figure size 640x480 with 2 Axes>"
      ]
     },
     "metadata": {},
     "output_type": "display_data"
    }
   ],
   "source": [
    "import pandas as pd\n",
    "import seaborn as sns\n",
    "\n",
    "# Load the dataset into a pandas dataframe\n",
    "\n",
    "# Calculate the correlation matrix\n",
    "corr_matrix = m2_pipeline.corr(numeric_only=True)\n",
    "\n",
    "# Plot the correlation matrix\n",
    "sns.heatmap(corr_matrix, annot=True)\n"
   ]
  },
  {
   "cell_type": "markdown",
   "id": "cb1f52e2-cba3-4b25-a42d-052c87d7b933",
   "metadata": {},
   "source": [
    "XGB, GBM, CAT, FASTAI, NN_TORCH, LR, RF, XT"
   ]
  },
  {
   "cell_type": "code",
   "execution_count": 57,
   "id": "6f675a98-ca95-40f2-857c-7b3dd898e714",
   "metadata": {
    "tags": []
   },
   "outputs": [],
   "source": [
    "def deliver_models(): #deliver a matrix of classifier definitions\n",
    "    random_state =42\n",
    "    return [\n",
    "        ('HistGradientBoostingClassifier',  HistGradientBoostingClassifier(loss='log_loss', learning_rate=0.1, max_iter=100, \\\n",
    "                                                                               max_leaf_nodes=31, max_depth=None, min_samples_leaf=20, \\\n",
    "                                                                               l2_regularization=0.0, max_bins=255, categorical_features=False, \\\n",
    "                                                                               monotonic_cst=None, interaction_cst=None, warm_start=False, \\\n",
    "                                                                               early_stopping='auto', scoring='loss', validation_fraction=0.1, \\\n",
    "                                                                               n_iter_no_change=10, tol=1e-07, verbose=0, random_state=42, \\\n",
    "                                                                               class_weight=None )),\n",
    "    ('GradientBoostingClassifier', GradientBoostingClassifier(loss='log_loss', learning_rate=0.1, n_estimators=100, subsample=1.0, \\\n",
    "                                                       criterion='friedman_mse', min_samples_split=2, min_samples_leaf=1, \\\n",
    "                                                       min_weight_fraction_leaf=0.0, max_depth=3, min_impurity_decrease=0.0, \\\n",
    "                                                       init=None, random_state=None, max_features=None, verbose=0, max_leaf_nodes=None, \\\n",
    "                                                       warm_start=False, validation_fraction=0.1, n_iter_no_change=None, tol=0.0001, ccp_alpha=0.0)),\n",
    "    ('RandomForestClassifier', RandomForestClassifier(n_estimators=100,  criterion='gini', max_depth=None, min_samples_split=2, min_samples_leaf=1,\\\n",
    "                                                      min_weight_fraction_leaf=0.0, max_features='sqrt', max_leaf_nodes=None, \\\n",
    "                                                      min_impurity_decrease=0.0, bootstrap=True, oob_score=False, n_jobs=None, \\\n",
    "                                                      random_state=42, verbose=0, warm_start=False, class_weight=None, ccp_alpha=0.0,\\\n",
    "                                                      max_samples=None)),\n",
    "    ('ExtraTreesClassifier', ExtraTreesClassifier(n_estimators=100,  criterion='gini', max_depth=None, min_samples_split=2, min_samples_leaf=1, \\\n",
    "                                                  min_weight_fraction_leaf=0.0, max_features='sqrt', max_leaf_nodes=None, min_impurity_decrease=0.0,\\\n",
    "                                                  bootstrap=False, oob_score=False, n_jobs=None, random_state=42, verbose=0, warm_start=False,\\\n",
    "                                                  class_weight=None, ccp_alpha=0.0, max_samples=None)),\n",
    "    ('RandomTreesEmbedding', RandomTreesEmbedding(n_estimators=100, max_depth=5, min_samples_split=2, min_samples_leaf=1, min_weight_fraction_leaf=0.0, \\\n",
    "                          max_leaf_nodes=None, min_impurity_decrease=0.0, sparse_output=True, n_jobs=None, random_state=42, verbose=0, \\\n",
    "                          warm_start=False)),\n",
    "    ('BaggingClassifier', BaggingClassifier(estimator=None, n_estimators=10, max_samples=1.0, max_features=1.0, bootstrap=True,\\\n",
    "                                            bootstrap_features=False, oob_score=False, warm_start=False, n_jobs=None, random_state=42, \\\n",
    "                                            verbose=0, base_estimator='deprecated')),\n",
    "    ('CatBoostEncoder', ce.CatBoostEncoder(verbose=0, cols='bin', drop_invariant=False, return_df=True, handle_unknown='value', handle_missing='value', \\\n",
    "                        random_state=42, sigma=None, a=1)),\n",
    "    ('RidgeCV',RidgeCV(alphas=(0.1, 1.0, 10.0), fit_intercept=True, scoring=None, cv=None, gcv_mode=None, store_cv_values=False, \\\n",
    "                       alpha_per_target=False)),\n",
    "    ('LassoCV',LassoCV( eps=0.001, n_alphas=100, alphas=None, fit_intercept=True, precompute='auto', max_iter=1000, tol=0.0001, copy_X=True, cv=None, \\\n",
    "                verbose=False, n_jobs=None, positive=False, random_state=42, selection='cyclic')),\n",
    "    ('SVC', SVC( C=1.0, kernel='rbf', degree=3, gamma='scale', coef0=0.0, shrinking=True, probability=False, tol=0.001, cache_size=200, \\\n",
    "                class_weight=None, verbose=False, max_iter=-1, decision_function_shape='ovr', break_ties=False, random_state=42))]"
   ]
  },
  {
   "cell_type": "code",
   "execution_count": 58,
   "id": "4844c174-6ae8-4ba9-9e34-4ddf61f4cc2f",
   "metadata": {
    "tags": []
   },
   "outputs": [
    {
     "data": {
      "text/plain": [
       "Unnamed: 0                        int64\n",
       "precursor_buy_cap_pct_change    float64\n",
       "precursor_ask_cap_pct_change    float64\n",
       "precursor_bid_vol_pct_change    float64\n",
       "precursor_ask_vol_pct_change    float64\n",
       "change.1                        float64\n",
       "surge_targets_met_pct           float64\n",
       "label                             int64\n",
       "dtype: object"
      ]
     },
     "execution_count": 58,
     "metadata": {},
     "output_type": "execute_result"
    }
   ],
   "source": [
    "m2_pipeline.dtypes"
   ]
  },
  {
   "cell_type": "code",
   "execution_count": 59,
   "id": "d11e57b4-9c36-4940-acb6-6e47be81d829",
   "metadata": {
    "tags": []
   },
   "outputs": [
    {
     "name": "stderr",
     "output_type": "stream",
     "text": [
      "The least populated class in y has only 2 members, which is less than n_splits=5.\n"
     ]
    },
    {
     "name": "stdout",
     "output_type": "stream",
     "text": [
      "Best parameters for RandomForestClassifier: {'max_depth': None, 'n_estimators': 1000}\n"
     ]
    },
    {
     "name": "stderr",
     "output_type": "stream",
     "text": [
      "The least populated class in y has only 2 members, which is less than n_splits=5.\n"
     ]
    },
    {
     "name": "stdout",
     "output_type": "stream",
     "text": [
      "Best parameters for GradientBoostingClassifier: {'max_depth': 10, 'n_estimators': 1000}\n"
     ]
    },
    {
     "name": "stderr",
     "output_type": "stream",
     "text": [
      "The least populated class in y has only 2 members, which is less than n_splits=5.\n"
     ]
    },
    {
     "name": "stdout",
     "output_type": "stream",
     "text": [
      "Best parameters for HistGradientBoostingClassifier: {'learning_rate': 0.01, 'max_iter': 100}\n"
     ]
    },
    {
     "name": "stderr",
     "output_type": "stream",
     "text": [
      "The least populated class in y has only 2 members, which is less than n_splits=5.\n"
     ]
    },
    {
     "name": "stdout",
     "output_type": "stream",
     "text": [
      "Best parameters for ExtraTreesClassifier: {'max_depth': 100, 'n_estimators': 1000}\n"
     ]
    },
    {
     "name": "stderr",
     "output_type": "stream",
     "text": [
      "The least populated class in y has only 2 members, which is less than n_splits=5.\n"
     ]
    },
    {
     "name": "stdout",
     "output_type": "stream",
     "text": [
      "Best parameters for BaggingClassifier: {'n_estimators': 10, 'random_state': 42}\n",
      "Best parameters for RidgeCV: {'alphas': 1.0}\n",
      "Best parameters for LassoCV: {'eps': 0.001, 'max_iter': 100, 'n_alphas': 100}\n"
     ]
    }
   ],
   "source": [
    "\n",
    "# Splitting the dataframe into features and labels\n",
    "X = m2_pipeline.drop(columns=['label'])\n",
    "y = m2_pipeline['label']\n",
    "\n",
    "# Performing the test/train split\n",
    "X_train, X_test, y_train, y_test = train_test_split(X, y, test_size=0.2, random_state=42)\n",
    "# from sklearn.ensemble import RandomForestClassifier, GradientBoostingClassifier, HistGradientBoostingClassifier\n",
    "# from sklearn.model_selection import GridSearchCV\n",
    "\n",
    "# Define the classifiers and their respective hyperparameters\n",
    "classifiers = [\n",
    "    RandomForestClassifier(),\n",
    "    GradientBoostingClassifier(),\n",
    "    HistGradientBoostingClassifier(),\n",
    "    ExtraTreesClassifier(),\n",
    "    BaggingClassifier(),\n",
    "    # ce.CatBoostEncoder(),\n",
    "    # RandomTreesEmbedding(),\n",
    "    RidgeCV(),\n",
    "    LassoCV(),\n",
    "    # SVC()\n",
    "]\n",
    "\n",
    "params = {\n",
    "    'RandomForestClassifier': {'n_estimators': [10, 100, 1000], 'max_depth': [None, 10, 100]},\n",
    "    'GradientBoostingClassifier': {'n_estimators': [10, 100, 1000], 'max_depth': [None, 10, 100]},\n",
    "    'HistGradientBoostingClassifier': {'learning_rate': [0.1, 0.01], 'max_iter': [100, 200]},\n",
    "    'ExtraTreesClassifier':{'n_estimators': [10, 100, 1000], 'max_depth': [None, 10, 100]},\n",
    "    # 'RandomTreesEmbedding':{'n_estimators': [10, 100, 1000], 'max_depth': [None, 10, 100]},\n",
    "    'BaggingClassifier':{ 'n_estimators':[10],  'random_state':[42]},\n",
    "    # 'CatBoostEncoder':{'cols':['label'], 'drop_invariant':False, 'return_df':False, 'random_state':[42]},\n",
    "    'RidgeCV':{'alphas':[0.1, 1.0, 10.0]},\n",
    "    'LassoCV':{ 'eps':[0.001, 0.01, .1], 'n_alphas':[100,200],  'max_iter':[100,200,300,1000]},\n",
    "    # 'SVC':{'C': [0.1, 1, 10], 'kernel': ['linear', 'rbf']}\n",
    "}\n",
    "comparative = []\n",
    "# Perform the grid search\n",
    "for clf in classifiers:\n",
    "    name = clf.__class__.__name__\n",
    "    if name in params:\n",
    "        grid_search = GridSearchCV(clf, params[name], cv=5)\n",
    "        grid_search.fit(X_train, y_train)\n",
    "        print(f\"Best parameters for {name}: {grid_search.best_params_}\")\n",
    "        accuracy = grid_search.score(X_test, y_test)\n",
    "        dict = {\"classifier\":name, \"best_params\":grid_search.best_params_, \"accuracy\":accuracy}\n",
    "        comparative.append(dict)\n",
    "dg = pd.DataFrame(comparative) #display grid"
   ]
  },
  {
   "cell_type": "code",
   "execution_count": 60,
   "id": "d661208e-1e72-47c5-b751-900253531821",
   "metadata": {
    "tags": []
   },
   "outputs": [
    {
     "data": {
      "text/html": [
       "<div>\n",
       "<style scoped>\n",
       "    .dataframe tbody tr th:only-of-type {\n",
       "        vertical-align: middle;\n",
       "    }\n",
       "\n",
       "    .dataframe tbody tr th {\n",
       "        vertical-align: top;\n",
       "    }\n",
       "\n",
       "    .dataframe thead th {\n",
       "        text-align: right;\n",
       "    }\n",
       "</style>\n",
       "<table border=\"1\" class=\"dataframe\">\n",
       "  <thead>\n",
       "    <tr style=\"text-align: right;\">\n",
       "      <th></th>\n",
       "      <th>classifier</th>\n",
       "      <th>best_params</th>\n",
       "      <th>accuracy</th>\n",
       "    </tr>\n",
       "  </thead>\n",
       "  <tbody>\n",
       "    <tr>\n",
       "      <th>0</th>\n",
       "      <td>RandomForestClassifier</td>\n",
       "      <td>{'max_depth': None, 'n_estimators': 1000}</td>\n",
       "      <td>0.986038</td>\n",
       "    </tr>\n",
       "    <tr>\n",
       "      <th>1</th>\n",
       "      <td>GradientBoostingClassifier</td>\n",
       "      <td>{'max_depth': 10, 'n_estimators': 1000}</td>\n",
       "      <td>1.000000</td>\n",
       "    </tr>\n",
       "    <tr>\n",
       "      <th>2</th>\n",
       "      <td>HistGradientBoostingClassifier</td>\n",
       "      <td>{'learning_rate': 0.01, 'max_iter': 100}</td>\n",
       "      <td>0.987784</td>\n",
       "    </tr>\n",
       "    <tr>\n",
       "      <th>3</th>\n",
       "      <td>ExtraTreesClassifier</td>\n",
       "      <td>{'max_depth': 100, 'n_estimators': 1000}</td>\n",
       "      <td>0.985166</td>\n",
       "    </tr>\n",
       "    <tr>\n",
       "      <th>4</th>\n",
       "      <td>BaggingClassifier</td>\n",
       "      <td>{'n_estimators': 10, 'random_state': 42}</td>\n",
       "      <td>1.000000</td>\n",
       "    </tr>\n",
       "    <tr>\n",
       "      <th>5</th>\n",
       "      <td>RidgeCV</td>\n",
       "      <td>{'alphas': 1.0}</td>\n",
       "      <td>0.701739</td>\n",
       "    </tr>\n",
       "    <tr>\n",
       "      <th>6</th>\n",
       "      <td>LassoCV</td>\n",
       "      <td>{'eps': 0.001, 'max_iter': 100, 'n_alphas': 100}</td>\n",
       "      <td>0.654775</td>\n",
       "    </tr>\n",
       "  </tbody>\n",
       "</table>\n",
       "</div>"
      ],
      "text/plain": [
       "                       classifier  \\\n",
       "0          RandomForestClassifier   \n",
       "1      GradientBoostingClassifier   \n",
       "2  HistGradientBoostingClassifier   \n",
       "3            ExtraTreesClassifier   \n",
       "4               BaggingClassifier   \n",
       "5                         RidgeCV   \n",
       "6                         LassoCV   \n",
       "\n",
       "                                        best_params  accuracy  \n",
       "0         {'max_depth': None, 'n_estimators': 1000}  0.986038  \n",
       "1           {'max_depth': 10, 'n_estimators': 1000}  1.000000  \n",
       "2          {'learning_rate': 0.01, 'max_iter': 100}  0.987784  \n",
       "3          {'max_depth': 100, 'n_estimators': 1000}  0.985166  \n",
       "4          {'n_estimators': 10, 'random_state': 42}  1.000000  \n",
       "5                                   {'alphas': 1.0}  0.701739  \n",
       "6  {'eps': 0.001, 'max_iter': 100, 'n_alphas': 100}  0.654775  "
      ]
     },
     "execution_count": 60,
     "metadata": {},
     "output_type": "execute_result"
    }
   ],
   "source": [
    "dg"
   ]
  },
  {
   "cell_type": "code",
   "execution_count": 61,
   "id": "5994f3ee-ed0a-4c74-b385-6002e0c27480",
   "metadata": {
    "tags": []
   },
   "outputs": [],
   "source": [
    "rfc = RandomForestClassifier(max_depth=100, n_estimators=1000)\n",
    "gbc = GradientBoostingClassifier(max_depth= 10, n_estimators= 1000)\n",
    "hgbc = HistGradientBoostingClassifier(learning_rate= 0.01, max_iter= 100)\n",
    "etc = ExtraTreesClassifier(max_depth= None, n_estimators= 1000)\n",
    "bc = BaggingClassifier(n_estimators= 10, random_state= 42)\n",
    "    # ce.CatBoostEncoder(),\n",
    "    # RandomTreesEmbedding(),\n",
    "# rvc = RidgeCV(alphas=1.0) # estimator vs classifier\n",
    "# lvc = LassoCV(eps= 0.001, max_iter= 100, n_alphas= 100)\n",
    "    # SVC()"
   ]
  },
  {
   "cell_type": "code",
   "execution_count": 62,
   "id": "9a62a971-a75f-4485-937f-b314d4974c97",
   "metadata": {
    "tags": []
   },
   "outputs": [],
   "source": [
    "from sklearn.model_selection import cross_val_score"
   ]
  },
  {
   "cell_type": "code",
   "execution_count": 63,
   "id": "78572c48-30b4-4174-8036-e92c561909a7",
   "metadata": {
    "tags": []
   },
   "outputs": [
    {
     "name": "stderr",
     "output_type": "stream",
     "text": [
      "The least populated class in y has only 2 members, which is less than n_splits=5.\n"
     ]
    },
    {
     "name": "stdout",
     "output_type": "stream",
     "text": [
      "Accuracy: 0.99 (+/- 0.00) [RandomForestClassifier]\n"
     ]
    },
    {
     "name": "stderr",
     "output_type": "stream",
     "text": [
      "The least populated class in y has only 2 members, which is less than n_splits=5.\n"
     ]
    },
    {
     "name": "stdout",
     "output_type": "stream",
     "text": [
      "Accuracy: 1.00 (+/- 0.00) [GradientBoostingClassifier]\n"
     ]
    },
    {
     "name": "stderr",
     "output_type": "stream",
     "text": [
      "The least populated class in y has only 2 members, which is less than n_splits=5.\n"
     ]
    },
    {
     "name": "stdout",
     "output_type": "stream",
     "text": [
      "Accuracy: 0.99 (+/- 0.00) [HistGradientBoostingClassifier]\n"
     ]
    },
    {
     "name": "stderr",
     "output_type": "stream",
     "text": [
      "The least populated class in y has only 2 members, which is less than n_splits=5.\n"
     ]
    },
    {
     "name": "stdout",
     "output_type": "stream",
     "text": [
      "Accuracy: 0.99 (+/- 0.00) [ExtraTreesClassifier]\n",
      "Accuracy: 1.00 (+/- 0.00) [BaggingClassifier]\n"
     ]
    },
    {
     "name": "stderr",
     "output_type": "stream",
     "text": [
      "The least populated class in y has only 2 members, which is less than n_splits=5.\n",
      "The least populated class in y has only 2 members, which is less than n_splits=5.\n"
     ]
    },
    {
     "name": "stdout",
     "output_type": "stream",
     "text": [
      "Accuracy: 1.00 (+/- 0.00) [Voting]\n"
     ]
    }
   ],
   "source": [
    "import shap \n",
    "from sklearn.ensemble import  VotingClassifier \n",
    "from sklearn.model_selection import cross_val_score\n",
    "X = m2_pipeline.drop(columns=['label'])\n",
    "y = m2_pipeline['label']\n",
    "X_train, X_test, y_train, y_test = train_test_split(X, y, test_size=0.2, random_state=42)\n",
    "# Define VotingClassifier \n",
    "vc = VotingClassifier(estimators=[('rfc',rfc),('gbc',gbc),('hgbc',hgbc),('etc',etc),('bc',bc)], voting='soft') \n",
    "rfc.fit(X_train,y_train)\n",
    "gbc.fit(X_train,y_train)\n",
    "hgbc.fit(X_train,y_train)\n",
    "etc.fit(X_train,y_train)\n",
    "bc.fit(X_train,y_train)\n",
    "# rvc.fit(X_train,y_train)\n",
    "# lvc.fit(X_train,y_train)\n",
    "vc.fit(X_train,y_train)\n",
    "# runnable = [('rfc',rfc),('gbc',gbc),('hgbc',hgbc),('etc',etc),('bc',bc),('rvc',rvc),('lvc',lvc),('ensemble', vc)]\n",
    "# #fit all\n",
    "for clf, label in zip([rfc,gbc,hgbc,etc,bc,vc], ['RandomForestClassifier', 'GradientBoostingClassifier', 'HistGradientBoostingClassifier', 'ExtraTreesClassifier',\\\n",
    "                                                    'BaggingClassifier','Voting']):\n",
    "    scores = cross_val_score(clf, X_train, y_train, scoring='accuracy', cv=5)\n",
    "    print(\"Accuracy: %0.2f (+/- %0.2f) [%s]\" % (scores.mean(), scores.std(), label))\n",
    "# explainer = shap.KernelExplainer(vc.predict_proba, X_train) # Define explainer\n",
    "# shap_values = explainer.shap_values(X_test) # Compute SHAP values for test set \n",
    "# shap.summary_plot(shap_values[1], X_test) # Plot summary plot of SHAP values for each feature "
   ]
  }
 ],
 "metadata": {
  "kernelspec": {
   "display_name": "Python 3 (ipykernel)",
   "language": "python",
   "name": "python3"
  },
  "language_info": {
   "codemirror_mode": {
    "name": "ipython",
    "version": 3
   },
   "file_extension": ".py",
   "mimetype": "text/x-python",
   "name": "python",
   "nbconvert_exporter": "python",
   "pygments_lexer": "ipython3",
   "version": "3.11.4"
  }
 },
 "nbformat": 4,
 "nbformat_minor": 5
}
