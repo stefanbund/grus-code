{
 "cells": [
  {
   "cell_type": "markdown",
   "id": "9aaa4fcc-1a03-4f20-a9dd-7ce3d60ccb52",
   "metadata": {},
   "source": [
    "## premise: Grid search for clustering solution\n",
    "\n",
    "via skleanr pipeline and grid search"
   ]
  },
  {
   "cell_type": "code",
   "execution_count": 1,
   "id": "beea8fea-ae81-4e3f-9bff-fc4f8bd3f443",
   "metadata": {},
   "outputs": [],
   "source": [
    "import pandas as pd\n",
    "from sklearn.cluster import KMeans\n",
    "from sklearn.model_selection import GridSearchCV\n",
    "import sklearn.metrics\n",
    "from sklearn import preprocessing"
   ]
  },
  {
   "cell_type": "code",
   "execution_count": 18,
   "id": "0084e4ae-20f9-4081-93df-7822264899b1",
   "metadata": {},
   "outputs": [
    {
     "name": "stdout",
     "output_type": "stream",
     "text": [
      "0\n"
     ]
    },
    {
     "data": {
      "text/plain": [
       "precursor_buy_cap_pct_change    float64\n",
       "precursor_ask_cap_pct_change    float64\n",
       "precursor_bid_vol_pct_change    float64\n",
       "surge_targets_met_pct           float64\n",
       "dtype: object"
      ]
     },
     "execution_count": 18,
     "metadata": {},
     "output_type": "execute_result"
    }
   ],
   "source": [
    "#load pipeline 1 csv and prep for clustering\n",
    "m2_pipeline = pd.read_csv('pipeline1.csv')\n",
    "#change is surge price rate of change per observation, change.1 is precursor\n",
    "#sum_change is surge sum_change per surge, and surge_area is surge alone\n",
    "keepable = ['precursor_buy_cap_pct_change', \n",
    "            'precursor_ask_cap_pct_change',\n",
    "            'precursor_bid_vol_pct_change', \n",
    "            'surge_targets_met_pct']\n",
    "\n",
    "# Normalize the 'surge_targets_met_pct' column\n",
    "x = m2_pipeline[['surge_targets_met_pct']].values.astype(float)\n",
    "min_max_scaler = preprocessing.MinMaxScaler()\n",
    "x_scaled = min_max_scaler.fit_transform(x)\n",
    "m2_pipeline['surge_targets_met_pct_normalized'] = pd.DataFrame(x_scaled)\n",
    "\n",
    "m2_pipeline = m2_pipeline[keepable]\n",
    "m2_pipeline = m2_pipeline.dropna()\n",
    "print(m2_pipeline.isna().sum(axis=1).astype(bool).sum())\n",
    "m2_pipeline = m2_pipeline.astype('float')\n",
    "m2_pipeline.dtypes"
   ]
  },
  {
   "cell_type": "code",
   "execution_count": 3,
   "id": "d4d454ab-b649-4abd-bce4-801893ab1ce2",
   "metadata": {},
   "outputs": [],
   "source": [
    "# print(sklearn.metrics.get_scorer_names())"
   ]
  },
  {
   "cell_type": "code",
   "execution_count": 6,
   "id": "150bccbc-b02a-4d47-829a-09e13fbc488e",
   "metadata": {},
   "outputs": [],
   "source": [
    "## IF you must cluster on the column 'surge_targets_met_pct' like so\n",
    "# import pandas as pd\n",
    "# from sklearn.cluster import KMeans\n",
    "\n",
    "# # Assuming your dataframe is named 'm2_pipeline'\n",
    "# kmeans = KMeans(n_clusters=3, init='k-means++', max_iter=300, n_init=10, random_state=0)\n",
    "# kmeans.fit(m2_pipeline[['surge_targets_met_pct_normalized']])\n"
   ]
  },
  {
   "cell_type": "markdown",
   "id": "c089cf4d-7ce1-4e9d-90cc-200e5e874716",
   "metadata": {},
   "source": [
    "### clustering types\n",
    "\n",
    "K-Means\n",
    "Affinity propagation\n",
    "Mean Shift\n",
    "Spectral Clustering\n",
    "Agglomerative Clustering\n",
    "DBSCAN\n",
    "OPTICS\n",
    "Birch\n",
    "Gaussian Mixture\n",
    "MiniBatch K-Means\n",
    "Affinity Propagation"
   ]
  },
  {
   "cell_type": "code",
   "execution_count": 8,
   "id": "f432f579-c5e4-4cfb-b90d-5208ebd28da8",
   "metadata": {},
   "outputs": [
    {
     "name": "stdout",
     "output_type": "stream",
     "text": [
      "for cluster size 4\n"
     ]
    },
    {
     "name": "stderr",
     "output_type": "stream",
     "text": [
      "/home/stefan/Desktop/GRUS/caret1/lib/python3.8/site-packages/sklearn/cluster/_kmeans.py:870: FutureWarning: The default value of `n_init` will change from 10 to 'auto' in 1.4. Set the value of `n_init` explicitly to suppress the warning\n",
      "  warnings.warn(\n"
     ]
    },
    {
     "name": "stdout",
     "output_type": "stream",
     "text": [
      "{'algo': 'KMeans', 'score': 0.6468266676607601, 'clusters': 4}\n",
      "{'algo': 'Agglomerative', 'score': 0.5544786252177756, 'clusters': 4}\n"
     ]
    },
    {
     "name": "stderr",
     "output_type": "stream",
     "text": [
      "/home/stefan/Desktop/GRUS/caret1/lib/python3.8/site-packages/sklearn/manifold/_spectral_embedding.py:274: UserWarning: Graph is not fully connected, spectral embedding may not work as expected.\n",
      "  warnings.warn(\n"
     ]
    },
    {
     "name": "stdout",
     "output_type": "stream",
     "text": [
      "{'algo': 'Spectral', 'score': 0.8894194271443359, 'clusters': 4}\n",
      "{'algo': 'Birch', 'score': 0.8963065534883663, 'clusters': 4}\n",
      "for cluster size 5\n"
     ]
    },
    {
     "name": "stderr",
     "output_type": "stream",
     "text": [
      "/home/stefan/Desktop/GRUS/caret1/lib/python3.8/site-packages/sklearn/cluster/_kmeans.py:870: FutureWarning: The default value of `n_init` will change from 10 to 'auto' in 1.4. Set the value of `n_init` explicitly to suppress the warning\n",
      "  warnings.warn(\n"
     ]
    },
    {
     "name": "stdout",
     "output_type": "stream",
     "text": [
      "{'algo': 'KMeans', 'score': 0.5581666769405856, 'clusters': 5}\n",
      "{'algo': 'Agglomerative', 'score': 0.5643203301653003, 'clusters': 5}\n"
     ]
    },
    {
     "name": "stderr",
     "output_type": "stream",
     "text": [
      "/home/stefan/Desktop/GRUS/caret1/lib/python3.8/site-packages/sklearn/manifold/_spectral_embedding.py:274: UserWarning: Graph is not fully connected, spectral embedding may not work as expected.\n",
      "  warnings.warn(\n"
     ]
    },
    {
     "name": "stdout",
     "output_type": "stream",
     "text": [
      "{'algo': 'Spectral', 'score': 0.8650954651734716, 'clusters': 5}\n",
      "{'algo': 'Birch', 'score': 0.8897806396215054, 'clusters': 5}\n",
      "for cluster size 6\n"
     ]
    },
    {
     "name": "stderr",
     "output_type": "stream",
     "text": [
      "/home/stefan/Desktop/GRUS/caret1/lib/python3.8/site-packages/sklearn/cluster/_kmeans.py:870: FutureWarning: The default value of `n_init` will change from 10 to 'auto' in 1.4. Set the value of `n_init` explicitly to suppress the warning\n",
      "  warnings.warn(\n"
     ]
    },
    {
     "name": "stdout",
     "output_type": "stream",
     "text": [
      "{'algo': 'KMeans', 'score': 0.4831680743383329, 'clusters': 6}\n",
      "{'algo': 'Agglomerative', 'score': 0.381872491666767, 'clusters': 6}\n"
     ]
    },
    {
     "name": "stderr",
     "output_type": "stream",
     "text": [
      "/home/stefan/Desktop/GRUS/caret1/lib/python3.8/site-packages/sklearn/manifold/_spectral_embedding.py:274: UserWarning: Graph is not fully connected, spectral embedding may not work as expected.\n",
      "  warnings.warn(\n"
     ]
    },
    {
     "name": "stdout",
     "output_type": "stream",
     "text": [
      "{'algo': 'Spectral', 'score': 0.856710543020676, 'clusters': 6}\n",
      "{'algo': 'Birch', 'score': 0.6744131267918048, 'clusters': 6}\n",
      "for cluster size 7\n"
     ]
    },
    {
     "name": "stderr",
     "output_type": "stream",
     "text": [
      "/home/stefan/Desktop/GRUS/caret1/lib/python3.8/site-packages/sklearn/cluster/_kmeans.py:870: FutureWarning: The default value of `n_init` will change from 10 to 'auto' in 1.4. Set the value of `n_init` explicitly to suppress the warning\n",
      "  warnings.warn(\n"
     ]
    },
    {
     "name": "stdout",
     "output_type": "stream",
     "text": [
      "{'algo': 'KMeans', 'score': 0.5341001325910059, 'clusters': 7}\n",
      "{'algo': 'Agglomerative', 'score': 0.3822319644010064, 'clusters': 7}\n"
     ]
    },
    {
     "name": "stderr",
     "output_type": "stream",
     "text": [
      "/home/stefan/Desktop/GRUS/caret1/lib/python3.8/site-packages/sklearn/manifold/_spectral_embedding.py:274: UserWarning: Graph is not fully connected, spectral embedding may not work as expected.\n",
      "  warnings.warn(\n"
     ]
    },
    {
     "name": "stdout",
     "output_type": "stream",
     "text": [
      "{'algo': 'Spectral', 'score': 0.8529175760916948, 'clusters': 7}\n",
      "{'algo': 'Birch', 'score': 0.674899790548584, 'clusters': 7}\n",
      "for cluster size 8\n"
     ]
    },
    {
     "name": "stderr",
     "output_type": "stream",
     "text": [
      "/home/stefan/Desktop/GRUS/caret1/lib/python3.8/site-packages/sklearn/cluster/_kmeans.py:870: FutureWarning: The default value of `n_init` will change from 10 to 'auto' in 1.4. Set the value of `n_init` explicitly to suppress the warning\n",
      "  warnings.warn(\n"
     ]
    },
    {
     "name": "stdout",
     "output_type": "stream",
     "text": [
      "{'algo': 'KMeans', 'score': 0.5359595860538194, 'clusters': 8}\n",
      "{'algo': 'Agglomerative', 'score': 0.38847626939917296, 'clusters': 8}\n"
     ]
    },
    {
     "name": "stderr",
     "output_type": "stream",
     "text": [
      "/home/stefan/Desktop/GRUS/caret1/lib/python3.8/site-packages/sklearn/manifold/_spectral_embedding.py:274: UserWarning: Graph is not fully connected, spectral embedding may not work as expected.\n",
      "  warnings.warn(\n"
     ]
    },
    {
     "name": "stdout",
     "output_type": "stream",
     "text": [
      "{'algo': 'Spectral', 'score': 0.7678599844306472, 'clusters': 8}\n",
      "{'algo': 'Birch', 'score': 0.6739887885839931, 'clusters': 8}\n",
      "for cluster size 9\n"
     ]
    },
    {
     "name": "stderr",
     "output_type": "stream",
     "text": [
      "/home/stefan/Desktop/GRUS/caret1/lib/python3.8/site-packages/sklearn/cluster/_kmeans.py:870: FutureWarning: The default value of `n_init` will change from 10 to 'auto' in 1.4. Set the value of `n_init` explicitly to suppress the warning\n",
      "  warnings.warn(\n"
     ]
    },
    {
     "name": "stdout",
     "output_type": "stream",
     "text": [
      "{'algo': 'KMeans', 'score': 0.5152722010245488, 'clusters': 9}\n",
      "{'algo': 'Agglomerative', 'score': 0.3889831387281811, 'clusters': 9}\n"
     ]
    },
    {
     "name": "stderr",
     "output_type": "stream",
     "text": [
      "/home/stefan/Desktop/GRUS/caret1/lib/python3.8/site-packages/sklearn/manifold/_spectral_embedding.py:274: UserWarning: Graph is not fully connected, spectral embedding may not work as expected.\n",
      "  warnings.warn(\n"
     ]
    },
    {
     "name": "stdout",
     "output_type": "stream",
     "text": [
      "{'algo': 'Spectral', 'score': 0.7654156402145649, 'clusters': 9}\n",
      "{'algo': 'Birch', 'score': 0.673894150359468, 'clusters': 9}\n",
      "for cluster size 10\n"
     ]
    },
    {
     "name": "stderr",
     "output_type": "stream",
     "text": [
      "/home/stefan/Desktop/GRUS/caret1/lib/python3.8/site-packages/sklearn/cluster/_kmeans.py:870: FutureWarning: The default value of `n_init` will change from 10 to 'auto' in 1.4. Set the value of `n_init` explicitly to suppress the warning\n",
      "  warnings.warn(\n"
     ]
    },
    {
     "name": "stdout",
     "output_type": "stream",
     "text": [
      "{'algo': 'KMeans', 'score': 0.4838389663418717, 'clusters': 10}\n",
      "{'algo': 'Agglomerative', 'score': 0.41540364706459565, 'clusters': 10}\n"
     ]
    },
    {
     "name": "stderr",
     "output_type": "stream",
     "text": [
      "/home/stefan/Desktop/GRUS/caret1/lib/python3.8/site-packages/sklearn/manifold/_spectral_embedding.py:274: UserWarning: Graph is not fully connected, spectral embedding may not work as expected.\n",
      "  warnings.warn(\n"
     ]
    },
    {
     "name": "stdout",
     "output_type": "stream",
     "text": [
      "{'algo': 'Spectral', 'score': 0.7547513837605193, 'clusters': 10}\n",
      "{'algo': 'Birch', 'score': 0.6470633893096103, 'clusters': 10}\n",
      "for cluster size 11\n"
     ]
    },
    {
     "name": "stderr",
     "output_type": "stream",
     "text": [
      "/home/stefan/Desktop/GRUS/caret1/lib/python3.8/site-packages/sklearn/cluster/_kmeans.py:870: FutureWarning: The default value of `n_init` will change from 10 to 'auto' in 1.4. Set the value of `n_init` explicitly to suppress the warning\n",
      "  warnings.warn(\n"
     ]
    },
    {
     "name": "stdout",
     "output_type": "stream",
     "text": [
      "{'algo': 'KMeans', 'score': 0.47802644331595184, 'clusters': 11}\n",
      "{'algo': 'Agglomerative', 'score': 0.4244966269048636, 'clusters': 11}\n"
     ]
    },
    {
     "name": "stderr",
     "output_type": "stream",
     "text": [
      "/home/stefan/Desktop/GRUS/caret1/lib/python3.8/site-packages/sklearn/manifold/_spectral_embedding.py:274: UserWarning: Graph is not fully connected, spectral embedding may not work as expected.\n",
      "  warnings.warn(\n"
     ]
    },
    {
     "name": "stdout",
     "output_type": "stream",
     "text": [
      "{'algo': 'Spectral', 'score': 0.7630498667870546, 'clusters': 11}\n",
      "{'algo': 'Birch', 'score': 0.6450014158194325, 'clusters': 11}\n",
      "for cluster size 12\n"
     ]
    },
    {
     "name": "stderr",
     "output_type": "stream",
     "text": [
      "/home/stefan/Desktop/GRUS/caret1/lib/python3.8/site-packages/sklearn/cluster/_kmeans.py:870: FutureWarning: The default value of `n_init` will change from 10 to 'auto' in 1.4. Set the value of `n_init` explicitly to suppress the warning\n",
      "  warnings.warn(\n"
     ]
    },
    {
     "name": "stdout",
     "output_type": "stream",
     "text": [
      "{'algo': 'KMeans', 'score': 0.47089265291265997, 'clusters': 12}\n",
      "{'algo': 'Agglomerative', 'score': 0.4222297884377017, 'clusters': 12}\n"
     ]
    },
    {
     "name": "stderr",
     "output_type": "stream",
     "text": [
      "/home/stefan/Desktop/GRUS/caret1/lib/python3.8/site-packages/sklearn/manifold/_spectral_embedding.py:274: UserWarning: Graph is not fully connected, spectral embedding may not work as expected.\n",
      "  warnings.warn(\n"
     ]
    },
    {
     "name": "stdout",
     "output_type": "stream",
     "text": [
      "{'algo': 'Spectral', 'score': 0.7567062612423767, 'clusters': 12}\n",
      "{'algo': 'Birch', 'score': 0.6443349201464048, 'clusters': 12}\n",
      "             algo     score  clusters\n",
      "0          KMeans  0.646827         4\n",
      "1   Agglomerative  0.554479         4\n",
      "2        Spectral  0.889419         4\n",
      "3           Birch  0.896307         4\n",
      "4          KMeans  0.558167         5\n",
      "5   Agglomerative  0.564320         5\n",
      "6        Spectral  0.865095         5\n",
      "7           Birch  0.889781         5\n",
      "8          KMeans  0.483168         6\n",
      "9   Agglomerative  0.381872         6\n",
      "10       Spectral  0.856711         6\n",
      "11          Birch  0.674413         6\n",
      "12         KMeans  0.534100         7\n",
      "13  Agglomerative  0.382232         7\n",
      "14       Spectral  0.852918         7\n",
      "15          Birch  0.674900         7\n",
      "16         KMeans  0.535960         8\n",
      "17  Agglomerative  0.388476         8\n",
      "18       Spectral  0.767860         8\n",
      "19          Birch  0.673989         8\n",
      "20         KMeans  0.515272         9\n",
      "21  Agglomerative  0.388983         9\n",
      "22       Spectral  0.765416         9\n",
      "23          Birch  0.673894         9\n",
      "24         KMeans  0.483839        10\n",
      "25  Agglomerative  0.415404        10\n",
      "26       Spectral  0.754751        10\n",
      "27          Birch  0.647063        10\n",
      "28         KMeans  0.478026        11\n",
      "29  Agglomerative  0.424497        11\n",
      "30       Spectral  0.763050        11\n",
      "31          Birch  0.645001        11\n",
      "32         KMeans  0.470893        12\n",
      "33  Agglomerative  0.422230        12\n",
      "34       Spectral  0.756706        12\n",
      "35          Birch  0.644335        12\n"
     ]
    }
   ],
   "source": [
    "## alternative: specifying cluster value\n",
    "import pandas as pd \n",
    "from sklearn.cluster import KMeans, AgglomerativeClustering, SpectralClustering,\\\n",
    "MeanShift, AffinityPropagation, DBSCAN, OPTICS, Birch\n",
    "from sklearn.metrics import silhouette_score \n",
    "\n",
    "data =  m2_pipeline\n",
    "scores = []  # feed in experiments as a dictionary of parameters and scores\n",
    "\n",
    "csize = [4,5,6,7,8,9,10, 11, 12]\n",
    "for i in range(len(csize)):\n",
    "    c= csize[i]\n",
    "    print(\"for cluster size\",c)\n",
    "    kmeans = KMeans(n_clusters=c) #\n",
    "    hierarchical = AgglomerativeClustering(n_clusters=c) \n",
    "    spectral = SpectralClustering(n_clusters=c) \n",
    "    birch = Birch(n_clusters=c)\n",
    "    algorithms = [(kmeans, 'KMeans'), (hierarchical, 'Agglomerative'), (spectral, 'Spectral'), (birch, 'Birch')] \n",
    "    # algorithms = [kmeans, hierarchical, spectral, birch] \n",
    "\n",
    "    # for algorithm, name in algorithms: # Loop over the algorithms and calculate the silhouette score for each\n",
    "    for algorithm, name in algorithms: # Loop over the algorithms and calculate the silhouette score for each\n",
    "        algorithm.fit(data) \n",
    "        score= silhouette_score(data, algorithm.labels_) \n",
    "        fin = {\"algo\":name, \"score\":score, \"clusters\":c}\n",
    "        print(fin)\n",
    "        scores.append(fin) \n",
    "\n",
    "results = pd.DataFrame(scores)  #{'Algorithm': [name for _, name in algorithms], 'Silhouette Score': scores}) \n",
    "print(results) "
   ]
  },
  {
   "cell_type": "markdown",
   "id": "88ac6ec6-07ca-4446-a171-7514528aae03",
   "metadata": {},
   "source": [
    "## do non cluster specified clustering"
   ]
  },
  {
   "cell_type": "code",
   "execution_count": 12,
   "id": "511b488d-2a38-4a29-9db2-0ff80367ebf1",
   "metadata": {},
   "outputs": [
    {
     "name": "stdout",
     "output_type": "stream",
     "text": [
      "{'algo': 'Meanshift', 'score': 0.5060122726757966, 'clusters': 0}\n"
     ]
    },
    {
     "name": "stderr",
     "output_type": "stream",
     "text": [
      "/home/stefan/Desktop/GRUS/caret1/lib/python3.8/site-packages/sklearn/cluster/_affinity_propagation.py:143: ConvergenceWarning: Affinity propagation did not converge, this model may return degenerate cluster centers and labels.\n",
      "  warnings.warn(\n"
     ]
    },
    {
     "name": "stdout",
     "output_type": "stream",
     "text": [
      "{'algo': 'Affinity', 'score': 0.312711138107636, 'clusters': 0}\n",
      "{'algo': 'DBSCAN', 'score': 0.9626815572732176, 'clusters': 0}\n",
      "{'algo': 'OPTICS', 'score': -0.6003076524523103, 'clusters': 0}\n",
      "             algo     score  clusters\n",
      "0          KMeans  0.646827         4\n",
      "1   Agglomerative  0.554479         4\n",
      "2        Spectral  0.889419         4\n",
      "3           Birch  0.896307         4\n",
      "4          KMeans  0.558167         5\n",
      "5   Agglomerative  0.564320         5\n",
      "6        Spectral  0.865095         5\n",
      "7           Birch  0.889781         5\n",
      "8          KMeans  0.483168         6\n",
      "9   Agglomerative  0.381872         6\n",
      "10       Spectral  0.856711         6\n",
      "11          Birch  0.674413         6\n",
      "12         KMeans  0.534100         7\n",
      "13  Agglomerative  0.382232         7\n",
      "14       Spectral  0.852918         7\n",
      "15          Birch  0.674900         7\n",
      "16         KMeans  0.535960         8\n",
      "17  Agglomerative  0.388476         8\n",
      "18       Spectral  0.767860         8\n",
      "19          Birch  0.673989         8\n",
      "20         KMeans  0.515272         9\n",
      "21  Agglomerative  0.388983         9\n",
      "22       Spectral  0.765416         9\n",
      "23          Birch  0.673894         9\n",
      "24         KMeans  0.483839        10\n",
      "25  Agglomerative  0.415404        10\n",
      "26       Spectral  0.754751        10\n",
      "27          Birch  0.647063        10\n",
      "28         KMeans  0.478026        11\n",
      "29  Agglomerative  0.424497        11\n",
      "30       Spectral  0.763050        11\n",
      "31          Birch  0.645001        11\n",
      "32         KMeans  0.470893        12\n",
      "33  Agglomerative  0.422230        12\n",
      "34       Spectral  0.756706        12\n",
      "35          Birch  0.644335        12\n",
      "36      Meanshift  0.506012         0\n",
      "37       Affinity  0.312711         0\n",
      "38         DBSCAN  0.962682         0\n",
      "39         OPTICS -0.600308         0\n"
     ]
    }
   ],
   "source": [
    "meanshift = MeanShift( bandwidth=None, seeds=None, bin_seeding=False, min_bin_freq=1, cluster_all=True, n_jobs=None, max_iter=300)\n",
    "affinity = AffinityPropagation( damping=0.5, max_iter=200, convergence_iter=15, copy=True, preference=None, affinity='euclidean', verbose=False, random_state=None)\n",
    "dbscan = DBSCAN(eps=0.5,  min_samples=5, metric='euclidean', metric_params=None, algorithm='auto', leaf_size=30, p=None, n_jobs=None)\n",
    "optics = OPTICS( min_samples=5, max_eps=3, metric='minkowski', p=2, metric_params=None, cluster_method='xi', eps=None, xi=0.05, predecessor_correction=True, min_cluster_size=None, algorithm='auto', leaf_size=30, memory=None, n_jobs=None)\n",
    "\n",
    "\n",
    "data = m2_pipeline\n",
    "# scores2 = []  # feed in experiments as a dictionary of parameters and scores\n",
    "algorithms2 = [(meanshift, 'Meanshift'), (affinity, 'Affinity'), (dbscan, 'DBSCAN'), (optics, 'OPTICS')]\n",
    "for algorithm, name in algorithms2: # Loop over the algorithms and calculate the silhouette score for each\n",
    "        algorithm.fit(data) \n",
    "        score= silhouette_score(data, algorithm.labels_) \n",
    "        fin = {\"algo\":name, \"score\":score, \"clusters\":0} \n",
    "        print(fin)\n",
    "        scores.append(fin) \n",
    "# Create a dataframe to store the results \n",
    "results = pd.DataFrame(scores) #{'Algorithm': [name for _, name in algorithms2], 'Silhouette Score': scores2}) \n",
    "print(results)"
   ]
  },
  {
   "cell_type": "code",
   "execution_count": 13,
   "id": "650c956a-97b0-4aea-ab44-bb91c5861e38",
   "metadata": {},
   "outputs": [],
   "source": [
    "cm = 'ranked_classifier_search.csv'  #clustered methods, specified num clusters\n",
    "results.to_csv(cm, index=False)"
   ]
  },
  {
   "cell_type": "markdown",
   "id": "a24043d0-1bb8-4920-8bd2-1443fc526324",
   "metadata": {},
   "source": [
    "## revive the test from stored memory\n",
    "via csv, then get top n, n=10"
   ]
  },
  {
   "cell_type": "code",
   "execution_count": 14,
   "id": "53e1de45-14ca-42e8-9f87-c25f49cb418c",
   "metadata": {},
   "outputs": [
    {
     "name": "stdout",
     "output_type": "stream",
     "text": [
      "            algo     score  clusters\n",
      "0         KMeans  0.646827         4\n",
      "1  Agglomerative  0.554479         4\n",
      "Index(['algo', 'score', 'clusters'], dtype='object')\n"
     ]
    }
   ],
   "source": [
    "revive = pd.read_csv(cm)\n",
    "print(revive.head(2))\n",
    "print(revive.columns)"
   ]
  },
  {
   "cell_type": "code",
   "execution_count": 15,
   "id": "6f88d16b-5d01-4f3a-a230-af262364ade1",
   "metadata": {},
   "outputs": [],
   "source": [
    "topn = revive.sort_values('score', ascending=False).head(10)"
   ]
  },
  {
   "cell_type": "code",
   "execution_count": 16,
   "id": "cb3d05c5-9316-4b1e-964f-3aae0bdc43e8",
   "metadata": {},
   "outputs": [
    {
     "data": {
      "text/html": [
       "<div>\n",
       "<style scoped>\n",
       "    .dataframe tbody tr th:only-of-type {\n",
       "        vertical-align: middle;\n",
       "    }\n",
       "\n",
       "    .dataframe tbody tr th {\n",
       "        vertical-align: top;\n",
       "    }\n",
       "\n",
       "    .dataframe thead th {\n",
       "        text-align: right;\n",
       "    }\n",
       "</style>\n",
       "<table border=\"1\" class=\"dataframe\">\n",
       "  <thead>\n",
       "    <tr style=\"text-align: right;\">\n",
       "      <th></th>\n",
       "      <th>algo</th>\n",
       "      <th>score</th>\n",
       "      <th>clusters</th>\n",
       "    </tr>\n",
       "  </thead>\n",
       "  <tbody>\n",
       "    <tr>\n",
       "      <th>38</th>\n",
       "      <td>DBSCAN</td>\n",
       "      <td>0.962682</td>\n",
       "      <td>0</td>\n",
       "    </tr>\n",
       "    <tr>\n",
       "      <th>3</th>\n",
       "      <td>Birch</td>\n",
       "      <td>0.896307</td>\n",
       "      <td>4</td>\n",
       "    </tr>\n",
       "    <tr>\n",
       "      <th>7</th>\n",
       "      <td>Birch</td>\n",
       "      <td>0.889781</td>\n",
       "      <td>5</td>\n",
       "    </tr>\n",
       "    <tr>\n",
       "      <th>2</th>\n",
       "      <td>Spectral</td>\n",
       "      <td>0.889419</td>\n",
       "      <td>4</td>\n",
       "    </tr>\n",
       "    <tr>\n",
       "      <th>6</th>\n",
       "      <td>Spectral</td>\n",
       "      <td>0.865095</td>\n",
       "      <td>5</td>\n",
       "    </tr>\n",
       "    <tr>\n",
       "      <th>10</th>\n",
       "      <td>Spectral</td>\n",
       "      <td>0.856711</td>\n",
       "      <td>6</td>\n",
       "    </tr>\n",
       "    <tr>\n",
       "      <th>14</th>\n",
       "      <td>Spectral</td>\n",
       "      <td>0.852918</td>\n",
       "      <td>7</td>\n",
       "    </tr>\n",
       "    <tr>\n",
       "      <th>18</th>\n",
       "      <td>Spectral</td>\n",
       "      <td>0.767860</td>\n",
       "      <td>8</td>\n",
       "    </tr>\n",
       "    <tr>\n",
       "      <th>22</th>\n",
       "      <td>Spectral</td>\n",
       "      <td>0.765416</td>\n",
       "      <td>9</td>\n",
       "    </tr>\n",
       "    <tr>\n",
       "      <th>30</th>\n",
       "      <td>Spectral</td>\n",
       "      <td>0.763050</td>\n",
       "      <td>11</td>\n",
       "    </tr>\n",
       "  </tbody>\n",
       "</table>\n",
       "</div>"
      ],
      "text/plain": [
       "        algo     score  clusters\n",
       "38    DBSCAN  0.962682         0\n",
       "3      Birch  0.896307         4\n",
       "7      Birch  0.889781         5\n",
       "2   Spectral  0.889419         4\n",
       "6   Spectral  0.865095         5\n",
       "10  Spectral  0.856711         6\n",
       "14  Spectral  0.852918         7\n",
       "18  Spectral  0.767860         8\n",
       "22  Spectral  0.765416         9\n",
       "30  Spectral  0.763050        11"
      ]
     },
     "execution_count": 16,
     "metadata": {},
     "output_type": "execute_result"
    }
   ],
   "source": [
    "topn"
   ]
  },
  {
   "cell_type": "code",
   "execution_count": 17,
   "id": "8a5588d8-7f9a-4db4-981c-08bbf65a7af0",
   "metadata": {},
   "outputs": [
    {
     "data": {
      "text/plain": [
       "Index(['algo', 'score', 'clusters'], dtype='object')"
      ]
     },
     "execution_count": 17,
     "metadata": {},
     "output_type": "execute_result"
    }
   ],
   "source": [
    "topn.columns"
   ]
  },
  {
   "cell_type": "markdown",
   "id": "7b9438c5-46cc-4392-884e-3039e9845cf5",
   "metadata": {},
   "source": [
    "## cluster and back test the cluster as trade strategy\n"
   ]
  },
  {
   "cell_type": "code",
   "execution_count": null,
   "id": "26324684-6a33-4962-a32b-73a46e4b6476",
   "metadata": {},
   "outputs": [],
   "source": [
    "## cluster range evaluation\n",
    "# Bin the values in the 'surge_targets_met_pct' column after grouped by 'cluster'\n",
    "# bins = [-float('inf'), -8.5, -5.64, 0, 0.25, 0.35, 0.4, 0.5, 0.75, 1.0, 2.0, 3.0, 4.0, 5.0, 5.64, float('inf')]\n",
    "# labels = ['< -8.5', '-8.5 to -5.64', '-5.64 to 0', '0 to 0.25', '0.25 to 0.35', '0.35 to 0.4', '0.4 to 0.5', '0.5 to 0.75', '0.75 to 1', '1 to 2', '2 to 3', '3 to 4', '4 to 5', '5 to 5.64', '> 5.64']\n",
    "# lc['binned'] = pd.cut(lc['surge_targets_met_pct'], bins=bins, labels=labels)\n"
   ]
  },
  {
   "cell_type": "code",
   "execution_count": null,
   "id": "380098e5-f13d-4bed-ba94-0d4392fed1c2",
   "metadata": {},
   "outputs": [],
   "source": [
    "from sklearn.cluster import KMeans\n",
    "\n",
    "scoring = [] #algo, cluster quality metrics, cluster sizes, from topn\n",
    "for index, row in topn.iterrows():\n",
    "    data = m2_pipeline #need a temporary version of the master data\n",
    "\n",
    "    algo = row['algo']   # Extract the algorithm and cluster from the current row\n",
    "    c = row['clusters']\n",
    "    score = row['score']\n",
    "    kmeans = KMeans(n_clusters=c) #establish a means to build the cluster algo, cluster or no NEED SEEDING \n",
    "    hierarchical = AgglomerativeClustering(n_clusters=c) \n",
    "    spectral = SpectralClustering(n_clusters=c) \n",
    "    birch = Birch(n_clusters=c)\n",
    "    meanshift = MeanShift()\n",
    "    affinity = AffinityPropagation()\n",
    "    dbscan = DBSCAN()\n",
    "    optics = OPTICS()\n",
    "    algorithms = [(kmeans, 'KMeans'), (hierarchical, 'Agglomerative'), (spectral, 'Spectral'), (birch, 'Birch')\\\n",
    "                  ,(meanshift, 'Meanshift'), (affinity, 'Affinity'), (dbscan, 'DBSCAN'), (optics, 'OPTICS')]\n",
    "   \n",
    "    method = [t for t in algorithms if algo in t][0][0] #read the algo type from the topn list/df\n",
    "    print(\"handle: \",algo, c, score, method) #verify it is reading it ok\n",
    "    # method.fit(m2_pipeline)\n",
    "    predict = method.fit_predict(data) #fit predict, derive cluster labeling\n",
    "    data['cluster'] = pd.Series(predict, index=data.index) # Add a new column to the filtered dataframe with the predicted cluster labels\n",
    "    # group by cluster identifier, define ranges of values, number of clusters and their ranged values\n",
    "    #NEED A NEW ALGORITHM TO EVALUATE EACH CLUSTER, BY BUSINESS RULE\n",
    "    # means = data.groupby('Cluster')['surge_targets_met_pct'].mean() ##group by then aggregate\n",
    "    min_max_count = data.groupby('cluster')['surge_targets_met_pct'].agg(['min', 'max', 'count'])\n",
    "    print(type(min_max_count))\n",
    "#cluster analytics: \n",
    "    \n",
    "    fin = {\"algo\":method, \"score\":score, \"clusters\":c, \"metrics\":min_max_count}\n",
    "    print(fin)\n",
    "    scoring.append(fin)\n",
    "\n",
    "analytic = pd.DataFrame(scoring)\n",
    "print(analytic)\n"
   ]
  },
  {
   "cell_type": "code",
   "execution_count": null,
   "id": "7359847b-77b2-4b04-a338-cd54f4baf9e5",
   "metadata": {},
   "outputs": [],
   "source": [
    "analytic"
   ]
  },
  {
   "cell_type": "markdown",
   "id": "7d5bb340-bd36-4621-a2d8-2dc47dd03cca",
   "metadata": {},
   "source": [
    "### take top performing cluster techniques, then ...\n",
    "\n",
    "attache labels to each and analyze the clustering profiles for efficiency, profit"
   ]
  },
  {
   "cell_type": "markdown",
   "id": "39ec91dc-e6a0-4194-a7fe-e7c04cd31b42",
   "metadata": {},
   "source": [
    "## notes "
   ]
  },
  {
   "cell_type": "markdown",
   "id": "ed17c724-9a6c-4280-a565-b4a9f9904db8",
   "metadata": {},
   "source": [
    "1. grid search notes on [sklearn](https://scikit-learn.org/stable/modules/grid_search.html#grid-search)\n",
    "2. sklearn pipeline [guide](https://scikit-learn.org/stable/modules/compose.html#pipeline)"
   ]
  }
 ],
 "metadata": {
  "kernelspec": {
   "display_name": "Python 3 (ipykernel)",
   "language": "python",
   "name": "python3"
  },
  "language_info": {
   "codemirror_mode": {
    "name": "ipython",
    "version": 3
   },
   "file_extension": ".py",
   "mimetype": "text/x-python",
   "name": "python",
   "nbconvert_exporter": "python",
   "pygments_lexer": "ipython3",
   "version": "3.8.10"
  }
 },
 "nbformat": 4,
 "nbformat_minor": 5
}
