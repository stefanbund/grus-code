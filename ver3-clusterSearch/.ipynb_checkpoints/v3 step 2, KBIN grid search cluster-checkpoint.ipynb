{
 "cells": [
  {
   "cell_type": "markdown",
   "id": "9aaa4fcc-1a03-4f20-a9dd-7ce3d60ccb52",
   "metadata": {},
   "source": [
    "## premise: Grid search for clustering solution\n",
    "\n",
    "via skleanr pipeline and grid search"
   ]
  },
  {
   "cell_type": "code",
   "execution_count": 2,
   "id": "beea8fea-ae81-4e3f-9bff-fc4f8bd3f443",
   "metadata": {},
   "outputs": [],
   "source": [
    "import pandas as pd\n",
    "from sklearn.cluster import KMeans\n",
    "from sklearn.model_selection import GridSearchCV\n",
    "import sklearn.metrics\n",
    "import numpy as np\n",
    "from sklearn import preprocessing"
   ]
  },
  {
   "cell_type": "markdown",
   "id": "4171fd8a-33e5-4bb3-9d60-745ee812506d",
   "metadata": {},
   "source": [
    "## using a discretizer on our target"
   ]
  },
  {
   "cell_type": "code",
   "execution_count": 12,
   "id": "0084e4ae-20f9-4081-93df-7822264899b1",
   "metadata": {},
   "outputs": [
    {
     "name": "stdout",
     "output_type": "stream",
     "text": [
      "0\n"
     ]
    },
    {
     "data": {
      "text/plain": [
       "precursor_buy_cap_pct_change    float64\n",
       "precursor_ask_cap_pct_change    float64\n",
       "precursor_bid_vol_pct_change    float64\n",
       "precursor_ask_vol_pct_change    float64\n",
       "change.1                        float64\n",
       "surge_targets_met_pct           float64\n",
       "dtype: object"
      ]
     },
     "execution_count": 12,
     "metadata": {},
     "output_type": "execute_result"
    }
   ],
   "source": [
    "#load pipeline 1 csv and prep for clustering\n",
    "m2_pipeline = pd.read_csv('pipeline1.csv')\n",
    "#change is surge price rate of change per observation, change.1 is precursor\n",
    "#sum_change is surge sum_change per surge, and surge_area is surge alone\n",
    "keepable = ['precursor_buy_cap_pct_change', \n",
    "            'precursor_ask_cap_pct_change',\n",
    "            'precursor_bid_vol_pct_change', \n",
    "            'precursor_ask_vol_pct_change', 'change.1',\n",
    "            'surge_targets_met_pct']\n",
    "\n",
    "# Normalize the 'surge_targets_met_pct' column\n",
    "x = m2_pipeline[['surge_targets_met_pct']].values.astype(float)\n",
    "m2_pipeline = m2_pipeline[keepable]\n",
    "m2_pipeline = m2_pipeline.dropna()\n",
    "print(m2_pipeline.isna().sum(axis=1).astype(bool).sum())\n",
    "m2_pipeline = m2_pipeline.astype('float')\n",
    "m2_pipeline.dtypes"
   ]
  },
  {
   "cell_type": "markdown",
   "id": "973b9b8c-19a3-4ca5-8db0-363fe6714b5a",
   "metadata": {},
   "source": [
    "## using predefined bins for discrete clustering"
   ]
  },
  {
   "cell_type": "code",
   "execution_count": 13,
   "id": "ee7267ce-8674-4724-bb80-0c7b19ec41c8",
   "metadata": {},
   "outputs": [
    {
     "name": "stdout",
     "output_type": "stream",
     "text": [
      "[-10.    -8.95  -7.89  -6.84  -5.79  -4.74  -3.68  -2.63  -1.58  -0.53\n",
      "   0.53   1.58   2.63   3.68   4.74   5.79   6.84   7.89   8.95  10.  ]\n"
     ]
    }
   ],
   "source": [
    "# Define the maximum and minimum values\n",
    "maximum = 10\n",
    "minimum = -10\n",
    "\n",
    "# Create a range of 20 values between the maximum and minimum\n",
    "values = np.linspace(minimum, maximum, num=20)\n",
    "\n",
    "# Round each value to two decimal places\n",
    "rounded_values = np.round(values, decimals=2)\n",
    "\n",
    "# Print the resulting array\n",
    "print(rounded_values)\n"
   ]
  },
  {
   "cell_type": "code",
   "execution_count": 16,
   "id": "433b59a8-d42b-4de7-84d6-aca0bc6e5fe0",
   "metadata": {},
   "outputs": [
    {
     "data": {
      "text/plain": [
       "[(-0.53, 0.53], (1.58, 2.63], NaN, NaN, NaN]\n",
       "Categories (19, interval[float64, right]): [(-10.0, -8.95] < (-8.95, -7.89] < (-7.89, -6.84] < (-6.84, -5.79] ... (5.79, 6.84] < (6.84, 7.89] < (7.89, 8.95] < (8.95, 10.0]]"
      ]
     },
     "execution_count": 16,
     "metadata": {},
     "output_type": "execute_result"
    }
   ],
   "source": [
    "#model \n",
    "\n",
    "# Bin the values in the 'surge_targets_met_pct' column\n",
    "# bins = [-float('inf'), -8.5, -5.64, 0, 0.25, 0.35, 0.4, 0.5, 0.75, 1.0, 2.0, 3.0, 4.0, 5.0, 5.64, float('inf')]\n",
    "bins = rounded_values\n",
    "labels = rounded_values #['< -8.5', '-8.5 to -5.64', '-5.64 to 0', '0 to 0.25', '0.25 to 0.35', '0.35 to 0.4', '0.4 to 0.5', '0.5 to 0.75', '0.75 to 1', '1 to 2', '2 to 3', '3 to 4', '4 to 5', '5 to 5.64', '> 5.64']\n",
    "# m2_pipeline['binned'] = pd.cut(m2_pipeline['surge_targets_met_pct'], bins=bins  )#, labels=labels)\n",
    "\n",
    "# Display the binned data\n",
    "# print(m2_pipeline['binned'].value_counts())\n",
    "#implement\n",
    "transformer = preprocessing.FunctionTransformer(\n",
    "    pd.cut, kw_args={'bins': bins, 'retbins': False}  #'labels': labels, \n",
    ")\n",
    "X = np.array([0.2, 2, 15, 25, 97])\n",
    "transformer.fit_transform(X)"
   ]
  },
  {
   "cell_type": "code",
   "execution_count": 17,
   "id": "d4d454ab-b649-4abd-bce4-801893ab1ce2",
   "metadata": {},
   "outputs": [
    {
     "data": {
      "text/html": [
       "<style>#sk-container-id-3 {color: black;background-color: white;}#sk-container-id-3 pre{padding: 0;}#sk-container-id-3 div.sk-toggleable {background-color: white;}#sk-container-id-3 label.sk-toggleable__label {cursor: pointer;display: block;width: 100%;margin-bottom: 0;padding: 0.3em;box-sizing: border-box;text-align: center;}#sk-container-id-3 label.sk-toggleable__label-arrow:before {content: \"▸\";float: left;margin-right: 0.25em;color: #696969;}#sk-container-id-3 label.sk-toggleable__label-arrow:hover:before {color: black;}#sk-container-id-3 div.sk-estimator:hover label.sk-toggleable__label-arrow:before {color: black;}#sk-container-id-3 div.sk-toggleable__content {max-height: 0;max-width: 0;overflow: hidden;text-align: left;background-color: #f0f8ff;}#sk-container-id-3 div.sk-toggleable__content pre {margin: 0.2em;color: black;border-radius: 0.25em;background-color: #f0f8ff;}#sk-container-id-3 input.sk-toggleable__control:checked~div.sk-toggleable__content {max-height: 200px;max-width: 100%;overflow: auto;}#sk-container-id-3 input.sk-toggleable__control:checked~label.sk-toggleable__label-arrow:before {content: \"▾\";}#sk-container-id-3 div.sk-estimator input.sk-toggleable__control:checked~label.sk-toggleable__label {background-color: #d4ebff;}#sk-container-id-3 div.sk-label input.sk-toggleable__control:checked~label.sk-toggleable__label {background-color: #d4ebff;}#sk-container-id-3 input.sk-hidden--visually {border: 0;clip: rect(1px 1px 1px 1px);clip: rect(1px, 1px, 1px, 1px);height: 1px;margin: -1px;overflow: hidden;padding: 0;position: absolute;width: 1px;}#sk-container-id-3 div.sk-estimator {font-family: monospace;background-color: #f0f8ff;border: 1px dotted black;border-radius: 0.25em;box-sizing: border-box;margin-bottom: 0.5em;}#sk-container-id-3 div.sk-estimator:hover {background-color: #d4ebff;}#sk-container-id-3 div.sk-parallel-item::after {content: \"\";width: 100%;border-bottom: 1px solid gray;flex-grow: 1;}#sk-container-id-3 div.sk-label:hover label.sk-toggleable__label {background-color: #d4ebff;}#sk-container-id-3 div.sk-serial::before {content: \"\";position: absolute;border-left: 1px solid gray;box-sizing: border-box;top: 0;bottom: 0;left: 50%;z-index: 0;}#sk-container-id-3 div.sk-serial {display: flex;flex-direction: column;align-items: center;background-color: white;padding-right: 0.2em;padding-left: 0.2em;position: relative;}#sk-container-id-3 div.sk-item {position: relative;z-index: 1;}#sk-container-id-3 div.sk-parallel {display: flex;align-items: stretch;justify-content: center;background-color: white;position: relative;}#sk-container-id-3 div.sk-item::before, #sk-container-id-3 div.sk-parallel-item::before {content: \"\";position: absolute;border-left: 1px solid gray;box-sizing: border-box;top: 0;bottom: 0;left: 50%;z-index: -1;}#sk-container-id-3 div.sk-parallel-item {display: flex;flex-direction: column;z-index: 1;position: relative;background-color: white;}#sk-container-id-3 div.sk-parallel-item:first-child::after {align-self: flex-end;width: 50%;}#sk-container-id-3 div.sk-parallel-item:last-child::after {align-self: flex-start;width: 50%;}#sk-container-id-3 div.sk-parallel-item:only-child::after {width: 0;}#sk-container-id-3 div.sk-dashed-wrapped {border: 1px dashed gray;margin: 0 0.4em 0.5em 0.4em;box-sizing: border-box;padding-bottom: 0.4em;background-color: white;}#sk-container-id-3 div.sk-label label {font-family: monospace;font-weight: bold;display: inline-block;line-height: 1.2em;}#sk-container-id-3 div.sk-label-container {text-align: center;}#sk-container-id-3 div.sk-container {/* jupyter's `normalize.less` sets `[hidden] { display: none; }` but bootstrap.min.css set `[hidden] { display: none !important; }` so we also need the `!important` here to be able to override the default hidden behavior on the sphinx rendered scikit-learn.org. See: https://github.com/scikit-learn/scikit-learn/issues/21755 */display: inline-block !important;position: relative;}#sk-container-id-3 div.sk-text-repr-fallback {display: none;}</style><div id=\"sk-container-id-3\" class=\"sk-top-container\"><div class=\"sk-text-repr-fallback\"><pre>FunctionTransformer(func=&lt;function cut at 0x7f75e03c4e50&gt;,\n",
       "                    kw_args={&#x27;bins&#x27;: array([-10.  ,  -8.95,  -7.89,  -6.84,  -5.79,  -4.74,  -3.68,  -2.63,\n",
       "        -1.58,  -0.53,   0.53,   1.58,   2.63,   3.68,   4.74,   5.79,\n",
       "         6.84,   7.89,   8.95,  10.  ]),\n",
       "                             &#x27;retbins&#x27;: False})</pre><b>In a Jupyter environment, please rerun this cell to show the HTML representation or trust the notebook. <br />On GitHub, the HTML representation is unable to render, please try loading this page with nbviewer.org.</b></div><div class=\"sk-container\" hidden><div class=\"sk-item\"><div class=\"sk-estimator sk-toggleable\"><input class=\"sk-toggleable__control sk-hidden--visually\" id=\"sk-estimator-id-3\" type=\"checkbox\" checked><label for=\"sk-estimator-id-3\" class=\"sk-toggleable__label sk-toggleable__label-arrow\">FunctionTransformer</label><div class=\"sk-toggleable__content\"><pre>FunctionTransformer(func=&lt;function cut at 0x7f75e03c4e50&gt;,\n",
       "                    kw_args={&#x27;bins&#x27;: array([-10.  ,  -8.95,  -7.89,  -6.84,  -5.79,  -4.74,  -3.68,  -2.63,\n",
       "        -1.58,  -0.53,   0.53,   1.58,   2.63,   3.68,   4.74,   5.79,\n",
       "         6.84,   7.89,   8.95,  10.  ]),\n",
       "                             &#x27;retbins&#x27;: False})</pre></div></div></div></div></div>"
      ],
      "text/plain": [
       "FunctionTransformer(func=<function cut at 0x7f75e03c4e50>,\n",
       "                    kw_args={'bins': array([-10.  ,  -8.95,  -7.89,  -6.84,  -5.79,  -4.74,  -3.68,  -2.63,\n",
       "        -1.58,  -0.53,   0.53,   1.58,   2.63,   3.68,   4.74,   5.79,\n",
       "         6.84,   7.89,   8.95,  10.  ]),\n",
       "                             'retbins': False})"
      ]
     },
     "execution_count": 17,
     "metadata": {},
     "output_type": "execute_result"
    }
   ],
   "source": [
    "transformer"
   ]
  },
  {
   "cell_type": "code",
   "execution_count": 11,
   "id": "b00c1315-37ff-4616-83a6-6954b77456a4",
   "metadata": {},
   "outputs": [
    {
     "data": {
      "text/plain": [
       "1       (-0.53, 0.53]\n",
       "2       (-0.53, 0.53]\n",
       "3       (-0.53, 0.53]\n",
       "4       (-0.53, 0.53]\n",
       "5       (-0.53, 0.53]\n",
       "            ...      \n",
       "5631    (-0.53, 0.53]\n",
       "5632    (-0.53, 0.53]\n",
       "5633    (-0.53, 0.53]\n",
       "5634    (-0.53, 0.53]\n",
       "5635    (-0.53, 0.53]\n",
       "Name: binned, Length: 5634, dtype: category\n",
       "Categories (19, interval[float64, right]): [(-10.0, -8.95] < (-8.95, -7.89] < (-7.89, -6.84] < (-6.84, -5.79] ... (5.79, 6.84] < (6.84, 7.89] < (7.89, 8.95] < (8.95, 10.0]]"
      ]
     },
     "execution_count": 11,
     "metadata": {},
     "output_type": "execute_result"
    }
   ],
   "source": [
    "m2_pipeline['binned']"
   ]
  },
  {
   "cell_type": "code",
   "execution_count": null,
   "id": "150bccbc-b02a-4d47-829a-09e13fbc488e",
   "metadata": {},
   "outputs": [],
   "source": [
    "## you must cluster on the column 'surge_targets_met_pct' like so\n",
    "import pandas as pd\n",
    "from sklearn.cluster import KMeans\n",
    "min_max_scaler = preprocessing.MinMaxScaler()\n",
    "x_scaled = min_max_scaler.fit_transform(x)\n",
    "m2_pipeline['surge_targets_met_pct_normalized'] = pd.DataFrame(x_scaled)\n",
    "\n",
    "# Assuming your dataframe is named 'm2_pipeline'\n",
    "kmeans = KMeans(n_clusters=3, init='k-means++', max_iter=300, n_init=10, random_state=0)\n",
    "kmeans.fit(m2_pipeline[['surge_targets_met_pct_normalized']])\n"
   ]
  },
  {
   "cell_type": "markdown",
   "id": "c089cf4d-7ce1-4e9d-90cc-200e5e874716",
   "metadata": {},
   "source": [
    "### clustering types\n",
    "\n",
    "(https://scikit-learn.org/stable/modules/clustering.html#mean-shift)\n"
   ]
  },
  {
   "cell_type": "code",
   "execution_count": 4,
   "id": "f432f579-c5e4-4cfb-b90d-5208ebd28da8",
   "metadata": {},
   "outputs": [
    {
     "name": "stdout",
     "output_type": "stream",
     "text": [
      "for cluster size 4\n"
     ]
    },
    {
     "name": "stderr",
     "output_type": "stream",
     "text": [
      "/home/stefan/Desktop/GRUS/caret1/lib/python3.8/site-packages/sklearn/cluster/_kmeans.py:870: FutureWarning: The default value of `n_init` will change from 10 to 'auto' in 1.4. Set the value of `n_init` explicitly to suppress the warning\n",
      "  warnings.warn(\n"
     ]
    },
    {
     "name": "stdout",
     "output_type": "stream",
     "text": [
      "{'algo': 'KMeans', 'score': 0.6468266676607601, 'clusters': 4}\n",
      "{'algo': 'Agglomerative', 'score': 0.5544786252177756, 'clusters': 4}\n"
     ]
    },
    {
     "name": "stderr",
     "output_type": "stream",
     "text": [
      "/home/stefan/Desktop/GRUS/caret1/lib/python3.8/site-packages/sklearn/manifold/_spectral_embedding.py:274: UserWarning: Graph is not fully connected, spectral embedding may not work as expected.\n",
      "  warnings.warn(\n"
     ]
    },
    {
     "name": "stdout",
     "output_type": "stream",
     "text": [
      "{'algo': 'Spectral', 'score': 0.8894194271443359, 'clusters': 4}\n",
      "{'algo': 'Birch', 'score': 0.8963065534883663, 'clusters': 4}\n",
      "for cluster size 5\n"
     ]
    },
    {
     "name": "stderr",
     "output_type": "stream",
     "text": [
      "/home/stefan/Desktop/GRUS/caret1/lib/python3.8/site-packages/sklearn/cluster/_kmeans.py:870: FutureWarning: The default value of `n_init` will change from 10 to 'auto' in 1.4. Set the value of `n_init` explicitly to suppress the warning\n",
      "  warnings.warn(\n"
     ]
    },
    {
     "name": "stdout",
     "output_type": "stream",
     "text": [
      "{'algo': 'KMeans', 'score': 0.5593983370450872, 'clusters': 5}\n",
      "{'algo': 'Agglomerative', 'score': 0.5643203301653003, 'clusters': 5}\n"
     ]
    },
    {
     "name": "stderr",
     "output_type": "stream",
     "text": [
      "/home/stefan/Desktop/GRUS/caret1/lib/python3.8/site-packages/sklearn/manifold/_spectral_embedding.py:274: UserWarning: Graph is not fully connected, spectral embedding may not work as expected.\n",
      "  warnings.warn(\n"
     ]
    },
    {
     "name": "stdout",
     "output_type": "stream",
     "text": [
      "{'algo': 'Spectral', 'score': 0.8680072361397677, 'clusters': 5}\n",
      "{'algo': 'Birch', 'score': 0.8897806396215054, 'clusters': 5}\n",
      "for cluster size 6\n"
     ]
    },
    {
     "name": "stderr",
     "output_type": "stream",
     "text": [
      "/home/stefan/Desktop/GRUS/caret1/lib/python3.8/site-packages/sklearn/cluster/_kmeans.py:870: FutureWarning: The default value of `n_init` will change from 10 to 'auto' in 1.4. Set the value of `n_init` explicitly to suppress the warning\n",
      "  warnings.warn(\n"
     ]
    },
    {
     "name": "stdout",
     "output_type": "stream",
     "text": [
      "{'algo': 'KMeans', 'score': 0.48139647422184684, 'clusters': 6}\n",
      "{'algo': 'Agglomerative', 'score': 0.381872491666767, 'clusters': 6}\n"
     ]
    },
    {
     "name": "stderr",
     "output_type": "stream",
     "text": [
      "/home/stefan/Desktop/GRUS/caret1/lib/python3.8/site-packages/sklearn/manifold/_spectral_embedding.py:274: UserWarning: Graph is not fully connected, spectral embedding may not work as expected.\n",
      "  warnings.warn(\n"
     ]
    },
    {
     "name": "stdout",
     "output_type": "stream",
     "text": [
      "{'algo': 'Spectral', 'score': 0.860072471203043, 'clusters': 6}\n",
      "{'algo': 'Birch', 'score': 0.6744131267918048, 'clusters': 6}\n",
      "for cluster size 7\n"
     ]
    },
    {
     "name": "stderr",
     "output_type": "stream",
     "text": [
      "/home/stefan/Desktop/GRUS/caret1/lib/python3.8/site-packages/sklearn/cluster/_kmeans.py:870: FutureWarning: The default value of `n_init` will change from 10 to 'auto' in 1.4. Set the value of `n_init` explicitly to suppress the warning\n",
      "  warnings.warn(\n"
     ]
    },
    {
     "name": "stdout",
     "output_type": "stream",
     "text": [
      "{'algo': 'KMeans', 'score': 0.5266775562128754, 'clusters': 7}\n",
      "{'algo': 'Agglomerative', 'score': 0.3822319644010064, 'clusters': 7}\n"
     ]
    },
    {
     "name": "stderr",
     "output_type": "stream",
     "text": [
      "/home/stefan/Desktop/GRUS/caret1/lib/python3.8/site-packages/sklearn/manifold/_spectral_embedding.py:274: UserWarning: Graph is not fully connected, spectral embedding may not work as expected.\n",
      "  warnings.warn(\n"
     ]
    },
    {
     "name": "stdout",
     "output_type": "stream",
     "text": [
      "{'algo': 'Spectral', 'score': 0.8529175760916948, 'clusters': 7}\n",
      "{'algo': 'Birch', 'score': 0.674899790548584, 'clusters': 7}\n",
      "for cluster size 8\n"
     ]
    },
    {
     "name": "stderr",
     "output_type": "stream",
     "text": [
      "/home/stefan/Desktop/GRUS/caret1/lib/python3.8/site-packages/sklearn/cluster/_kmeans.py:870: FutureWarning: The default value of `n_init` will change from 10 to 'auto' in 1.4. Set the value of `n_init` explicitly to suppress the warning\n",
      "  warnings.warn(\n"
     ]
    },
    {
     "name": "stdout",
     "output_type": "stream",
     "text": [
      "{'algo': 'KMeans', 'score': 0.5249708561440117, 'clusters': 8}\n",
      "{'algo': 'Agglomerative', 'score': 0.38847626939917296, 'clusters': 8}\n"
     ]
    },
    {
     "name": "stderr",
     "output_type": "stream",
     "text": [
      "/home/stefan/Desktop/GRUS/caret1/lib/python3.8/site-packages/sklearn/manifold/_spectral_embedding.py:274: UserWarning: Graph is not fully connected, spectral embedding may not work as expected.\n",
      "  warnings.warn(\n"
     ]
    },
    {
     "name": "stdout",
     "output_type": "stream",
     "text": [
      "{'algo': 'Spectral', 'score': 0.7678599844306472, 'clusters': 8}\n",
      "{'algo': 'Birch', 'score': 0.6739887885839931, 'clusters': 8}\n",
      "for cluster size 9\n"
     ]
    },
    {
     "name": "stderr",
     "output_type": "stream",
     "text": [
      "/home/stefan/Desktop/GRUS/caret1/lib/python3.8/site-packages/sklearn/cluster/_kmeans.py:870: FutureWarning: The default value of `n_init` will change from 10 to 'auto' in 1.4. Set the value of `n_init` explicitly to suppress the warning\n",
      "  warnings.warn(\n"
     ]
    },
    {
     "name": "stdout",
     "output_type": "stream",
     "text": [
      "{'algo': 'KMeans', 'score': 0.4537747745020753, 'clusters': 9}\n",
      "{'algo': 'Agglomerative', 'score': 0.3889831387281811, 'clusters': 9}\n"
     ]
    },
    {
     "name": "stderr",
     "output_type": "stream",
     "text": [
      "/home/stefan/Desktop/GRUS/caret1/lib/python3.8/site-packages/sklearn/manifold/_spectral_embedding.py:274: UserWarning: Graph is not fully connected, spectral embedding may not work as expected.\n",
      "  warnings.warn(\n"
     ]
    },
    {
     "name": "stdout",
     "output_type": "stream",
     "text": [
      "{'algo': 'Spectral', 'score': 0.7654156402145649, 'clusters': 9}\n",
      "{'algo': 'Birch', 'score': 0.673894150359468, 'clusters': 9}\n",
      "for cluster size 10\n"
     ]
    },
    {
     "name": "stderr",
     "output_type": "stream",
     "text": [
      "/home/stefan/Desktop/GRUS/caret1/lib/python3.8/site-packages/sklearn/cluster/_kmeans.py:870: FutureWarning: The default value of `n_init` will change from 10 to 'auto' in 1.4. Set the value of `n_init` explicitly to suppress the warning\n",
      "  warnings.warn(\n"
     ]
    },
    {
     "name": "stdout",
     "output_type": "stream",
     "text": [
      "{'algo': 'KMeans', 'score': 0.4836865690827746, 'clusters': 10}\n",
      "{'algo': 'Agglomerative', 'score': 0.41540364706459565, 'clusters': 10}\n"
     ]
    },
    {
     "name": "stderr",
     "output_type": "stream",
     "text": [
      "/home/stefan/Desktop/GRUS/caret1/lib/python3.8/site-packages/sklearn/manifold/_spectral_embedding.py:274: UserWarning: Graph is not fully connected, spectral embedding may not work as expected.\n",
      "  warnings.warn(\n"
     ]
    },
    {
     "name": "stdout",
     "output_type": "stream",
     "text": [
      "{'algo': 'Spectral', 'score': 0.7557128742777597, 'clusters': 10}\n",
      "{'algo': 'Birch', 'score': 0.6470633893096103, 'clusters': 10}\n",
      "for cluster size 11\n"
     ]
    },
    {
     "name": "stderr",
     "output_type": "stream",
     "text": [
      "/home/stefan/Desktop/GRUS/caret1/lib/python3.8/site-packages/sklearn/cluster/_kmeans.py:870: FutureWarning: The default value of `n_init` will change from 10 to 'auto' in 1.4. Set the value of `n_init` explicitly to suppress the warning\n",
      "  warnings.warn(\n"
     ]
    },
    {
     "name": "stdout",
     "output_type": "stream",
     "text": [
      "{'algo': 'KMeans', 'score': 0.4737651766143858, 'clusters': 11}\n",
      "{'algo': 'Agglomerative', 'score': 0.4244966269048636, 'clusters': 11}\n"
     ]
    },
    {
     "name": "stderr",
     "output_type": "stream",
     "text": [
      "/home/stefan/Desktop/GRUS/caret1/lib/python3.8/site-packages/sklearn/manifold/_spectral_embedding.py:274: UserWarning: Graph is not fully connected, spectral embedding may not work as expected.\n",
      "  warnings.warn(\n"
     ]
    },
    {
     "name": "stdout",
     "output_type": "stream",
     "text": [
      "{'algo': 'Spectral', 'score': 0.7622392704381659, 'clusters': 11}\n",
      "{'algo': 'Birch', 'score': 0.6450014158194325, 'clusters': 11}\n",
      "for cluster size 12\n"
     ]
    },
    {
     "name": "stderr",
     "output_type": "stream",
     "text": [
      "/home/stefan/Desktop/GRUS/caret1/lib/python3.8/site-packages/sklearn/cluster/_kmeans.py:870: FutureWarning: The default value of `n_init` will change from 10 to 'auto' in 1.4. Set the value of `n_init` explicitly to suppress the warning\n",
      "  warnings.warn(\n"
     ]
    },
    {
     "name": "stdout",
     "output_type": "stream",
     "text": [
      "{'algo': 'KMeans', 'score': 0.46565127223594627, 'clusters': 12}\n",
      "{'algo': 'Agglomerative', 'score': 0.4222297884377017, 'clusters': 12}\n"
     ]
    },
    {
     "name": "stderr",
     "output_type": "stream",
     "text": [
      "/home/stefan/Desktop/GRUS/caret1/lib/python3.8/site-packages/sklearn/manifold/_spectral_embedding.py:274: UserWarning: Graph is not fully connected, spectral embedding may not work as expected.\n",
      "  warnings.warn(\n"
     ]
    },
    {
     "name": "stdout",
     "output_type": "stream",
     "text": [
      "{'algo': 'Spectral', 'score': 0.7633259097943303, 'clusters': 12}\n",
      "{'algo': 'Birch', 'score': 0.6443349201464048, 'clusters': 12}\n",
      "             algo     score  clusters\n",
      "0          KMeans  0.646827         4\n",
      "1   Agglomerative  0.554479         4\n",
      "2        Spectral  0.889419         4\n",
      "3           Birch  0.896307         4\n",
      "4          KMeans  0.559398         5\n",
      "5   Agglomerative  0.564320         5\n",
      "6        Spectral  0.868007         5\n",
      "7           Birch  0.889781         5\n",
      "8          KMeans  0.481396         6\n",
      "9   Agglomerative  0.381872         6\n",
      "10       Spectral  0.860072         6\n",
      "11          Birch  0.674413         6\n",
      "12         KMeans  0.526678         7\n",
      "13  Agglomerative  0.382232         7\n",
      "14       Spectral  0.852918         7\n",
      "15          Birch  0.674900         7\n",
      "16         KMeans  0.524971         8\n",
      "17  Agglomerative  0.388476         8\n",
      "18       Spectral  0.767860         8\n",
      "19          Birch  0.673989         8\n",
      "20         KMeans  0.453775         9\n",
      "21  Agglomerative  0.388983         9\n",
      "22       Spectral  0.765416         9\n",
      "23          Birch  0.673894         9\n",
      "24         KMeans  0.483687        10\n",
      "25  Agglomerative  0.415404        10\n",
      "26       Spectral  0.755713        10\n",
      "27          Birch  0.647063        10\n",
      "28         KMeans  0.473765        11\n",
      "29  Agglomerative  0.424497        11\n",
      "30       Spectral  0.762239        11\n",
      "31          Birch  0.645001        11\n",
      "32         KMeans  0.465651        12\n",
      "33  Agglomerative  0.422230        12\n",
      "34       Spectral  0.763326        12\n",
      "35          Birch  0.644335        12\n"
     ]
    }
   ],
   "source": [
    "## alternative: specifying cluster value\n",
    "import pandas as pd \n",
    "from sklearn.cluster import KMeans, AgglomerativeClustering, SpectralClustering,\\\n",
    "MeanShift, AffinityPropagation, DBSCAN, OPTICS, Birch\n",
    "from sklearn.metrics import silhouette_score \n",
    "\n",
    "data =  m2_pipeline\n",
    "scores = []  # feed in experiments as a dictionary of parameters and scores\n",
    "\n",
    "csize = [4,5,6,7,8,9,10, 11, 12]\n",
    "for i in range(len(csize)):\n",
    "    c= csize[i]\n",
    "    print(\"for cluster size\",c)\n",
    "    kmeans = KMeans(n_clusters=c) #\n",
    "    hierarchical = AgglomerativeClustering(n_clusters=c) \n",
    "    spectral = SpectralClustering(n_clusters=c) \n",
    "    birch = Birch(n_clusters=c)\n",
    "    algorithms = [(kmeans, 'KMeans'), (hierarchical, 'Agglomerative'), (spectral, 'Spectral'), (birch, 'Birch')] \n",
    "    # algorithms = [kmeans, hierarchical, spectral, birch] \n",
    "\n",
    "    # for algorithm, name in algorithms: # Loop over the algorithms and calculate the silhouette score for each\n",
    "    for algorithm, name in algorithms: # Loop over the algorithms and calculate the silhouette score for each\n",
    "        algorithm.fit(data) \n",
    "        score= silhouette_score(data, algorithm.labels_) \n",
    "        fin = {\"algo\":name, \"score\":score, \"clusters\":c}\n",
    "        print(fin)\n",
    "        scores.append(fin) \n",
    "\n",
    "results = pd.DataFrame(scores)  #{'Algorithm': [name for _, name in algorithms], 'Silhouette Score': scores}) \n",
    "print(results) "
   ]
  },
  {
   "cell_type": "markdown",
   "id": "88ac6ec6-07ca-4446-a171-7514528aae03",
   "metadata": {},
   "source": [
    "## do non cluster specified clustering"
   ]
  },
  {
   "cell_type": "code",
   "execution_count": 5,
   "id": "511b488d-2a38-4a29-9db2-0ff80367ebf1",
   "metadata": {},
   "outputs": [
    {
     "name": "stdout",
     "output_type": "stream",
     "text": [
      "{'algo': 'Meanshift', 'score': 0.5060122726757966, 'clusters': 0}\n"
     ]
    },
    {
     "name": "stderr",
     "output_type": "stream",
     "text": [
      "/home/stefan/Desktop/GRUS/caret1/lib/python3.8/site-packages/sklearn/cluster/_affinity_propagation.py:143: ConvergenceWarning: Affinity propagation did not converge, this model may return degenerate cluster centers and labels.\n",
      "  warnings.warn(\n"
     ]
    },
    {
     "name": "stdout",
     "output_type": "stream",
     "text": [
      "{'algo': 'Affinity', 'score': 0.20066580030525197, 'clusters': 0}\n",
      "{'algo': 'DBSCAN', 'score': 0.9626815572732176, 'clusters': 0}\n",
      "{'algo': 'OPTICS', 'score': -0.6003076524523103, 'clusters': 0}\n",
      "             algo     score  clusters\n",
      "0          KMeans  0.646827         4\n",
      "1   Agglomerative  0.554479         4\n",
      "2        Spectral  0.889419         4\n",
      "3           Birch  0.896307         4\n",
      "4          KMeans  0.559398         5\n",
      "5   Agglomerative  0.564320         5\n",
      "6        Spectral  0.868007         5\n",
      "7           Birch  0.889781         5\n",
      "8          KMeans  0.481396         6\n",
      "9   Agglomerative  0.381872         6\n",
      "10       Spectral  0.860072         6\n",
      "11          Birch  0.674413         6\n",
      "12         KMeans  0.526678         7\n",
      "13  Agglomerative  0.382232         7\n",
      "14       Spectral  0.852918         7\n",
      "15          Birch  0.674900         7\n",
      "16         KMeans  0.524971         8\n",
      "17  Agglomerative  0.388476         8\n",
      "18       Spectral  0.767860         8\n",
      "19          Birch  0.673989         8\n",
      "20         KMeans  0.453775         9\n",
      "21  Agglomerative  0.388983         9\n",
      "22       Spectral  0.765416         9\n",
      "23          Birch  0.673894         9\n",
      "24         KMeans  0.483687        10\n",
      "25  Agglomerative  0.415404        10\n",
      "26       Spectral  0.755713        10\n",
      "27          Birch  0.647063        10\n",
      "28         KMeans  0.473765        11\n",
      "29  Agglomerative  0.424497        11\n",
      "30       Spectral  0.762239        11\n",
      "31          Birch  0.645001        11\n",
      "32         KMeans  0.465651        12\n",
      "33  Agglomerative  0.422230        12\n",
      "34       Spectral  0.763326        12\n",
      "35          Birch  0.644335        12\n",
      "36      Meanshift  0.506012         0\n",
      "37       Affinity  0.200666         0\n",
      "38         DBSCAN  0.962682         0\n",
      "39         OPTICS -0.600308         0\n"
     ]
    }
   ],
   "source": [
    "meanshift = MeanShift(*, bandwidth=None, seeds=None, bin_seeding=False, min_bin_freq=1, cluster_all=True, n_jobs=None, max_iter=300)\n",
    "affinity = AffinityPropagation(*, damping=0.5, max_iter=200, convergence_iter=15, copy=True, preference=None, affinity='euclidean', verbose=False, random_state=42)\n",
    "dbscan = DBSCAN(eps=0.5, *, min_samples=5, metric='euclidean', metric_params=None, algorithm='auto', leaf_size=30, p=None, n_jobs=None)\n",
    "optics = OPTICS(*, min_samples=5, max_eps=inf, metric='minkowski', p=2, metric_params=None, cluster_method='xi', eps=None, xi=0.05, predecessor_correction=True, min_cluster_size=None, algorithm='auto', leaf_size=30, memory=None, n_jobs=None)\n",
    "\n",
    "data = m2_pipeline\n",
    "# scores2 = []  # feed in experiments as a dictionary of parameters and scores\n",
    "algorithms2 = [(meanshift, 'Meanshift'), (affinity, 'Affinity'), (dbscan, 'DBSCAN'), (optics, 'OPTICS')]\n",
    "for algorithm, name in algorithms2: # Loop over the algorithms and calculate the silhouette score for each\n",
    "        algorithm.fit(data) \n",
    "        score= silhouette_score(data, algorithm.labels_) \n",
    "        fin = {\"algo\":name, \"score\":score, \"clusters\":0} \n",
    "        print(fin)\n",
    "        scores.append(fin) \n",
    "# Create a dataframe to store the results \n",
    "results = pd.DataFrame(scores) #{'Algorithm': [name for _, name in algorithms2], 'Silhouette Score': scores2}) \n",
    "print(results)"
   ]
  },
  {
   "cell_type": "code",
   "execution_count": 6,
   "id": "650c956a-97b0-4aea-ab44-bb91c5861e38",
   "metadata": {},
   "outputs": [],
   "source": [
    "cm = 'ranked_classifier_search.csv'  #clustered methods, specified num clusters\n",
    "results.to_csv(cm, index=False)"
   ]
  },
  {
   "cell_type": "markdown",
   "id": "a24043d0-1bb8-4920-8bd2-1443fc526324",
   "metadata": {},
   "source": [
    "## revive the test from stored memory\n",
    "via csv, then get top n, n=10"
   ]
  },
  {
   "cell_type": "code",
   "execution_count": 7,
   "id": "53e1de45-14ca-42e8-9f87-c25f49cb418c",
   "metadata": {},
   "outputs": [
    {
     "name": "stdout",
     "output_type": "stream",
     "text": [
      "            algo     score  clusters\n",
      "0         KMeans  0.646827         4\n",
      "1  Agglomerative  0.554479         4\n",
      "Index(['algo', 'score', 'clusters'], dtype='object')\n"
     ]
    }
   ],
   "source": [
    "revive = pd.read_csv(cm)\n",
    "print(revive.head(2))\n",
    "print(revive.columns)"
   ]
  },
  {
   "cell_type": "code",
   "execution_count": 8,
   "id": "6f88d16b-5d01-4f3a-a230-af262364ade1",
   "metadata": {},
   "outputs": [],
   "source": [
    "topn = revive.sort_values('score', ascending=False).head(10)"
   ]
  },
  {
   "cell_type": "code",
   "execution_count": 9,
   "id": "cb3d05c5-9316-4b1e-964f-3aae0bdc43e8",
   "metadata": {},
   "outputs": [
    {
     "data": {
      "text/html": [
       "<div>\n",
       "<style scoped>\n",
       "    .dataframe tbody tr th:only-of-type {\n",
       "        vertical-align: middle;\n",
       "    }\n",
       "\n",
       "    .dataframe tbody tr th {\n",
       "        vertical-align: top;\n",
       "    }\n",
       "\n",
       "    .dataframe thead th {\n",
       "        text-align: right;\n",
       "    }\n",
       "</style>\n",
       "<table border=\"1\" class=\"dataframe\">\n",
       "  <thead>\n",
       "    <tr style=\"text-align: right;\">\n",
       "      <th></th>\n",
       "      <th>algo</th>\n",
       "      <th>score</th>\n",
       "      <th>clusters</th>\n",
       "    </tr>\n",
       "  </thead>\n",
       "  <tbody>\n",
       "    <tr>\n",
       "      <th>38</th>\n",
       "      <td>DBSCAN</td>\n",
       "      <td>0.962682</td>\n",
       "      <td>0</td>\n",
       "    </tr>\n",
       "    <tr>\n",
       "      <th>3</th>\n",
       "      <td>Birch</td>\n",
       "      <td>0.896307</td>\n",
       "      <td>4</td>\n",
       "    </tr>\n",
       "    <tr>\n",
       "      <th>7</th>\n",
       "      <td>Birch</td>\n",
       "      <td>0.889781</td>\n",
       "      <td>5</td>\n",
       "    </tr>\n",
       "    <tr>\n",
       "      <th>2</th>\n",
       "      <td>Spectral</td>\n",
       "      <td>0.889419</td>\n",
       "      <td>4</td>\n",
       "    </tr>\n",
       "    <tr>\n",
       "      <th>6</th>\n",
       "      <td>Spectral</td>\n",
       "      <td>0.868007</td>\n",
       "      <td>5</td>\n",
       "    </tr>\n",
       "    <tr>\n",
       "      <th>10</th>\n",
       "      <td>Spectral</td>\n",
       "      <td>0.860072</td>\n",
       "      <td>6</td>\n",
       "    </tr>\n",
       "    <tr>\n",
       "      <th>14</th>\n",
       "      <td>Spectral</td>\n",
       "      <td>0.852918</td>\n",
       "      <td>7</td>\n",
       "    </tr>\n",
       "    <tr>\n",
       "      <th>18</th>\n",
       "      <td>Spectral</td>\n",
       "      <td>0.767860</td>\n",
       "      <td>8</td>\n",
       "    </tr>\n",
       "    <tr>\n",
       "      <th>22</th>\n",
       "      <td>Spectral</td>\n",
       "      <td>0.765416</td>\n",
       "      <td>9</td>\n",
       "    </tr>\n",
       "    <tr>\n",
       "      <th>34</th>\n",
       "      <td>Spectral</td>\n",
       "      <td>0.763326</td>\n",
       "      <td>12</td>\n",
       "    </tr>\n",
       "  </tbody>\n",
       "</table>\n",
       "</div>"
      ],
      "text/plain": [
       "        algo     score  clusters\n",
       "38    DBSCAN  0.962682         0\n",
       "3      Birch  0.896307         4\n",
       "7      Birch  0.889781         5\n",
       "2   Spectral  0.889419         4\n",
       "6   Spectral  0.868007         5\n",
       "10  Spectral  0.860072         6\n",
       "14  Spectral  0.852918         7\n",
       "18  Spectral  0.767860         8\n",
       "22  Spectral  0.765416         9\n",
       "34  Spectral  0.763326        12"
      ]
     },
     "execution_count": 9,
     "metadata": {},
     "output_type": "execute_result"
    }
   ],
   "source": [
    "topn"
   ]
  },
  {
   "cell_type": "code",
   "execution_count": 10,
   "id": "8a5588d8-7f9a-4db4-981c-08bbf65a7af0",
   "metadata": {},
   "outputs": [
    {
     "data": {
      "text/plain": [
       "Index(['algo', 'score', 'clusters'], dtype='object')"
      ]
     },
     "execution_count": 10,
     "metadata": {},
     "output_type": "execute_result"
    }
   ],
   "source": [
    "topn.columns"
   ]
  },
  {
   "cell_type": "markdown",
   "id": "7b9438c5-46cc-4392-884e-3039e9845cf5",
   "metadata": {},
   "source": [
    "## cluster and back test the cluster as trade strategy\n"
   ]
  },
  {
   "cell_type": "code",
   "execution_count": 12,
   "id": "26324684-6a33-4962-a32b-73a46e4b6476",
   "metadata": {},
   "outputs": [],
   "source": [
    "## cluster range evaluation\n",
    "# Bin the values in the 'surge_targets_met_pct' column after grouped by 'cluster'\n",
    "# bins = [-float('inf'), -8.5, -5.64, 0, 0.25, 0.35, 0.4, 0.5, 0.75, 1.0, 2.0, 3.0, 4.0, 5.0, 5.64, float('inf')]\n",
    "# labels = ['< -8.5', '-8.5 to -5.64', '-5.64 to 0', '0 to 0.25', '0.25 to 0.35', '0.35 to 0.4', '0.4 to 0.5', '0.5 to 0.75', '0.75 to 1', '1 to 2', '2 to 3', '3 to 4', '4 to 5', '5 to 5.64', '> 5.64']\n",
    "# lc['binned'] = pd.cut(lc['surge_targets_met_pct'], bins=bins, labels=labels)\n"
   ]
  },
  {
   "cell_type": "code",
   "execution_count": 18,
   "id": "380098e5-f13d-4bed-ba94-0d4392fed1c2",
   "metadata": {},
   "outputs": [
    {
     "name": "stdout",
     "output_type": "stream",
     "text": [
      "handle:  DBSCAN 0 0.9626815572732176 DBSCAN()\n",
      "<class 'pandas.core.frame.DataFrame'>\n",
      "{'algo': DBSCAN(), 'score': 0.9626815572732176, 'clusters': 0, 'metrics':                min       max  count\n",
      "cluster                            \n",
      "-1      -16.194332  5.642857     32\n",
      " 0       -3.313392  2.158611   5554\n",
      " 1       -4.078550 -3.355705     28\n",
      " 2       -7.132802 -6.415279      7\n",
      " 3       -5.163992 -4.180985     13}\n",
      "handle:  Birch 4 0.8963065534883663 Birch(n_clusters=4)\n",
      "<class 'pandas.core.frame.DataFrame'>\n",
      "{'algo': Birch(n_clusters=4), 'score': 0.8963065534883663, 'clusters': 4, 'metrics':                min        max  count\n",
      "cluster                             \n",
      "0        -1.424149   5.642857   5277\n",
      "1       -16.194332 -16.194332      1\n",
      "2       -11.006585  -1.432408    355\n",
      "3        -0.167973  -0.167973      1}\n",
      "handle:  Birch 5 0.8897806396215054 Birch(n_clusters=5)\n",
      "<class 'pandas.core.frame.DataFrame'>\n",
      "{'algo': Birch(n_clusters=5), 'score': 0.8897806396215054, 'clusters': 5, 'metrics':                min        max  count\n",
      "cluster                             \n",
      "0       -11.006585  -1.432408    355\n",
      "1       -16.194332 -16.194332      1\n",
      "2        -1.424149   5.642857   5275\n",
      "3        -0.167973  -0.167973      1\n",
      "4         0.000000   0.052604      2}\n",
      "handle:  Spectral 4 0.8894194271443359 SpectralClustering(n_clusters=4)\n"
     ]
    },
    {
     "name": "stderr",
     "output_type": "stream",
     "text": [
      "/home/stefan/Desktop/GRUS/caret1/lib/python3.8/site-packages/sklearn/manifold/_spectral_embedding.py:274: UserWarning: Graph is not fully connected, spectral embedding may not work as expected.\n",
      "  warnings.warn(\n"
     ]
    },
    {
     "name": "stdout",
     "output_type": "stream",
     "text": [
      "<class 'pandas.core.frame.DataFrame'>\n",
      "{'algo': SpectralClustering(n_clusters=4), 'score': 0.8894194271443359, 'clusters': 4, 'metrics':                min        max  count\n",
      "cluster                             \n",
      "0        -3.701528   5.642857   5587\n",
      "1       -16.194332 -11.006585      2\n",
      "2        -8.590806  -6.118776     14\n",
      "3        -5.864198  -3.823280     31}\n",
      "handle:  Spectral 5 0.8680072361397677 SpectralClustering(n_clusters=5)\n"
     ]
    },
    {
     "name": "stderr",
     "output_type": "stream",
     "text": [
      "/home/stefan/Desktop/GRUS/caret1/lib/python3.8/site-packages/sklearn/manifold/_spectral_embedding.py:274: UserWarning: Graph is not fully connected, spectral embedding may not work as expected.\n",
      "  warnings.warn(\n"
     ]
    },
    {
     "name": "stdout",
     "output_type": "stream",
     "text": [
      "<class 'pandas.core.frame.DataFrame'>\n",
      "{'algo': SpectralClustering(n_clusters=5), 'score': 0.8680072361397677, 'clusters': 5, 'metrics':                min        max  count\n",
      "cluster                             \n",
      "0        -3.701528   5.642857   5587\n",
      "1       -16.194332 -11.006585      2\n",
      "2        -8.590806  -6.118776     14\n",
      "3        -4.716981  -3.823280     22\n",
      "4        -5.864198  -5.041152      9}\n",
      "handle:  Spectral 6 0.860072471203043 SpectralClustering(n_clusters=6)\n"
     ]
    },
    {
     "name": "stderr",
     "output_type": "stream",
     "text": [
      "/home/stefan/Desktop/GRUS/caret1/lib/python3.8/site-packages/sklearn/manifold/_spectral_embedding.py:274: UserWarning: Graph is not fully connected, spectral embedding may not work as expected.\n",
      "  warnings.warn(\n"
     ]
    },
    {
     "name": "stdout",
     "output_type": "stream",
     "text": [
      "<class 'pandas.core.frame.DataFrame'>\n",
      "{'algo': SpectralClustering(n_clusters=6), 'score': 0.860072471203043, 'clusters': 6, 'metrics':                min        max  count\n",
      "cluster                             \n",
      "0        -4.716981   5.642857   5609\n",
      "1       -16.194332 -16.194332      1\n",
      "2       -11.006585 -11.006585      1\n",
      "3        -8.590806  -7.540799      3\n",
      "4        -5.864198  -5.041152      9\n",
      "5        -7.343550  -6.118776     11}\n",
      "handle:  Spectral 7 0.8529175760916948 SpectralClustering(n_clusters=7)\n"
     ]
    },
    {
     "name": "stderr",
     "output_type": "stream",
     "text": [
      "/home/stefan/Desktop/GRUS/caret1/lib/python3.8/site-packages/sklearn/manifold/_spectral_embedding.py:274: UserWarning: Graph is not fully connected, spectral embedding may not work as expected.\n",
      "  warnings.warn(\n"
     ]
    },
    {
     "name": "stdout",
     "output_type": "stream",
     "text": [
      "<class 'pandas.core.frame.DataFrame'>\n",
      "{'algo': SpectralClustering(n_clusters=7), 'score': 0.8529175760916948, 'clusters': 7, 'metrics':                min        max  count\n",
      "cluster                             \n",
      "0        -2.892562   2.838164   5550\n",
      "1        -8.590806  -7.540799      3\n",
      "2        -5.864198  -5.041152      9\n",
      "3        -7.343550  -6.118776     11\n",
      "4        -4.716981  -4.059963     13\n",
      "5       -16.194332 -11.006585      2\n",
      "6        -3.972950   5.642857     46}\n",
      "handle:  Spectral 8 0.7678599844306472 SpectralClustering()\n"
     ]
    },
    {
     "name": "stderr",
     "output_type": "stream",
     "text": [
      "/home/stefan/Desktop/GRUS/caret1/lib/python3.8/site-packages/sklearn/manifold/_spectral_embedding.py:274: UserWarning: Graph is not fully connected, spectral embedding may not work as expected.\n",
      "  warnings.warn(\n"
     ]
    },
    {
     "name": "stdout",
     "output_type": "stream",
     "text": [
      "<class 'pandas.core.frame.DataFrame'>\n",
      "{'algo': SpectralClustering(), 'score': 0.7678599844306472, 'clusters': 8, 'metrics':                min        max  count\n",
      "cluster                             \n",
      "0        -2.892562   2.838164   5550\n",
      "1        -8.590806  -7.540799      3\n",
      "2        -7.343550  -6.118776     11\n",
      "3        -5.864198  -5.041152      9\n",
      "4        -4.716981  -4.059963     13\n",
      "5        -3.972950  -2.929687     45\n",
      "6       -16.194332 -11.006585      2\n",
      "7         5.642857   5.642857      1}\n",
      "handle:  Spectral 9 0.7654156402145649 SpectralClustering(n_clusters=9)\n"
     ]
    },
    {
     "name": "stderr",
     "output_type": "stream",
     "text": [
      "/home/stefan/Desktop/GRUS/caret1/lib/python3.8/site-packages/sklearn/manifold/_spectral_embedding.py:274: UserWarning: Graph is not fully connected, spectral embedding may not work as expected.\n",
      "  warnings.warn(\n"
     ]
    },
    {
     "name": "stdout",
     "output_type": "stream",
     "text": [
      "<class 'pandas.core.frame.DataFrame'>\n",
      "{'algo': SpectralClustering(n_clusters=9), 'score': 0.7654156402145649, 'clusters': 9, 'metrics':                min        max  count\n",
      "cluster                             \n",
      "0        -2.892562   5.642857   5551\n",
      "1       -11.006585 -11.006585      1\n",
      "2       -16.194332 -16.194332      1\n",
      "3        -7.787810  -7.540799      2\n",
      "4        -5.864198  -5.041152      9\n",
      "5        -7.343550  -6.118776     11\n",
      "6        -4.716981  -4.059963     13\n",
      "7        -8.590806  -8.590806      1\n",
      "8        -3.972950  -2.929687     45}\n",
      "handle:  Spectral 12 0.7633259097943303 SpectralClustering(n_clusters=12)\n"
     ]
    },
    {
     "name": "stderr",
     "output_type": "stream",
     "text": [
      "/home/stefan/Desktop/GRUS/caret1/lib/python3.8/site-packages/sklearn/manifold/_spectral_embedding.py:274: UserWarning: Graph is not fully connected, spectral embedding may not work as expected.\n",
      "  warnings.warn(\n"
     ]
    },
    {
     "name": "stdout",
     "output_type": "stream",
     "text": [
      "<class 'pandas.core.frame.DataFrame'>\n",
      "{'algo': SpectralClustering(n_clusters=12), 'score': 0.7633259097943303, 'clusters': 12, 'metrics':                min        max  count\n",
      "cluster                             \n",
      "0        -2.892562   2.355623   5548\n",
      "1       -11.006585  -7.540799      3\n",
      "2         5.642857   5.642857      1\n",
      "3        -8.590806  -8.590806      1\n",
      "4       -16.194332 -16.194332      1\n",
      "5        -7.343550  -6.732026      6\n",
      "6        -5.864198  -5.041152      9\n",
      "7        -4.716981  -4.059963     13\n",
      "8        -6.605114  -6.118776      5\n",
      "9         2.615279   2.838164      2\n",
      "10       -3.972950  -3.408211     25\n",
      "11       -3.355705  -2.929687     20}\n",
      "                                algo     score  clusters  \\\n",
      "0                           DBSCAN()  0.962682         0   \n",
      "1                Birch(n_clusters=4)  0.896307         4   \n",
      "2                Birch(n_clusters=5)  0.889781         5   \n",
      "3   SpectralClustering(n_clusters=4)  0.889419         4   \n",
      "4   SpectralClustering(n_clusters=5)  0.868007         5   \n",
      "5   SpectralClustering(n_clusters=6)  0.860072         6   \n",
      "6   SpectralClustering(n_clusters=7)  0.852918         7   \n",
      "7               SpectralClustering()  0.767860         8   \n",
      "8   SpectralClustering(n_clusters=9)  0.765416         9   \n",
      "9  SpectralClustering(n_clusters=12)  0.763326        12   \n",
      "\n",
      "                                             metrics  \n",
      "0                 min       max  count\n",
      "cluster   ...  \n",
      "1                 min        max  count\n",
      "cluster  ...  \n",
      "2                 min        max  count\n",
      "cluster  ...  \n",
      "3                 min        max  count\n",
      "cluster  ...  \n",
      "4                 min        max  count\n",
      "cluster  ...  \n",
      "5                 min        max  count\n",
      "cluster  ...  \n",
      "6                 min        max  count\n",
      "cluster  ...  \n",
      "7                 min        max  count\n",
      "cluster  ...  \n",
      "8                 min        max  count\n",
      "cluster  ...  \n",
      "9                 min        max  count\n",
      "cluster  ...  \n"
     ]
    }
   ],
   "source": [
    "from sklearn.cluster import KMeans\n",
    "\n",
    "scoring = [] #algo, cluster quality metrics, cluster sizes, from topn\n",
    "for index, row in topn.iterrows():\n",
    "    data = m2_pipeline #need a temporary version of the master data\n",
    "\n",
    "    algo = row['algo']   # Extract the algorithm and cluster from the current row\n",
    "    c = row['clusters']\n",
    "    score = row['score']\n",
    "    kmeans = KMeans(n_clusters=c) #establish a means to build the cluster algo, cluster or no NEED SEEDING \n",
    "    hierarchical = AgglomerativeClustering(n_clusters=c) \n",
    "    spectral = SpectralClustering(n_clusters=c) \n",
    "    birch = Birch(n_clusters=c)\n",
    "    meanshift = MeanShift()\n",
    "    affinity = AffinityPropagation()\n",
    "    dbscan = DBSCAN()\n",
    "    optics = OPTICS()\n",
    "    algorithms = [(kmeans, 'KMeans'), (hierarchical, 'Agglomerative'), (spectral, 'Spectral'), (birch, 'Birch')\\\n",
    "                  ,(meanshift, 'Meanshift'), (affinity, 'Affinity'), (dbscan, 'DBSCAN'), (optics, 'OPTICS')]\n",
    "   \n",
    "    method = [t for t in algorithms if algo in t][0][0] #read the algo type from the topn list/df\n",
    "    print(\"handle: \",algo, c, score, method) #verify it is reading it ok\n",
    "    # method.fit(m2_pipeline)\n",
    "    predict = method.fit_predict(data) #fit predict, derive cluster labeling\n",
    "    data['cluster'] = pd.Series(predict, index=data.index) # Add a new column to the filtered dataframe with the predicted cluster labels\n",
    "    # group by cluster identifier, define ranges of values, number of clusters and their ranged values\n",
    "    #NEED A NEW ALGORITHM TO EVALUATE EACH CLUSTER, BY BUSINESS RULE\n",
    "    # means = data.groupby('Cluster')['surge_targets_met_pct'].mean() ##group by then aggregate\n",
    "    min_max_count = data.groupby('cluster')['surge_targets_met_pct'].agg(['min', 'max', 'count'])\n",
    "    print(type(min_max_count))\n",
    "#cluster analytics: \n",
    "    \n",
    "    fin = {\"algo\":method, \"score\":score, \"clusters\":c, \"metrics\":min_max_count}\n",
    "    print(fin)\n",
    "    scoring.append(fin)\n",
    "\n",
    "analytic = pd.DataFrame(scoring)\n",
    "print(analytic)\n"
   ]
  },
  {
   "cell_type": "code",
   "execution_count": 16,
   "id": "7359847b-77b2-4b04-a338-cd54f4baf9e5",
   "metadata": {},
   "outputs": [
    {
     "data": {
      "text/html": [
       "<div>\n",
       "<style scoped>\n",
       "    .dataframe tbody tr th:only-of-type {\n",
       "        vertical-align: middle;\n",
       "    }\n",
       "\n",
       "    .dataframe tbody tr th {\n",
       "        vertical-align: top;\n",
       "    }\n",
       "\n",
       "    .dataframe thead th {\n",
       "        text-align: right;\n",
       "    }\n",
       "</style>\n",
       "<table border=\"1\" class=\"dataframe\">\n",
       "  <thead>\n",
       "    <tr style=\"text-align: right;\">\n",
       "      <th></th>\n",
       "      <th>algo</th>\n",
       "      <th>score</th>\n",
       "      <th>clusters</th>\n",
       "      <th>histogram</th>\n",
       "    </tr>\n",
       "  </thead>\n",
       "  <tbody>\n",
       "    <tr>\n",
       "      <th>0</th>\n",
       "      <td>OPTICS</td>\n",
       "      <td>0.962682</td>\n",
       "      <td>0</td>\n",
       "      <td>min       max  count\n",
       "cluster   ...</td>\n",
       "    </tr>\n",
       "    <tr>\n",
       "      <th>1</th>\n",
       "      <td>OPTICS</td>\n",
       "      <td>0.896307</td>\n",
       "      <td>4</td>\n",
       "      <td>min        max  count\n",
       "cluster  ...</td>\n",
       "    </tr>\n",
       "    <tr>\n",
       "      <th>2</th>\n",
       "      <td>OPTICS</td>\n",
       "      <td>0.889781</td>\n",
       "      <td>5</td>\n",
       "      <td>min        max  count\n",
       "cluster  ...</td>\n",
       "    </tr>\n",
       "    <tr>\n",
       "      <th>3</th>\n",
       "      <td>OPTICS</td>\n",
       "      <td>0.889419</td>\n",
       "      <td>4</td>\n",
       "      <td>min        max  count\n",
       "cluster  ...</td>\n",
       "    </tr>\n",
       "    <tr>\n",
       "      <th>4</th>\n",
       "      <td>OPTICS</td>\n",
       "      <td>0.868007</td>\n",
       "      <td>5</td>\n",
       "      <td>min        max  count\n",
       "cluster  ...</td>\n",
       "    </tr>\n",
       "    <tr>\n",
       "      <th>5</th>\n",
       "      <td>OPTICS</td>\n",
       "      <td>0.860072</td>\n",
       "      <td>6</td>\n",
       "      <td>min        max  count\n",
       "cluster  ...</td>\n",
       "    </tr>\n",
       "    <tr>\n",
       "      <th>6</th>\n",
       "      <td>OPTICS</td>\n",
       "      <td>0.852918</td>\n",
       "      <td>7</td>\n",
       "      <td>min        max  count\n",
       "cluster  ...</td>\n",
       "    </tr>\n",
       "    <tr>\n",
       "      <th>7</th>\n",
       "      <td>OPTICS</td>\n",
       "      <td>0.767860</td>\n",
       "      <td>8</td>\n",
       "      <td>min        max  count\n",
       "cluster  ...</td>\n",
       "    </tr>\n",
       "    <tr>\n",
       "      <th>8</th>\n",
       "      <td>OPTICS</td>\n",
       "      <td>0.765416</td>\n",
       "      <td>9</td>\n",
       "      <td>min        max  count\n",
       "cluster  ...</td>\n",
       "    </tr>\n",
       "    <tr>\n",
       "      <th>9</th>\n",
       "      <td>OPTICS</td>\n",
       "      <td>0.763326</td>\n",
       "      <td>12</td>\n",
       "      <td>min        max  count\n",
       "cluster  ...</td>\n",
       "    </tr>\n",
       "  </tbody>\n",
       "</table>\n",
       "</div>"
      ],
      "text/plain": [
       "     algo     score  clusters  \\\n",
       "0  OPTICS  0.962682         0   \n",
       "1  OPTICS  0.896307         4   \n",
       "2  OPTICS  0.889781         5   \n",
       "3  OPTICS  0.889419         4   \n",
       "4  OPTICS  0.868007         5   \n",
       "5  OPTICS  0.860072         6   \n",
       "6  OPTICS  0.852918         7   \n",
       "7  OPTICS  0.767860         8   \n",
       "8  OPTICS  0.765416         9   \n",
       "9  OPTICS  0.763326        12   \n",
       "\n",
       "                                           histogram  \n",
       "0                 min       max  count\n",
       "cluster   ...  \n",
       "1                 min        max  count\n",
       "cluster  ...  \n",
       "2                 min        max  count\n",
       "cluster  ...  \n",
       "3                 min        max  count\n",
       "cluster  ...  \n",
       "4                 min        max  count\n",
       "cluster  ...  \n",
       "5                 min        max  count\n",
       "cluster  ...  \n",
       "6                 min        max  count\n",
       "cluster  ...  \n",
       "7                 min        max  count\n",
       "cluster  ...  \n",
       "8                 min        max  count\n",
       "cluster  ...  \n",
       "9                 min        max  count\n",
       "cluster  ...  "
      ]
     },
     "execution_count": 16,
     "metadata": {},
     "output_type": "execute_result"
    }
   ],
   "source": [
    "analytic"
   ]
  },
  {
   "cell_type": "markdown",
   "id": "7d5bb340-bd36-4621-a2d8-2dc47dd03cca",
   "metadata": {},
   "source": [
    "### take top performing cluster techniques, then ...\n",
    "\n",
    "attache labels to each and analyze the clustering profiles for efficiency, profit"
   ]
  },
  {
   "cell_type": "markdown",
   "id": "39ec91dc-e6a0-4194-a7fe-e7c04cd31b42",
   "metadata": {},
   "source": [
    "## notes "
   ]
  },
  {
   "cell_type": "markdown",
   "id": "ed17c724-9a6c-4280-a565-b4a9f9904db8",
   "metadata": {},
   "source": [
    "1. grid search notes on [sklearn](https://scikit-learn.org/stable/modules/grid_search.html#grid-search)\n",
    "2. sklearn pipeline [guide](https://scikit-learn.org/stable/modules/compose.html#pipeline)"
   ]
  }
 ],
 "metadata": {
  "kernelspec": {
   "display_name": "Python 3 (ipykernel)",
   "language": "python",
   "name": "python3"
  },
  "language_info": {
   "codemirror_mode": {
    "name": "ipython",
    "version": 3
   },
   "file_extension": ".py",
   "mimetype": "text/x-python",
   "name": "python",
   "nbconvert_exporter": "python",
   "pygments_lexer": "ipython3",
   "version": "3.8.10"
  }
 },
 "nbformat": 4,
 "nbformat_minor": 5
}
