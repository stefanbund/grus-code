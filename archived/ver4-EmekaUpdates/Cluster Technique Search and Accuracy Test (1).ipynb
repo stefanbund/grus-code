{
 "cells": [
  {
   "cell_type": "markdown",
   "id": "5d7c5d04-6844-47bc-b7ab-15572b05d1d2",
   "metadata": {},
   "source": [
    "## Cluster Technique Search and Accuracy Test"
   ]
  },
  {
   "cell_type": "markdown",
   "id": "every-madrid",
   "metadata": {},
   "source": [
    "Adding in length it matters. Go back at into preprocessing and instead of taking the first value we need to group by and take the sum of each group instead. This is what causes the miss alignment in precursor statistics for the surge in that sequence. Could be affecting our clustering data. "
   ]
  },
  {
   "cell_type": "markdown",
   "id": "dress-longitude",
   "metadata": {},
   "source": [
    "Checklist\n",
    "- run with standard scaler instead\n",
    "- add in implementation of bin scoring \n",
    "- check other cluster scoring methodologies instead of silhoutte \n",
    "- check other clustering options\n",
    "- maybe do a grid search of each indivdual methodology instead "
   ]
  },
  {
   "cell_type": "markdown",
   "id": "natural-factory",
   "metadata": {},
   "source": [
    "No quantile standard scalar is much better"
   ]
  },
  {
   "cell_type": "markdown",
   "id": "progressive-rider",
   "metadata": {},
   "source": [
    "Cluster Profitability 1\n",
    "- cluster and get cluster qaulity scores and then create  function that looks at the labels and finds the associated surge_target_scores and calculates the mean score for each cluster and from there finds the total difference in cluster averages. We want the clusters that have the greatest difference because that shows that each cluster is seperating by profitability"
   ]
  },
  {
   "cell_type": "code",
   "execution_count": 147,
   "id": "6873776c-9e64-4e97-83ba-a1c93e578d8d",
   "metadata": {
    "tags": []
   },
   "outputs": [],
   "source": [
    "import pandas as pd\n",
    "# from sklearn.cluster import KMeans\n",
    "from sklearn.model_selection import GridSearchCV\n",
    "import sklearn.metrics\n",
    "import numpy as np\n",
    "from sklearn import preprocessing\n",
    "from sklearn.preprocessing import StandardScaler\n",
    "import datetime\n",
    "\n",
    "#SPECIFIED CLUSTER DISCOVERY\n",
    "# from sklearn.preprocessing import StandardScaler\n",
    "from sklearn.model_selection import train_test_split\n",
    "# from sklearn.model_selection import GridSearchCV\n",
    "# from sklearn.cluster import KMeans, AgglomerativeClustering, DBSCAN, SpectralClustering, Birch\n",
    "from sklearn.cluster import KMeans, AgglomerativeClustering, SpectralClustering,\\\n",
    "MeanShift, AffinityPropagation, DBSCAN, OPTICS, Birch\n",
    "from sklearn.metrics import silhouette_score"
   ]
  },
  {
   "cell_type": "code",
   "execution_count": 2,
   "id": "single-laundry",
   "metadata": {
    "tags": []
   },
   "outputs": [],
   "source": [
    "# BIN TECHNIQUE\n",
    "# load pipeline 1 csv and prep for clustering\n",
    "m2_pipeline = pd.read_csv('pipeline1.csv')\n",
    "# change is surge price rate of change per observation, change.1 is precursor\n",
    "# sum_change is surge sum_change per surge, and surge_area is surge alone"
   ]
  },
  {
   "cell_type": "code",
   "execution_count": 3,
   "id": "independent-value",
   "metadata": {},
   "outputs": [
    {
     "data": {
      "text/plain": [
       "group                                           2\n",
       "time                              1660221654244.0\n",
       "s_MP                                         30.0\n",
       "change                                  -0.000533\n",
       "type                                    precursor\n",
       "p_MP                                        29.98\n",
       "precursor_buy_cap_pct_change            -0.000044\n",
       "precursor_ask_cap_pct_change            -0.000004\n",
       "precursor_bid_vol_pct_change            -0.000017\n",
       "precursor_ask_vol_pct_change            -0.000351\n",
       "length                                          6\n",
       "sum_change                               -0.00501\n",
       "max_surge_mp                                 30.0\n",
       "min_surge_mp                                 30.0\n",
       "max_precursor_mp                            29.98\n",
       "min_precursor_mp                            29.85\n",
       "area                                    -0.030057\n",
       "surge_targets_met_pct                   -0.066667\n",
       "group.1                                         3\n",
       "time.1                            1660221833233.0\n",
       "s_MP.1                                      29.86\n",
       "change.1                                  0.00067\n",
       "type.1                                      surge\n",
       "p_MP.1                                      29.85\n",
       "precursor_buy_cap_pct_change.1          -0.000044\n",
       "precursor_ask_cap_pct_change.1          -0.000004\n",
       "precursor_bid_vol_pct_change.1          -0.000017\n",
       "precursor_ask_vol_pct_change.1          -0.000351\n",
       "length.1                                        1\n",
       "sum_change.1                              0.00067\n",
       "max_surge_mp.1                              29.86\n",
       "min_surge_mp.1                              29.86\n",
       "max_precursor_mp.1                          29.85\n",
       "min_precursor_mp.1                          29.85\n",
       "area.1                                    0.00067\n",
       "surge_area                                0.00067\n",
       "surge_targets_met_pct.1                  -0.03349\n",
       "Name: 0, dtype: object"
      ]
     },
     "execution_count": 3,
     "metadata": {},
     "output_type": "execute_result"
    }
   ],
   "source": [
    "m2_pipeline.iloc[0,:]"
   ]
  },
  {
   "cell_type": "code",
   "execution_count": 4,
   "id": "given-idaho",
   "metadata": {
    "tags": []
   },
   "outputs": [],
   "source": [
    "keepable = ['precursor_buy_cap_pct_change', \n",
    "            'precursor_ask_cap_pct_change',\n",
    "            'precursor_bid_vol_pct_change', \n",
    "            'precursor_ask_vol_pct_change',\n",
    "            'sum_change',\n",
    "            'length',\n",
    "            'surge_targets_met_pct']\n",
    "x = m2_pipeline[['surge_targets_met_pct']].values.astype(float)\n",
    "m2_pipeline = m2_pipeline[keepable]"
   ]
  },
  {
   "cell_type": "code",
   "execution_count": 5,
   "id": "otherwise-infection",
   "metadata": {},
   "outputs": [
    {
     "data": {
      "image/png": "[encoded data removed]",
      "text/plain": [
       "<Figure size 720x432 with 1 Axes>"
      ]
     },
     "metadata": {
      "needs_background": "light"
     },
     "output_type": "display_data"
    }
   ],
   "source": [
    "import scipy.stats as stats\n",
    "import matplotlib.pyplot as plt\n",
    "plt.figure(figsize=(10,6))\n",
    "stats.probplot(m2_pipeline['precursor_buy_cap_pct_change'], dist=\"norm\", plot=plt)\n",
    "plt.title('QQ-plot of column')\n",
    "plt.show()\n"
   ]
  },
  {
   "cell_type": "code",
   "execution_count": 6,
   "id": "bronze-function",
   "metadata": {},
   "outputs": [],
   "source": [
    "bins = [\n",
    "    m2_pipeline['surge_targets_met_pct'].min() -1,  # Min value  # -4 to 0 divided into three equal parts\n",
    "    -4/3,# Second bin edge for negative values\n",
    "    -4/6,\n",
    "    -4/12,\n",
    "    0,\n",
    "    0.125,\n",
    "    0.25, 0.5, 0.75, 1,  # Four bins between 0 and 1\n",
    "    2,  # One bin between 1 and 2\n",
    "    m2_pipeline['surge_targets_met_pct'].max() + 1]\n",
    "bin_labels = list(range(1, len(bins)))\n",
    "\n",
    "for i in range(1, len(bins)):\n",
    "    print(f'Bin {bin_labels[i-1]}: {bins[i-1]:.2f} - {bins[i]:.2f}')"
   ]
  },
  {
   "cell_type": "code",
   "execution_count": 8,
   "id": "cross-ontario",
   "metadata": {},
   "outputs": [],
   "source": [
    "m2_pipeline['label'] = pd.cut(m2_pipeline['surge_targets_met_pct'], bins=bins, labels=bin_labels)\n",
    "\n",
    "m2_pipeline.to_csv('binned_pipeline.csv')"
   ]
  },
  {
   "cell_type": "markdown",
   "id": "3d5f4762-7027-4dca-879a-ab1bf88dc9a5",
   "metadata": {},
   "source": [
    "### standardize all features pre train/test"
   ]
  },
  {
   "cell_type": "code",
   "execution_count": 203,
   "id": "arranged-lunch",
   "metadata": {
    "tags": []
   },
   "outputs": [],
   "source": [
    "m2_pipeline = m2_pipeline.dropna()\n",
    "\n",
    "# Splitting the dataframe into features and labels\n",
    "X = m2_pipeline[['precursor_buy_cap_pct_change', 'precursor_ask_cap_pct_change','precursor_bid_vol_pct_change',\n",
    "                'precursor_ask_vol_pct_change','sum_change', 'length']]\n",
    "y = m2_pipeline[['surge_targets_met_pct','label']]\n",
    "\n",
    "# Performing the test/train split and standardization\n",
    "X_train, X_test, y_train, y_test = train_test_split(X, y, test_size=0.2, random_state=42)\n",
    "\n",
    "scaler = StandardScaler()\n",
    "X_train_scaled = scaler.fit_transform(X_train)\n",
    "X_test_scaled = scaler.transform(X_test)"
   ]
  },
  {
   "cell_type": "code",
   "execution_count": 12,
   "id": "smaller-illness",
   "metadata": {},
   "outputs": [],
   "source": [
    "def silhouette_scorer(estimator, X, y=None):\n",
    "    labels = estimator.fit_predict(X)\n",
    "    score = silhouette_score(X, labels)\n",
    "    return score"
   ]
  },
  {
   "cell_type": "code",
   "execution_count": 16,
   "id": "engaged-reform",
   "metadata": {},
   "outputs": [],
   "source": [
    "def cluster_profitability(model, X, feature_name):\n",
    "    \"\"\"\n",
    "    Compute the profitability score of the clustering model.\n",
    "    \n",
    "    Parameters:\n",
    "    - model: Fitted clustering model\n",
    "    - X: DataFrame, the original data with all features\n",
    "    - feature_name: str, the name of the feature to compute profitability\n",
    "    \n",
    "    Returns:\n",
    "    - score: float, computed profitability score\n",
    "    \"\"\"\n",
    "    labels = model.labels_\n",
    "    df = pd.concat([X.reset_index(drop=True), pd.Series(labels, name='Cluster_Label')], axis=1)\n",
    "    cluster_means = df.groupby('Cluster_Label')[feature_name].mean()\n",
    "    \n",
    "    # Custom scoring logic here. \n",
    "    score = cluster_means.std()  # Standard deviation between cluster means\n",
    "    \n",
    "    return score\n"
   ]
  },
  {
   "cell_type": "code",
   "execution_count": 18,
   "id": "stable-component",
   "metadata": {},
   "outputs": [
    {
     "name": "stdout",
     "output_type": "stream",
     "text": [
      "KMeans with 2 clusters:\n",
      "Silhouette score: 0.8889\n",
      "Profitability score: 0.0346\n",
      "\n",
      "KMeans with 3 clusters:\n",
      "Silhouette score: 0.8139\n",
      "Profitability score: 0.0266\n",
      "\n",
      "KMeans with 4 clusters:\n",
      "Silhouette score: 0.8147\n",
      "Profitability score: 0.2662\n",
      "\n",
      "KMeans with 5 clusters:\n",
      "Silhouette score: 0.5287\n",
      "Profitability score: 0.2349\n",
      "\n",
      "KMeans with 6 clusters:\n",
      "Silhouette score: 0.5331\n",
      "Profitability score: 0.1351\n",
      "\n",
      "KMeans with 7 clusters:\n",
      "Silhouette score: 0.5542\n",
      "Profitability score: 0.1169\n",
      "\n",
      "KMeans with 8 clusters:\n",
      "Silhouette score: 0.5657\n",
      "Profitability score: 0.1153\n",
      "\n",
      "KMeans with 9 clusters:\n",
      "Silhouette score: 0.5559\n",
      "Profitability score: 0.1995\n",
      "\n",
      "KMeans with 10 clusters:\n",
      "Silhouette score: 0.4523\n",
      "Profitability score: 0.1886\n",
      "\n",
      "Birch with 2 clusters:\n",
      "Silhouette score: 0.8696\n",
      "Profitability score: 0.0090\n",
      "\n",
      "Birch with 3 clusters:\n",
      "Silhouette score: 0.8507\n",
      "Profitability score: 0.1525\n",
      "\n",
      "Birch with 4 clusters:\n",
      "Silhouette score: 0.7583\n",
      "Profitability score: 0.1313\n",
      "\n",
      "Birch with 5 clusters:\n",
      "Silhouette score: 0.7652\n",
      "Profitability score: 0.1239\n",
      "\n",
      "Birch with 6 clusters:\n",
      "Silhouette score: 0.7396\n",
      "Profitability score: 0.1458\n",
      "\n",
      "Birch with 7 clusters:\n",
      "Silhouette score: 0.7398\n",
      "Profitability score: 0.2180\n",
      "\n",
      "Birch with 8 clusters:\n",
      "Silhouette score: 0.5627\n",
      "Profitability score: 0.2035\n",
      "\n",
      "Birch with 9 clusters:\n",
      "Silhouette score: 0.5631\n",
      "Profitability score: 0.2078\n",
      "\n",
      "Birch with 10 clusters:\n",
      "Silhouette score: 0.5635\n",
      "Profitability score: 0.2011\n",
      "\n",
      "Hierarchical with 2 clusters:\n",
      "Silhouette score: 0.8696\n",
      "Profitability score: 0.0090\n",
      "\n",
      "Hierarchical with 3 clusters:\n",
      "Silhouette score: 0.8507\n",
      "Profitability score: 0.1525\n",
      "\n",
      "Hierarchical with 4 clusters:\n",
      "Silhouette score: 0.4036\n",
      "Profitability score: 0.1326\n",
      "\n",
      "Hierarchical with 5 clusters:\n",
      "Silhouette score: 0.4102\n",
      "Profitability score: 0.1416\n",
      "\n",
      "Hierarchical with 6 clusters:\n",
      "Silhouette score: 0.4130\n",
      "Profitability score: 0.1485\n",
      "\n",
      "Hierarchical with 7 clusters:\n",
      "Silhouette score: 0.4199\n",
      "Profitability score: 0.1357\n",
      "\n",
      "Hierarchical with 8 clusters:\n",
      "Silhouette score: 0.4598\n",
      "Profitability score: 0.1257\n",
      "\n",
      "Hierarchical with 9 clusters:\n",
      "Silhouette score: 0.4600\n",
      "Profitability score: 0.1956\n",
      "\n",
      "Hierarchical with 10 clusters:\n",
      "Silhouette score: 0.4580\n",
      "Profitability score: 0.1852\n",
      "\n"
     ]
    }
   ],
   "source": [
    "# Define a range for n_clusters\n",
    "n_clusters_options = [2, 3, 4, 5, 6, 7, 8, 9, 10]\n",
    "\n",
    "# Define your models\n",
    "clustering_models = [\n",
    "    ('KMeans', KMeans()),\n",
    "    ('Birch', Birch()),\n",
    "    ('Hierarchical', AgglomerativeClustering())\n",
    "]\n",
    "\n",
    "results_df = pd.DataFrame(columns=['algo', 'n_clusters', 'score', 'profit'])\n",
    "\n",
    "# Loop over the models\n",
    "for model_name, model in clustering_models:\n",
    "    # Loop over the n_clusters options\n",
    "    for n_clusters in n_clusters_options:\n",
    "        # Set the number of clusters and fit the model\n",
    "        model.set_params(n_clusters=n_clusters)\n",
    "        labels = model.fit_predict(X_train_scaled)\n",
    "\n",
    "        # Evaluate using the silhouette score\n",
    "        score = silhouette_score(X_train_scaled, labels)\n",
    "        # Compute profitability score\n",
    "        profit = cluster_profitability(model, y_train, 'surge_targets_met_pct')\n",
    "\n",
    "        # Store the best parameters, model, and score\n",
    "        print(f'{model_name} with {n_clusters} clusters:')\n",
    "        print(f'Silhouette score: {score:.4f}')\n",
    "        print(f'Profitability score: {profit:.4f}\\n')\n",
    "\n",
    "        \n",
    "        results_df = results_df.append({\n",
    "            'algo': model_name, \n",
    "            'n_clusters': n_clusters, \n",
    "            'score': score,\n",
    "            'profit': profit\n",
    "        }, ignore_index=True)\n",
    "        \n",
    " "
   ]
  },
  {
   "cell_type": "code",
   "execution_count": 19,
   "id": "functioning-cyprus",
   "metadata": {},
   "outputs": [],
   "source": [
    "clustering_models = [\n",
    "    ('Meanshift',  MeanShift( bandwidth=None, seeds=None, bin_seeding=False, min_bin_freq=1, cluster_all=True, n_jobs=None, max_iter=300)),\n",
    "    ('AffinityPropagation', AffinityPropagation( damping=0.5, max_iter=200, convergence_iter=15, copy=True, preference=None, affinity='euclidean', verbose=False, random_state=42)),\n",
    "    ('DBSCAN', DBSCAN(eps=0.5, min_samples=5, metric='euclidean', metric_params=None, algorithm='auto', leaf_size=30, p=None, n_jobs=None)),\n",
    "    ('OPTICS', OPTICS( min_samples=5, max_eps=3, metric='minkowski', p=2, metric_params=None, cluster_method='xi', eps=None, xi=0.05, predecessor_correction=True, min_cluster_size=None, algorithm='auto', leaf_size=30, n_jobs=None))]"
   ]
  },
  {
   "cell_type": "code",
   "execution_count": 24,
   "id": "06622dc5-9e4d-4430-8fbe-15cfc8986f24",
   "metadata": {},
   "outputs": [
    {
     "name": "stdout",
     "output_type": "stream",
     "text": [
      "Meanshift with 175 clusters:\n",
      "Silhouette score: 0.4776\n",
      "Profitability score: 0.4228\n",
      "\n",
      "AffinityPropagation with 1 clusters:\n",
      "DBSCAN with 10 clusters:\n",
      "Silhouette score: 0.4413\n",
      "Profitability score: 0.0989\n",
      "\n",
      "OPTICS with 114 clusters:\n",
      "Silhouette score: -0.5760\n",
      "Profitability score: 0.1114\n",
      "\n"
     ]
    }
   ],
   "source": [
    "\n",
    "# Loop over the models\n",
    "for model_name, model in clustering_models:\n",
    "\n",
    "    labels = model.fit_predict(X_train_scaled)\n",
    "    n_clusters = len(set(labels))\n",
    "    # Evaluate using the silhouette score\n",
    "    if n_clusters > 1:\n",
    "        # Evaluate using the silhouette score\n",
    "        score = silhouette_score(X_train_scaled, labels)\n",
    "        profit = cluster_profitability(model, y_train, 'surge_targets_met_pct')\n",
    "    else:\n",
    "        score = None  # or another indicator value, or you might log/print a message and continue\n",
    "    # Compute profitability score\n",
    "        profit =  None \n",
    "    # Store the best parameters, model, and score\n",
    "    print(f'{model_name} with {n_clusters} clusters:')\n",
    "    if n_clusters > 1:\n",
    "        print(f'Silhouette score: {score:.4f}')\n",
    "        print(f'Profitability score: {profit:.4f}\\n')\n",
    "\n",
    "\n",
    "    results_df = results_df.append({\n",
    "        'algo': model_name, \n",
    "        'n_clusters': n_clusters, \n",
    "        'score': score,\n",
    "        'profit': profit\n",
    "    }, ignore_index=True)\n",
    "        \n",
    " "
   ]
  },
  {
   "cell_type": "code",
   "execution_count": null,
   "id": "coupled-palace",
   "metadata": {},
   "outputs": [],
   "source": [
    "sorted_df = results_df.sort_values(by='profit', ascending=False)\n",
    "sorted_df"
   ]
  },
  {
   "cell_type": "code",
   "execution_count": 26,
   "id": "talented-convert",
   "metadata": {},
   "outputs": [],
   "source": [
    "clf = MeanShift()\n",
    "labels = clf.fit_predict(X_train_scaled)\n"
   ]
  },
  {
   "cell_type": "code",
   "execution_count": 28,
   "id": "maritime-syria",
   "metadata": {},
   "outputs": [
    {
     "data": {
      "text/plain": [
       "175"
      ]
     },
     "execution_count": 28,
     "metadata": {},
     "output_type": "execute_result"
    }
   ],
   "source": [
    "len(set(labels)) - (1 if -1 in labels else 0)"
   ]
  },
  {
   "cell_type": "code",
   "execution_count": 34,
   "id": "reduced-excess",
   "metadata": {},
   "outputs": [],
   "source": [
    "df = pd.concat([y_train.reset_index(drop=True), pd.Series(labels, name='Cluster_Label')], axis=1)\n",
    "cluster_means = df.groupby('Cluster_Label')['surge_targets_met_pct'].mean()\n",
    "    \n",
    "# Custom scoring logic here. \n",
    "score = cluster_means.std()  # Standard deviation between cluster means\n",
    "    "
   ]
  },
  {
   "cell_type": "code",
   "execution_count": null,
   "id": "typical-appendix",
   "metadata": {},
   "outputs": [],
   "source": [
    "df[df['Cluster_Label'] == 5]['label'].value_counts()"
   ]
  },
  {
   "cell_type": "code",
   "execution_count": null,
   "id": "adequate-projection",
   "metadata": {},
   "outputs": [],
   "source": [
    "# chose model to precede with and use the cluster labels as output into csv."
   ]
  },
  {
   "cell_type": "code",
   "execution_count": 25,
   "id": "emotional-stone",
   "metadata": {},
   "outputs": [
    {
     "data": {
      "text/html": [
       "<div>\n",
       "<style scoped>\n",
       "    .dataframe tbody tr th:only-of-type {\n",
       "        vertical-align: middle;\n",
       "    }\n",
       "\n",
       "    .dataframe tbody tr th {\n",
       "        vertical-align: top;\n",
       "    }\n",
       "\n",
       "    .dataframe thead th {\n",
       "        text-align: right;\n",
       "    }\n",
       "</style>\n",
       "<table border=\"1\" class=\"dataframe\">\n",
       "  <thead>\n",
       "    <tr style=\"text-align: right;\">\n",
       "      <th></th>\n",
       "      <th>algo</th>\n",
       "      <th>n_clusters</th>\n",
       "      <th>score</th>\n",
       "      <th>profit</th>\n",
       "    </tr>\n",
       "  </thead>\n",
       "  <tbody>\n",
       "    <tr>\n",
       "      <th>0</th>\n",
       "      <td>KMeans</td>\n",
       "      <td>2</td>\n",
       "      <td>0.888867</td>\n",
       "      <td>0.034577</td>\n",
       "    </tr>\n",
       "    <tr>\n",
       "      <th>1</th>\n",
       "      <td>KMeans</td>\n",
       "      <td>3</td>\n",
       "      <td>0.813886</td>\n",
       "      <td>0.026552</td>\n",
       "    </tr>\n",
       "    <tr>\n",
       "      <th>2</th>\n",
       "      <td>KMeans</td>\n",
       "      <td>4</td>\n",
       "      <td>0.814661</td>\n",
       "      <td>0.266194</td>\n",
       "    </tr>\n",
       "    <tr>\n",
       "      <th>3</th>\n",
       "      <td>KMeans</td>\n",
       "      <td>5</td>\n",
       "      <td>0.52874</td>\n",
       "      <td>0.234877</td>\n",
       "    </tr>\n",
       "    <tr>\n",
       "      <th>4</th>\n",
       "      <td>KMeans</td>\n",
       "      <td>6</td>\n",
       "      <td>0.53312</td>\n",
       "      <td>0.135072</td>\n",
       "    </tr>\n",
       "    <tr>\n",
       "      <th>5</th>\n",
       "      <td>KMeans</td>\n",
       "      <td>7</td>\n",
       "      <td>0.554199</td>\n",
       "      <td>0.116948</td>\n",
       "    </tr>\n",
       "    <tr>\n",
       "      <th>6</th>\n",
       "      <td>KMeans</td>\n",
       "      <td>8</td>\n",
       "      <td>0.56565</td>\n",
       "      <td>0.115286</td>\n",
       "    </tr>\n",
       "    <tr>\n",
       "      <th>7</th>\n",
       "      <td>KMeans</td>\n",
       "      <td>9</td>\n",
       "      <td>0.555856</td>\n",
       "      <td>0.199497</td>\n",
       "    </tr>\n",
       "    <tr>\n",
       "      <th>8</th>\n",
       "      <td>KMeans</td>\n",
       "      <td>10</td>\n",
       "      <td>0.45228</td>\n",
       "      <td>0.188639</td>\n",
       "    </tr>\n",
       "    <tr>\n",
       "      <th>9</th>\n",
       "      <td>Birch</td>\n",
       "      <td>2</td>\n",
       "      <td>0.869585</td>\n",
       "      <td>0.008961</td>\n",
       "    </tr>\n",
       "    <tr>\n",
       "      <th>10</th>\n",
       "      <td>Birch</td>\n",
       "      <td>3</td>\n",
       "      <td>0.850691</td>\n",
       "      <td>0.152463</td>\n",
       "    </tr>\n",
       "    <tr>\n",
       "      <th>11</th>\n",
       "      <td>Birch</td>\n",
       "      <td>4</td>\n",
       "      <td>0.758282</td>\n",
       "      <td>0.131287</td>\n",
       "    </tr>\n",
       "    <tr>\n",
       "      <th>12</th>\n",
       "      <td>Birch</td>\n",
       "      <td>5</td>\n",
       "      <td>0.765198</td>\n",
       "      <td>0.123945</td>\n",
       "    </tr>\n",
       "    <tr>\n",
       "      <th>13</th>\n",
       "      <td>Birch</td>\n",
       "      <td>6</td>\n",
       "      <td>0.739571</td>\n",
       "      <td>0.14581</td>\n",
       "    </tr>\n",
       "    <tr>\n",
       "      <th>14</th>\n",
       "      <td>Birch</td>\n",
       "      <td>7</td>\n",
       "      <td>0.73976</td>\n",
       "      <td>0.217987</td>\n",
       "    </tr>\n",
       "    <tr>\n",
       "      <th>15</th>\n",
       "      <td>Birch</td>\n",
       "      <td>8</td>\n",
       "      <td>0.562683</td>\n",
       "      <td>0.20353</td>\n",
       "    </tr>\n",
       "    <tr>\n",
       "      <th>16</th>\n",
       "      <td>Birch</td>\n",
       "      <td>9</td>\n",
       "      <td>0.563139</td>\n",
       "      <td>0.207827</td>\n",
       "    </tr>\n",
       "    <tr>\n",
       "      <th>17</th>\n",
       "      <td>Birch</td>\n",
       "      <td>10</td>\n",
       "      <td>0.563539</td>\n",
       "      <td>0.201124</td>\n",
       "    </tr>\n",
       "    <tr>\n",
       "      <th>18</th>\n",
       "      <td>Hierarchical</td>\n",
       "      <td>2</td>\n",
       "      <td>0.869585</td>\n",
       "      <td>0.008961</td>\n",
       "    </tr>\n",
       "    <tr>\n",
       "      <th>19</th>\n",
       "      <td>Hierarchical</td>\n",
       "      <td>3</td>\n",
       "      <td>0.850691</td>\n",
       "      <td>0.152463</td>\n",
       "    </tr>\n",
       "    <tr>\n",
       "      <th>20</th>\n",
       "      <td>Hierarchical</td>\n",
       "      <td>4</td>\n",
       "      <td>0.403612</td>\n",
       "      <td>0.132611</td>\n",
       "    </tr>\n",
       "    <tr>\n",
       "      <th>21</th>\n",
       "      <td>Hierarchical</td>\n",
       "      <td>5</td>\n",
       "      <td>0.410249</td>\n",
       "      <td>0.141597</td>\n",
       "    </tr>\n",
       "    <tr>\n",
       "      <th>22</th>\n",
       "      <td>Hierarchical</td>\n",
       "      <td>6</td>\n",
       "      <td>0.412957</td>\n",
       "      <td>0.148542</td>\n",
       "    </tr>\n",
       "    <tr>\n",
       "      <th>23</th>\n",
       "      <td>Hierarchical</td>\n",
       "      <td>7</td>\n",
       "      <td>0.419866</td>\n",
       "      <td>0.135667</td>\n",
       "    </tr>\n",
       "    <tr>\n",
       "      <th>24</th>\n",
       "      <td>Hierarchical</td>\n",
       "      <td>8</td>\n",
       "      <td>0.45984</td>\n",
       "      <td>0.125746</td>\n",
       "    </tr>\n",
       "    <tr>\n",
       "      <th>25</th>\n",
       "      <td>Hierarchical</td>\n",
       "      <td>9</td>\n",
       "      <td>0.460035</td>\n",
       "      <td>0.19559</td>\n",
       "    </tr>\n",
       "    <tr>\n",
       "      <th>26</th>\n",
       "      <td>Hierarchical</td>\n",
       "      <td>10</td>\n",
       "      <td>0.457981</td>\n",
       "      <td>0.185215</td>\n",
       "    </tr>\n",
       "    <tr>\n",
       "      <th>27</th>\n",
       "      <td>Meanshift</td>\n",
       "      <td>10</td>\n",
       "      <td>0.477647</td>\n",
       "      <td>0.422803</td>\n",
       "    </tr>\n",
       "    <tr>\n",
       "      <th>28</th>\n",
       "      <td>Meanshift</td>\n",
       "      <td>175</td>\n",
       "      <td>0.477647</td>\n",
       "      <td>0.422803</td>\n",
       "    </tr>\n",
       "    <tr>\n",
       "      <th>29</th>\n",
       "      <td>AffinityPropagation</td>\n",
       "      <td>1</td>\n",
       "      <td>None</td>\n",
       "      <td>None</td>\n",
       "    </tr>\n",
       "    <tr>\n",
       "      <th>30</th>\n",
       "      <td>DBSCAN</td>\n",
       "      <td>10</td>\n",
       "      <td>0.441303</td>\n",
       "      <td>0.098936</td>\n",
       "    </tr>\n",
       "    <tr>\n",
       "      <th>31</th>\n",
       "      <td>OPTICS</td>\n",
       "      <td>114</td>\n",
       "      <td>-0.576019</td>\n",
       "      <td>0.111393</td>\n",
       "    </tr>\n",
       "    <tr>\n",
       "      <th>32</th>\n",
       "      <td>Meanshift</td>\n",
       "      <td>175</td>\n",
       "      <td>0.477647</td>\n",
       "      <td>0.422803</td>\n",
       "    </tr>\n",
       "    <tr>\n",
       "      <th>33</th>\n",
       "      <td>AffinityPropagation</td>\n",
       "      <td>1</td>\n",
       "      <td>None</td>\n",
       "      <td>None</td>\n",
       "    </tr>\n",
       "    <tr>\n",
       "      <th>34</th>\n",
       "      <td>DBSCAN</td>\n",
       "      <td>10</td>\n",
       "      <td>0.441303</td>\n",
       "      <td>0.098936</td>\n",
       "    </tr>\n",
       "    <tr>\n",
       "      <th>35</th>\n",
       "      <td>OPTICS</td>\n",
       "      <td>114</td>\n",
       "      <td>-0.576019</td>\n",
       "      <td>0.111393</td>\n",
       "    </tr>\n",
       "  </tbody>\n",
       "</table>\n",
       "</div>"
      ],
      "text/plain": [
       "                   algo n_clusters     score    profit\n",
       "0                KMeans          2  0.888867  0.034577\n",
       "1                KMeans          3  0.813886  0.026552\n",
       "2                KMeans          4  0.814661  0.266194\n",
       "3                KMeans          5   0.52874  0.234877\n",
       "4                KMeans          6   0.53312  0.135072\n",
       "5                KMeans          7  0.554199  0.116948\n",
       "6                KMeans          8   0.56565  0.115286\n",
       "7                KMeans          9  0.555856  0.199497\n",
       "8                KMeans         10   0.45228  0.188639\n",
       "9                 Birch          2  0.869585  0.008961\n",
       "10                Birch          3  0.850691  0.152463\n",
       "11                Birch          4  0.758282  0.131287\n",
       "12                Birch          5  0.765198  0.123945\n",
       "13                Birch          6  0.739571   0.14581\n",
       "14                Birch          7   0.73976  0.217987\n",
       "15                Birch          8  0.562683   0.20353\n",
       "16                Birch          9  0.563139  0.207827\n",
       "17                Birch         10  0.563539  0.201124\n",
       "18         Hierarchical          2  0.869585  0.008961\n",
       "19         Hierarchical          3  0.850691  0.152463\n",
       "20         Hierarchical          4  0.403612  0.132611\n",
       "21         Hierarchical          5  0.410249  0.141597\n",
       "22         Hierarchical          6  0.412957  0.148542\n",
       "23         Hierarchical          7  0.419866  0.135667\n",
       "24         Hierarchical          8   0.45984  0.125746\n",
       "25         Hierarchical          9  0.460035   0.19559\n",
       "26         Hierarchical         10  0.457981  0.185215\n",
       "27            Meanshift         10  0.477647  0.422803\n",
       "28            Meanshift        175  0.477647  0.422803\n",
       "29  AffinityPropagation          1      None      None\n",
       "30               DBSCAN         10  0.441303  0.098936\n",
       "31               OPTICS        114 -0.576019  0.111393\n",
       "32            Meanshift        175  0.477647  0.422803\n",
       "33  AffinityPropagation          1      None      None\n",
       "34               DBSCAN         10  0.441303  0.098936\n",
       "35               OPTICS        114 -0.576019  0.111393"
      ]
     },
     "execution_count": 25,
     "metadata": {},
     "output_type": "execute_result"
    }
   ],
   "source": [
    "results_df"
   ]
  },
  {
   "cell_type": "code",
   "execution_count": 226,
   "id": "preliminary-concert",
   "metadata": {},
   "outputs": [
    {
     "data": {
      "text/plain": [
       "GridSearchCV(estimator=KMeans(random_state=42),\n",
       "             param_grid={'algorithm': ['auto', 'elkan'],\n",
       "                         'init': ['k-means++', 'random'],\n",
       "                         'max_iter': [200, 300, 400],\n",
       "                         'n_clusters': [2, 3, 4, 5, 6, 7, 8, 9, 10, 11, 12],\n",
       "                         'n_init': [10, 15, 20]},\n",
       "             scoring=<function cluster_profitability_scorer at 0x7f2dbc2103b0>)"
      ]
     },
     "execution_count": 226,
     "metadata": {},
     "output_type": "execute_result"
    }
   ],
   "source": [
    "from sklearn.metrics import make_scorer\n",
    "from functools import partial\n",
    "model = KMeans(random_state=42)\n",
    "\n",
    "def cluster_profitability_scorer(estimator, X):\n",
    "    labels = estimator.labels_\n",
    "    df = pd.concat([y_train.reset_index(drop=True), pd.Series(labels, name='Cluster_Label')], axis=1)\n",
    "    cluster_means = df.groupby('Cluster_Label')['surge_targets_met_pct'].mean()\n",
    "    score = cluster_means.std()\n",
    "    \n",
    "    return score\n",
    "\n",
    "\n",
    "param_grid = {\n",
    "    'n_clusters': [2, 3, 4, 5, 6, 7, 8, 9, 10,11,12],\n",
    "    'init': ['k-means++', 'random'],\n",
    "    'n_init': [10, 15, 20],\n",
    "    'max_iter': [200, 300, 400],\n",
    "    'algorithm': ['auto', 'elkan']\n",
    "}\n",
    "\n",
    "\n",
    "grid_search = GridSearchCV(\n",
    "    estimator=model,\n",
    "    param_grid=param_grid,\n",
    "    scoring=cluster_profitability_scorer,\n",
    ")\n",
    "\n",
    "# assuming X_train_scaled is your preprocessed data\n",
    "grid_search.fit(X_train_scaled, y=None)\n"
   ]
  },
  {
   "cell_type": "code",
   "execution_count": 227,
   "id": "jewish-approach",
   "metadata": {},
   "outputs": [],
   "source": [
    "kmeans_results = pd.DataFrame(grid_search.cv_results_)"
   ]
  },
  {
   "cell_type": "code",
   "execution_count": 228,
   "id": "qualified-webmaster",
   "metadata": {},
   "outputs": [],
   "source": [
    "params = grid_search.best_params_"
   ]
  },
  {
   "cell_type": "code",
   "execution_count": 244,
   "id": "taken-hepatitis",
   "metadata": {},
   "outputs": [],
   "source": [
    "params['n_clusters'] = 11"
   ]
  },
  {
   "cell_type": "code",
   "execution_count": 245,
   "id": "burning-practitioner",
   "metadata": {},
   "outputs": [],
   "source": [
    "clf = KMeans(**params)\n",
    "labels = clf.fit_predict(X_train_scaled)\n",
    "df = pd.concat([y_train.reset_index(drop=True), pd.Series(labels, name='Cluster_Label')], axis=1)\n",
    "cluster_means = df.groupby('Cluster_Label')['surge_targets_met_pct'].mean()\n",
    "    \n",
    "# Custom scoring logic here. \n",
    "score = cluster_means.std() "
   ]
  },
  {
   "cell_type": "code",
   "execution_count": 246,
   "id": "classical-computer",
   "metadata": {},
   "outputs": [
    {
     "data": {
      "text/plain": [
       "Cluster_Label\n",
       "0     0.007909\n",
       "1     0.195756\n",
       "2    -0.462012\n",
       "3     0.116085\n",
       "4     0.050357\n",
       "5    -0.137443\n",
       "6     0.063179\n",
       "7    -0.099746\n",
       "8     0.156728\n",
       "9     0.050739\n",
       "10    0.018065\n",
       "Name: surge_targets_met_pct, dtype: float64"
      ]
     },
     "execution_count": 246,
     "metadata": {},
     "output_type": "execute_result"
    }
   ],
   "source": [
    "cluster_means"
   ]
  },
  {
   "cell_type": "code",
   "execution_count": 243,
   "id": "pretty-metro",
   "metadata": {},
   "outputs": [
    {
     "name": "stdout",
     "output_type": "stream",
     "text": [
      "Counter({0: 3645, 2: 672, 6: 151, 5: 70, 3: 24, 1: 18, 7: 3, 4: 1})\n"
     ]
    }
   ],
   "source": [
    "from collections import Counter\n",
    "counts = Counter(list(labels))\n",
    "\n",
    "print(counts)"
   ]
  },
  {
   "cell_type": "code",
   "execution_count": 233,
   "id": "sealed-leisure",
   "metadata": {},
   "outputs": [
    {
     "data": {
      "text/plain": [
       "<AxesSubplot:xlabel='Cluster', ylabel='surge_targets_met_pct'>"
      ]
     },
     "execution_count": 233,
     "metadata": {},
     "output_type": "execute_result"
    },
    {
     "data": {
      "image/png": "[encoded data removed]",
      "text/plain": [
       "<Figure size 432x288 with 1 Axes>"
      ]
     },
     "metadata": {
      "needs_background": "light"
     },
     "output_type": "display_data"
    }
   ],
   "source": [
    "test_labels = clf.predict(X_test_scaled)\n",
    "import seaborn as sns\n",
    "\n",
    "clustered_data = pd.concat([y_test, pd.Series(test_labels, name='Cluster')], axis=1)\n",
    "sns.boxplot(x='Cluster', y='surge_targets_met_pct', data=clustered_data)\n"
   ]
  },
  {
   "cell_type": "code",
   "execution_count": 234,
   "id": "caring-buying",
   "metadata": {},
   "outputs": [],
   "source": [
    "# Best params and respective scores\n",
    "best_params = grid_search.best_params_\n",
    "best_score_silhouette = grid_search.best_score_\n",
    "big_dict = grid_search.cv_results_"
   ]
  },
  {
   "cell_type": "markdown",
   "id": "previous-olive",
   "metadata": {},
   "source": [
    "## Adding Cluster Label to csv export for classification"
   ]
  },
  {
   "cell_type": "code",
   "execution_count": 239,
   "id": "abstract-housing",
   "metadata": {},
   "outputs": [],
   "source": [
    "scaler_full = StandardScaler()\n",
    "X_scaled = scaler_full.fit_transform(X)\n",
    "clf = KMeans(**params)\n",
    "labels = clf.fit_predict(X_scaled)\n",
    "binned_clustered_m2_pipeline = pd.concat([m2_pipeline, pd.Series(labels, name= \"Cluster\")], axis = 1)\n",
    "binned_clustered_m2_pipeline.to_csv('binned_clustered_pipeline.csv')"
   ]
  },
  {
   "cell_type": "code",
   "execution_count": 148,
   "id": "operating-robinson",
   "metadata": {},
   "outputs": [
    {
     "data": {
      "text/plain": [
       "GridSearchCV(estimator=MeanShift(),\n",
       "             param_grid={'bandwidth': [0.5, 1, 1.5, 2, 3],\n",
       "                         'bin_seeding': [True, False],\n",
       "                         'cluster_all': [True, False],\n",
       "                         'min_bin_freq': [1, 5, 10]},\n",
       "             scoring=<function cluster_profitability_scorer at 0x7f2dbc867950>)"
      ]
     },
     "execution_count": 148,
     "metadata": {},
     "output_type": "execute_result"
    }
   ],
   "source": [
    "from sklearn.metrics import make_scorer\n",
    "from functools import partial\n",
    "model = MeanShift()\n",
    "\n",
    "def cluster_profitability_scorer(estimator, X):\n",
    "    labels = estimator.labels_\n",
    "    df = pd.concat([y_train.reset_index(drop=True), pd.Series(labels, name='Cluster_Label')], axis=1)\n",
    "    cluster_means = df.groupby('Cluster_Label')['surge_targets_met_pct'].mean()\n",
    "    score = cluster_means.std()\n",
    "    \n",
    "    return score\n",
    "\n",
    "\n",
    "param_grid = {\n",
    "    'bandwidth': [0.5, 1, 1.5, 2, 3],\n",
    "    'bin_seeding': [True, False],\n",
    "    'cluster_all': [True, False],\n",
    "    'min_bin_freq': [1, 5, 10],\n",
    "}\n",
    "\n",
    "\n",
    "grid_search = GridSearchCV(\n",
    "    estimator=model,\n",
    "    param_grid=param_grid,\n",
    "    scoring=cluster_profitability_scorer,\n",
    ")\n",
    "\n",
    "# assuming X_train_scaled is your preprocessed data\n",
    "grid_search.fit(X_train_scaled, y=None)\n"
   ]
  },
  {
   "cell_type": "code",
   "execution_count": 222,
   "id": "indonesian-conservation",
   "metadata": {},
   "outputs": [],
   "source": [
    "params = grid_search.best_params_\n",
    "params['bandwidth'] = 5\n",
    "clf = MeanShift(**params)\n",
    "labels = clf.fit_predict(X_train_scaled)\n",
    "df = pd.concat([y_train.reset_index(drop=True), pd.Series(labels, name='Cluster_Label')], axis=1)\n",
    "cluster_means = df.groupby('Cluster_Label')['surge_targets_met_pct'].mean()\n",
    "    \n",
    "# Custom scoring logic here. \n",
    "score = cluster_means.std() \n",
    "\n",
    "n_clusters = len(set(labels)) - (1 if -1 in labels else 0)"
   ]
  },
  {
   "cell_type": "code",
   "execution_count": 223,
   "id": "micro-tuning",
   "metadata": {},
   "outputs": [
    {
     "data": {
      "text/plain": [
       "Cluster_Label\n",
       "-1     0.078878\n",
       " 0     0.019039\n",
       " 1     0.068404\n",
       " 2     0.133905\n",
       " 3     0.191344\n",
       " 4    -0.181473\n",
       " 5    -0.072291\n",
       " 6     0.904324\n",
       " 7    -0.406504\n",
       " 8    -0.295334\n",
       " 9    -0.284738\n",
       " 10    0.100301\n",
       " 11    0.000000\n",
       " 12    0.458015\n",
       " 13    0.146951\n",
       " 14   -0.063939\n",
       " 15   -0.063654\n",
       " 16   -0.462012\n",
       " 17    0.055432\n",
       " 18   -0.351124\n",
       "Name: surge_targets_met_pct, dtype: float64"
      ]
     },
     "execution_count": 223,
     "metadata": {},
     "output_type": "execute_result"
    }
   ],
   "source": [
    "cluster_means"
   ]
  },
  {
   "cell_type": "code",
   "execution_count": 224,
   "id": "appreciated-inspiration",
   "metadata": {},
   "outputs": [
    {
     "data": {
      "text/plain": [
       "<AxesSubplot:xlabel='Cluster', ylabel='surge_targets_met_pct'>"
      ]
     },
     "execution_count": 224,
     "metadata": {},
     "output_type": "execute_result"
    },
    {
     "data": {
      "image/png": "[encoded data removed]",
      "text/plain": [
       "<Figure size 432x288 with 1 Axes>"
      ]
     },
     "metadata": {
      "needs_background": "light"
     },
     "output_type": "display_data"
    }
   ],
   "source": [
    "test_labels = clf.predict(X_test_scaled)\n",
    "import seaborn as sns\n",
    "\n",
    "clustered_data = pd.concat([y_test, pd.Series(test_labels, name='Cluster')], axis=1)\n",
    "sns.boxplot(x='Cluster', y='surge_targets_met_pct', data=clustered_data)\n"
   ]
  },
  {
   "cell_type": "code",
   "execution_count": 225,
   "id": "matched-series",
   "metadata": {},
   "outputs": [
    {
     "name": "stdout",
     "output_type": "stream",
     "text": [
      "Counter({0: 4401, -1: 139, 1: 15, 2: 8, 3: 3, 6: 2, 5: 2, 4: 2, 17: 1, 9: 1, 18: 1, 8: 1, 7: 1, 10: 1, 13: 1, 15: 1, 14: 1, 16: 1, 12: 1, 11: 1})\n"
     ]
    }
   ],
   "source": [
    "from collections import Counter\n",
    "counts = Counter(list(labels))\n",
    "\n",
    "print(counts)"
   ]
  },
  {
   "cell_type": "markdown",
   "id": "geological-traveler",
   "metadata": {},
   "source": [
    "While meanshift does a good job at getting a good score when you look into the amount of clusters and the cluster densities it is not representative of the population labels. Not a good fit for model input. "
   ]
  },
  {
   "cell_type": "markdown",
   "id": "curious-cocktail",
   "metadata": {},
   "source": [
    "#### BELOW THIS LINE DEPPRECIATED FOR NOW"
   ]
  },
  {
   "cell_type": "markdown",
   "id": "d09f98f9-92de-453e-bf8d-72961c698a2d",
   "metadata": {},
   "source": [
    "## explore top results by cluster quality scoring\n",
    "\n",
    "use silhouette viz\n",
    "\n",
    "then davies\n",
    "\n",
    "then kolmogorov"
   ]
  },
  {
   "cell_type": "code",
   "execution_count": null,
   "id": "bd096ad6-dba8-4226-be34-4002f520c6f3",
   "metadata": {},
   "outputs": [],
   "source": [
    "#charting silhouettes\n",
    "import matplotlib.pyplot as plt\n",
    "import numpy as np\n",
    "from sklearn.metrics import silhouette_samples, silhouette_score\n",
    "\n",
    "# Calculate the silhouette scores for each sample\n",
    "silhouette_values = silhouette_samples(X, labels)\n",
    "\n",
    "# Calculate the average silhouette score\n",
    "average_score = silhouette_score(X, labels)\n",
    "\n",
    "# Plot the silhouette chart\n",
    "fig, ax = plt.subplots()\n",
    "y_lower = 10\n",
    "\n",
    "for i in range(n_clusters):\n",
    "    # Aggregate the silhouette scores for samples in cluster i and sort them\n",
    "    ith_cluster_silhouette_values = silhouette_values[labels == i]\n",
    "    ith_cluster_silhouette_values.sort()\n",
    "\n",
    "    size_cluster_i = ith_cluster_silhouette_values.shape[0]\n",
    "    y_upper = y_lower + size_cluster_i\n",
    "\n",
    "    # Fill the silhouette chart with the corresponding color\n",
    "    color = cm.nipy_spectral(float(i) / n_clusters)\n",
    "    ax.fill_betweenx(np.arange(y_lower, y_upper), 0, ith_cluster_silhouette_values, facecolor=color, edgecolor=color, alpha=0.7)\n",
    "\n",
    "    # Label each cluster with its silhouette score\n",
    "    ax.text(-0.05, y_lower + 0.5 * size_cluster_i, str(i))\n",
    "    \n",
    "    # Compute the new y_lower for next plot\n",
    "    y_lower = y_upper + 10\n",
    "\n",
    "ax.set_xlabel(\"Silhouette coefficient values\")\n",
    "ax.set_ylabel(\"Cluster label\")\n",
    "\n",
    "# The vertical line indicates the average silhouette score\n",
    "ax.axvline(x=average_score, color=\"red\", linestyle=\"--\")\n",
    "\n",
    "plt.show()\n"
   ]
  },
  {
   "cell_type": "markdown",
   "id": "938c7312-02c2-4b6b-af2f-9f044b677acb",
   "metadata": {},
   "source": [
    "## top method hyperparameter optimization\n",
    "take the top technique by silhouette then dive into a fuller exploration of its specific hyperparameters"
   ]
  }
 ],
 "metadata": {
  "kernelspec": {
   "display_name": "Python 3",
   "language": "python",
   "name": "python3"
  },
  "language_info": {
   "codemirror_mode": {
    "name": "ipython",
    "version": 3
   },
   "file_extension": ".py",
   "mimetype": "text/x-python",
   "name": "python",
   "nbconvert_exporter": "python",
   "pygments_lexer": "ipython3",
   "version": "3.7.10"
  }
 },
 "nbformat": 4,
 "nbformat_minor": 5
}
