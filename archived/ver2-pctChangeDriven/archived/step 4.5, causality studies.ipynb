{
 "cells": [
  {
   "cell_type": "markdown",
   "id": "a12d991d-866c-4dce-9356-b4bdf6a88211",
   "metadata": {},
   "source": [
    "## Key Causal Signals Appear in Clusters 2 and 3"
   ]
  },
  {
   "cell_type": "markdown",
   "id": "60aae7ca-6e3b-43c3-bfdb-00fe1466f58c",
   "metadata": {},
   "source": [
    "each row represents the caused variable and each column represents the causing variable\n",
    "\n",
    "This function should return a pd.DataFrame of the shape (5, 5), representing the  𝑝\n",
    " -value matrix for all pairwise Granger Causality tests.\n",
    "\n",
    " "
   ]
  },
  {
   "cell_type": "code",
   "execution_count": 3,
   "id": "81bf2f64-58a8-4bc3-8bdf-f16d54f6679c",
   "metadata": {},
   "outputs": [
    {
     "data": {
      "text/html": [
       "<div>\n",
       "<style scoped>\n",
       "    .dataframe tbody tr th:only-of-type {\n",
       "        vertical-align: middle;\n",
       "    }\n",
       "\n",
       "    .dataframe tbody tr th {\n",
       "        vertical-align: top;\n",
       "    }\n",
       "\n",
       "    .dataframe thead th {\n",
       "        text-align: right;\n",
       "    }\n",
       "</style>\n",
       "<table border=\"1\" class=\"dataframe\">\n",
       "  <thead>\n",
       "    <tr style=\"text-align: right;\">\n",
       "      <th></th>\n",
       "      <th>Unnamed: 0.1</th>\n",
       "      <th>Unnamed: 0</th>\n",
       "      <th>group</th>\n",
       "      <th>time</th>\n",
       "      <th>s_MP</th>\n",
       "      <th>change</th>\n",
       "      <th>type</th>\n",
       "      <th>length</th>\n",
       "      <th>sum_change</th>\n",
       "      <th>area</th>\n",
       "      <th>...</th>\n",
       "      <th>p_MP</th>\n",
       "      <th>precursor_buy_cap_pct_change</th>\n",
       "      <th>precursor_ask_cap_pct_change</th>\n",
       "      <th>p_totalBidVol</th>\n",
       "      <th>p_totalAskVol</th>\n",
       "      <th>length.1</th>\n",
       "      <th>sum_change.1</th>\n",
       "      <th>area.1</th>\n",
       "      <th>Cluster</th>\n",
       "      <th>efficiency</th>\n",
       "    </tr>\n",
       "  </thead>\n",
       "  <tbody>\n",
       "    <tr>\n",
       "      <th>0</th>\n",
       "      <td>0</td>\n",
       "      <td>0</td>\n",
       "      <td>1</td>\n",
       "      <td>1.660222e+12</td>\n",
       "      <td>30.00</td>\n",
       "      <td>0.505364</td>\n",
       "      <td>surge</td>\n",
       "      <td>1</td>\n",
       "      <td>0.505364</td>\n",
       "      <td>0.505364</td>\n",
       "      <td>...</td>\n",
       "      <td>29.98</td>\n",
       "      <td>-0.000618</td>\n",
       "      <td>-0.000017</td>\n",
       "      <td>-0.000210</td>\n",
       "      <td>-0.002384</td>\n",
       "      <td>6.0</td>\n",
       "      <td>-5.009518e-03</td>\n",
       "      <td>-0.030057</td>\n",
       "      <td>Cluster 2</td>\n",
       "      <td>3.10%</td>\n",
       "    </tr>\n",
       "    <tr>\n",
       "      <th>1</th>\n",
       "      <td>1</td>\n",
       "      <td>1</td>\n",
       "      <td>3</td>\n",
       "      <td>1.660222e+12</td>\n",
       "      <td>29.86</td>\n",
       "      <td>0.000670</td>\n",
       "      <td>surge</td>\n",
       "      <td>1</td>\n",
       "      <td>0.000670</td>\n",
       "      <td>0.000670</td>\n",
       "      <td>...</td>\n",
       "      <td>29.89</td>\n",
       "      <td>-0.002358</td>\n",
       "      <td>-0.000002</td>\n",
       "      <td>-0.000818</td>\n",
       "      <td>-0.000333</td>\n",
       "      <td>1.0</td>\n",
       "      <td>1.345640e-04</td>\n",
       "      <td>0.000135</td>\n",
       "      <td>Cluster 2</td>\n",
       "      <td>3.10%</td>\n",
       "    </tr>\n",
       "    <tr>\n",
       "      <th>2</th>\n",
       "      <td>2</td>\n",
       "      <td>2</td>\n",
       "      <td>5</td>\n",
       "      <td>1.660222e+12</td>\n",
       "      <td>29.88</td>\n",
       "      <td>0.001273</td>\n",
       "      <td>surge</td>\n",
       "      <td>2</td>\n",
       "      <td>0.001808</td>\n",
       "      <td>0.003615</td>\n",
       "      <td>...</td>\n",
       "      <td>29.94</td>\n",
       "      <td>0.004750</td>\n",
       "      <td>-0.000036</td>\n",
       "      <td>0.001573</td>\n",
       "      <td>-0.004835</td>\n",
       "      <td>3.0</td>\n",
       "      <td>-3.410602e-03</td>\n",
       "      <td>-0.010232</td>\n",
       "      <td>Cluster 2</td>\n",
       "      <td>3.10%</td>\n",
       "    </tr>\n",
       "    <tr>\n",
       "      <th>3</th>\n",
       "      <td>3</td>\n",
       "      <td>3</td>\n",
       "      <td>7</td>\n",
       "      <td>1.660222e+12</td>\n",
       "      <td>29.80</td>\n",
       "      <td>0.000873</td>\n",
       "      <td>surge</td>\n",
       "      <td>2</td>\n",
       "      <td>0.002114</td>\n",
       "      <td>0.004229</td>\n",
       "      <td>...</td>\n",
       "      <td>29.87</td>\n",
       "      <td>-0.000987</td>\n",
       "      <td>0.000002</td>\n",
       "      <td>-0.000398</td>\n",
       "      <td>0.000062</td>\n",
       "      <td>2.0</td>\n",
       "      <td>8.855895e-07</td>\n",
       "      <td>0.000002</td>\n",
       "      <td>Cluster 2</td>\n",
       "      <td>3.10%</td>\n",
       "    </tr>\n",
       "    <tr>\n",
       "      <th>4</th>\n",
       "      <td>4</td>\n",
       "      <td>4</td>\n",
       "      <td>9</td>\n",
       "      <td>1.660223e+12</td>\n",
       "      <td>29.90</td>\n",
       "      <td>0.001305</td>\n",
       "      <td>surge</td>\n",
       "      <td>1</td>\n",
       "      <td>0.001305</td>\n",
       "      <td>0.001305</td>\n",
       "      <td>...</td>\n",
       "      <td>29.95</td>\n",
       "      <td>0.001531</td>\n",
       "      <td>0.000010</td>\n",
       "      <td>0.000334</td>\n",
       "      <td>0.001094</td>\n",
       "      <td>7.0</td>\n",
       "      <td>-1.377036e-02</td>\n",
       "      <td>-0.096393</td>\n",
       "      <td>Cluster 2</td>\n",
       "      <td>3.10%</td>\n",
       "    </tr>\n",
       "  </tbody>\n",
       "</table>\n",
       "<p>5 rows × 25 columns</p>\n",
       "</div>"
      ],
      "text/plain": [
       "   Unnamed: 0.1  Unnamed: 0  group          time   s_MP    change   type  \\\n",
       "0             0           0      1  1.660222e+12  30.00  0.505364  surge   \n",
       "1             1           1      3  1.660222e+12  29.86  0.000670  surge   \n",
       "2             2           2      5  1.660222e+12  29.88  0.001273  surge   \n",
       "3             3           3      7  1.660222e+12  29.80  0.000873  surge   \n",
       "4             4           4      9  1.660223e+12  29.90  0.001305  surge   \n",
       "\n",
       "   length  sum_change      area  ...   p_MP  precursor_buy_cap_pct_change  \\\n",
       "0       1    0.505364  0.505364  ...  29.98                     -0.000618   \n",
       "1       1    0.000670  0.000670  ...  29.89                     -0.002358   \n",
       "2       2    0.001808  0.003615  ...  29.94                      0.004750   \n",
       "3       2    0.002114  0.004229  ...  29.87                     -0.000987   \n",
       "4       1    0.001305  0.001305  ...  29.95                      0.001531   \n",
       "\n",
       "   precursor_ask_cap_pct_change  p_totalBidVol p_totalAskVol  length.1  \\\n",
       "0                     -0.000017      -0.000210     -0.002384       6.0   \n",
       "1                     -0.000002      -0.000818     -0.000333       1.0   \n",
       "2                     -0.000036       0.001573     -0.004835       3.0   \n",
       "3                      0.000002      -0.000398      0.000062       2.0   \n",
       "4                      0.000010       0.000334      0.001094       7.0   \n",
       "\n",
       "   sum_change.1    area.1    Cluster  efficiency  \n",
       "0 -5.009518e-03 -0.030057  Cluster 2       3.10%  \n",
       "1  1.345640e-04  0.000135  Cluster 2       3.10%  \n",
       "2 -3.410602e-03 -0.010232  Cluster 2       3.10%  \n",
       "3  8.855895e-07  0.000002  Cluster 2       3.10%  \n",
       "4 -1.377036e-02 -0.096393  Cluster 2       3.10%  \n",
       "\n",
       "[5 rows x 25 columns]"
      ]
     },
     "execution_count": 3,
     "metadata": {},
     "output_type": "execute_result"
    }
   ],
   "source": [
    "import pycaret\n",
    "from pycaret.clustering import *\n",
    "import pandas as pd\n",
    "import datetime\n",
    "from pycaret.regression import *\n",
    "from pycaret.regression import RegressionExperiment\n",
    "\n",
    "import seaborn as sns\n",
    "\n",
    "#get most recent clustering element, or specify by name\n",
    "fn = 'efficiency_metric/2023-09-02 16:24:56.csv'\n",
    "ec = pd.read_csv(fn)\n",
    "ec.head()"
   ]
  },
  {
   "cell_type": "code",
   "execution_count": 4,
   "id": "6fece984-1c18-49a9-998d-09d61b94a712",
   "metadata": {},
   "outputs": [
    {
     "data": {
      "text/plain": [
       "Index(['Unnamed: 0.1', 'Unnamed: 0', 'group', 'time', 's_MP', 'change', 'type',\n",
       "       'length', 'sum_change', 'area', 'surge_area', 'group.1', 'time.1',\n",
       "       'change.1', 'type.1', 'p_MP', 'precursor_buy_cap_pct_change',\n",
       "       'precursor_ask_cap_pct_change', 'p_totalBidVol', 'p_totalAskVol',\n",
       "       'length.1', 'sum_change.1', 'area.1', 'Cluster', 'efficiency'],\n",
       "      dtype='object')"
      ]
     },
     "execution_count": 4,
     "metadata": {},
     "output_type": "execute_result"
    }
   ],
   "source": [
    "ec.columns"
   ]
  },
  {
   "cell_type": "code",
   "execution_count": 5,
   "id": "ff12cba3-5772-4277-8bf7-e59ca7962edb",
   "metadata": {},
   "outputs": [],
   "source": [
    "from statsmodels.tsa.api import VAR\n",
    "from statsmodels.tsa.vector_ar.var_model import VARResults, VARResultsWrapper\n",
    "\n",
    "def test_granger(df, p):\n",
    "    \"\"\"\n",
    "    Fits a VAR(p) model on the input df and performs pairwise Granger Causality tests\n",
    "    \"\"\"\n",
    "     # Fit VAR model on first-order differences\n",
    "    model = VAR(df.diff().dropna())\n",
    "    results = model.fit(p)\n",
    "    \n",
    "    # Initialize p-value matrix\n",
    "    p_matrix = pd.DataFrame(index=df.columns, columns=df.columns)\n",
    "    \n",
    "    # Perform pairwise Granger Causality tests\n",
    "    for caused in df.columns:\n",
    "        for causing in df.columns:\n",
    "            if caused != causing:\n",
    "                test_result = results.test_causality(caused, causing)\n",
    "                p_value = test_result.pvalue\n",
    "                p_matrix.loc[caused, causing] = p_value\n",
    "    # Ensure all columns have float dtype\n",
    "    p_matrix = p_matrix.astype(float)\n",
    "    return p_matrix\n",
    "\n",
    "# Load data\n",
    "p=7\n",
    "setx=['p_MP', 'p_change', 'p_buyCap', 'p_askCap', 'p_totalBidVol','p_totalAskVol',]"
   ]
  },
  {
   "cell_type": "markdown",
   "id": "f7e8f9eb-29c7-4c3a-a08b-710b5a8ba771",
   "metadata": {},
   "source": [
    "## Cluster 0 GC"
   ]
  },
  {
   "cell_type": "code",
   "execution_count": 6,
   "id": "74c67dde-c68f-4b02-8049-2af928470be4",
   "metadata": {},
   "outputs": [
    {
     "ename": "KeyError",
     "evalue": "\"['p_change', 'p_buyCap', 'p_askCap'] not in index\"",
     "output_type": "error",
     "traceback": [
      "\u001b[0;31m---------------------------------------------------------------------------\u001b[0m",
      "\u001b[0;31mKeyError\u001b[0m                                  Traceback (most recent call last)",
      "Cell \u001b[0;32mIn[6], line 1\u001b[0m\n\u001b[0;32m----> 1\u001b[0m sendit0 \u001b[38;5;241m=\u001b[39m \u001b[43mec\u001b[49m\u001b[43m[\u001b[49m\u001b[43mec\u001b[49m\u001b[43m[\u001b[49m\u001b[38;5;124;43m'\u001b[39;49m\u001b[38;5;124;43mCluster\u001b[39;49m\u001b[38;5;124;43m'\u001b[39;49m\u001b[43m]\u001b[49m\u001b[38;5;241;43m==\u001b[39;49m\u001b[38;5;124;43m'\u001b[39;49m\u001b[38;5;124;43mCluster 0\u001b[39;49m\u001b[38;5;124;43m'\u001b[39;49m\u001b[43m]\u001b[49m\u001b[43m[\u001b[49m\u001b[43msetx\u001b[49m\u001b[43m]\u001b[49m\n\u001b[1;32m      2\u001b[0m p_matrix0 \u001b[38;5;241m=\u001b[39m test_granger(sendit0, p)\n\u001b[1;32m      3\u001b[0m \u001b[38;5;66;03m# p_matrix0\u001b[39;00m\n",
      "File \u001b[0;32m~/Desktop/GRUS/caret1/lib/python3.8/site-packages/pandas/core/frame.py:3813\u001b[0m, in \u001b[0;36mDataFrame.__getitem__\u001b[0;34m(self, key)\u001b[0m\n\u001b[1;32m   3811\u001b[0m     \u001b[38;5;28;01mif\u001b[39;00m is_iterator(key):\n\u001b[1;32m   3812\u001b[0m         key \u001b[38;5;241m=\u001b[39m \u001b[38;5;28mlist\u001b[39m(key)\n\u001b[0;32m-> 3813\u001b[0m     indexer \u001b[38;5;241m=\u001b[39m \u001b[38;5;28;43mself\u001b[39;49m\u001b[38;5;241;43m.\u001b[39;49m\u001b[43mcolumns\u001b[49m\u001b[38;5;241;43m.\u001b[39;49m\u001b[43m_get_indexer_strict\u001b[49m\u001b[43m(\u001b[49m\u001b[43mkey\u001b[49m\u001b[43m,\u001b[49m\u001b[43m \u001b[49m\u001b[38;5;124;43m\"\u001b[39;49m\u001b[38;5;124;43mcolumns\u001b[39;49m\u001b[38;5;124;43m\"\u001b[39;49m\u001b[43m)\u001b[49m[\u001b[38;5;241m1\u001b[39m]\n\u001b[1;32m   3815\u001b[0m \u001b[38;5;66;03m# take() does not accept boolean indexers\u001b[39;00m\n\u001b[1;32m   3816\u001b[0m \u001b[38;5;28;01mif\u001b[39;00m \u001b[38;5;28mgetattr\u001b[39m(indexer, \u001b[38;5;124m\"\u001b[39m\u001b[38;5;124mdtype\u001b[39m\u001b[38;5;124m\"\u001b[39m, \u001b[38;5;28;01mNone\u001b[39;00m) \u001b[38;5;241m==\u001b[39m \u001b[38;5;28mbool\u001b[39m:\n",
      "File \u001b[0;32m~/Desktop/GRUS/caret1/lib/python3.8/site-packages/pandas/core/indexes/base.py:6070\u001b[0m, in \u001b[0;36mIndex._get_indexer_strict\u001b[0;34m(self, key, axis_name)\u001b[0m\n\u001b[1;32m   6067\u001b[0m \u001b[38;5;28;01melse\u001b[39;00m:\n\u001b[1;32m   6068\u001b[0m     keyarr, indexer, new_indexer \u001b[38;5;241m=\u001b[39m \u001b[38;5;28mself\u001b[39m\u001b[38;5;241m.\u001b[39m_reindex_non_unique(keyarr)\n\u001b[0;32m-> 6070\u001b[0m \u001b[38;5;28;43mself\u001b[39;49m\u001b[38;5;241;43m.\u001b[39;49m\u001b[43m_raise_if_missing\u001b[49m\u001b[43m(\u001b[49m\u001b[43mkeyarr\u001b[49m\u001b[43m,\u001b[49m\u001b[43m \u001b[49m\u001b[43mindexer\u001b[49m\u001b[43m,\u001b[49m\u001b[43m \u001b[49m\u001b[43maxis_name\u001b[49m\u001b[43m)\u001b[49m\n\u001b[1;32m   6072\u001b[0m keyarr \u001b[38;5;241m=\u001b[39m \u001b[38;5;28mself\u001b[39m\u001b[38;5;241m.\u001b[39mtake(indexer)\n\u001b[1;32m   6073\u001b[0m \u001b[38;5;28;01mif\u001b[39;00m \u001b[38;5;28misinstance\u001b[39m(key, Index):\n\u001b[1;32m   6074\u001b[0m     \u001b[38;5;66;03m# GH 42790 - Preserve name from an Index\u001b[39;00m\n",
      "File \u001b[0;32m~/Desktop/GRUS/caret1/lib/python3.8/site-packages/pandas/core/indexes/base.py:6133\u001b[0m, in \u001b[0;36mIndex._raise_if_missing\u001b[0;34m(self, key, indexer, axis_name)\u001b[0m\n\u001b[1;32m   6130\u001b[0m     \u001b[38;5;28;01mraise\u001b[39;00m \u001b[38;5;167;01mKeyError\u001b[39;00m(\u001b[38;5;124mf\u001b[39m\u001b[38;5;124m\"\u001b[39m\u001b[38;5;124mNone of [\u001b[39m\u001b[38;5;132;01m{\u001b[39;00mkey\u001b[38;5;132;01m}\u001b[39;00m\u001b[38;5;124m] are in the [\u001b[39m\u001b[38;5;132;01m{\u001b[39;00maxis_name\u001b[38;5;132;01m}\u001b[39;00m\u001b[38;5;124m]\u001b[39m\u001b[38;5;124m\"\u001b[39m)\n\u001b[1;32m   6132\u001b[0m not_found \u001b[38;5;241m=\u001b[39m \u001b[38;5;28mlist\u001b[39m(ensure_index(key)[missing_mask\u001b[38;5;241m.\u001b[39mnonzero()[\u001b[38;5;241m0\u001b[39m]]\u001b[38;5;241m.\u001b[39munique())\n\u001b[0;32m-> 6133\u001b[0m \u001b[38;5;28;01mraise\u001b[39;00m \u001b[38;5;167;01mKeyError\u001b[39;00m(\u001b[38;5;124mf\u001b[39m\u001b[38;5;124m\"\u001b[39m\u001b[38;5;132;01m{\u001b[39;00mnot_found\u001b[38;5;132;01m}\u001b[39;00m\u001b[38;5;124m not in index\u001b[39m\u001b[38;5;124m\"\u001b[39m)\n",
      "\u001b[0;31mKeyError\u001b[0m: \"['p_change', 'p_buyCap', 'p_askCap'] not in index\""
     ]
    }
   ],
   "source": [
    "sendit0 = ec[ec['Cluster']=='Cluster 0'][setx]\n",
    "p_matrix0 = test_granger(sendit0, p)\n",
    "# p_matrix0\n",
    "caul_mtrx = p_matrix0.rename(index={item: f\"{item} caused by\" for item in p_matrix0.index})\n",
    "caul_mtrx.where(caul_mtrx.isna(), caul_mtrx <= 0.01)"
   ]
  },
  {
   "cell_type": "markdown",
   "id": "79955d70-37f7-43df-9bde-fc0257e7882d",
   "metadata": {},
   "source": [
    "## Cluster 1"
   ]
  },
  {
   "cell_type": "code",
   "execution_count": null,
   "id": "8849877a-985f-4b6a-b021-d7504560f7f3",
   "metadata": {},
   "outputs": [],
   "source": [
    "sendit1 = ec[ec['Cluster']=='Cluster 1'][setx]\n",
    "p_matrix1 = test_granger(sendit1, p)\n",
    "# p_matrix0\n",
    "caul_mtrx1 = p_matrix1.rename(index={item: f\"{item} caused by\" for item in p_matrix1.index})\n",
    "caul_mtrx1.where(caul_mtrx1.isna(), caul_mtrx1 <= 0.01)"
   ]
  },
  {
   "cell_type": "markdown",
   "id": "149fab11-febc-44df-899d-e3bf3b88efab",
   "metadata": {},
   "source": [
    "## Cluster 2"
   ]
  },
  {
   "cell_type": "code",
   "execution_count": null,
   "id": "46fc50e5-15f7-40d9-baa0-56d0ffb01f1c",
   "metadata": {},
   "outputs": [],
   "source": [
    "sendit2 = ec[ec['Cluster']=='Cluster 2'][setx]\n",
    "p_matrix2 = test_granger(sendit2, p)\n",
    "# p_matrix0\n",
    "caul_mtrx2 = p_matrix2.rename(index={item: f\"{item} caused by\" for item in p_matrix2.index})\n",
    "caul_mtrx2.where(caul_mtrx2.isna(), caul_mtrx2 <= 0.01)"
   ]
  },
  {
   "cell_type": "code",
   "execution_count": null,
   "id": "174a54f6-226f-4f51-8799-488891ef4614",
   "metadata": {},
   "outputs": [],
   "source": [
    "sns.heatmap(p_matrix2.corr())"
   ]
  },
  {
   "cell_type": "markdown",
   "id": "65c70cff-f6b7-4911-bdd6-feef115fab07",
   "metadata": {},
   "source": [
    "## Cluster 3: largest space for profitable trades \n",
    "(length = duration, height = positive variance)"
   ]
  },
  {
   "cell_type": "code",
   "execution_count": null,
   "id": "8f5954cc-8948-4016-9d23-80bf4609b86e",
   "metadata": {},
   "outputs": [],
   "source": [
    "sendit3 = ec[ec['Cluster']=='Cluster 3'][setx]\n",
    "p_matrix3 = test_granger(sendit3, p)\n",
    "# p_matrix0\n",
    "caul_mtrx3 = p_matrix3.rename(index={item: f\"{item} caused by\" for item in p_matrix3.index})\n",
    "caul_mtrx3.where(caul_mtrx3.isna(), caul_mtrx3 <= 0.01)"
   ]
  },
  {
   "cell_type": "markdown",
   "id": "95ed39ee-ba3f-41c9-8367-63155d91a1ac",
   "metadata": {},
   "source": [
    "## Cluster 3 regression study\n",
    "highest performing cluster for length x height"
   ]
  },
  {
   "cell_type": "code",
   "execution_count": null,
   "id": "142806c7-33d0-47cd-beb6-71ae0e9aa101",
   "metadata": {},
   "outputs": [],
   "source": [
    "## correlation matrix\n",
    "p_matrix3.corr()"
   ]
  },
  {
   "cell_type": "markdown",
   "id": "ea733de5-ce00-47db-ae8d-9cbdc777e287",
   "metadata": {},
   "source": [
    "**positively correlated**: p_change / p_MP\n",
    "\n",
    "**negatively**: p_askCap / p_totalAskVol\n",
    "            p_askCap / p_totalAskVol"
   ]
  },
  {
   "cell_type": "code",
   "execution_count": null,
   "id": "13097def-94c2-4db5-9dc8-1ce8462b0a3c",
   "metadata": {},
   "outputs": [],
   "source": [
    "sns.heatmap(p_matrix3.corr())"
   ]
  },
  {
   "cell_type": "markdown",
   "id": "4f3c00be-0222-4cd4-bcbe-0963c9817aed",
   "metadata": {},
   "source": [
    "## multi-model regression on surge area\n",
    "\n",
    "[from](https://github.com/pycaret/pycaret/blob/master/tutorials/Tutorial%20-%20Regression.ipynb)"
   ]
  },
  {
   "cell_type": "code",
   "execution_count": null,
   "id": "342dc3f5-ef33-44b6-bd73-83a4cbbcb0b4",
   "metadata": {},
   "outputs": [],
   "source": [
    "s = setup(ec, target = 's_MP', session_id = 42)\n",
    "\n",
    "exp = RegressionExperiment()\n",
    "\n",
    "exp.setup(ec, target = 's_MP', session_id = 42)\n",
    "\n"
   ]
  },
  {
   "cell_type": "code",
   "execution_count": null,
   "id": "b4d18423-deb2-4225-b44d-02319422b136",
   "metadata": {},
   "outputs": [],
   "source": []
  },
  {
   "cell_type": "code",
   "execution_count": null,
   "id": "eec8df9c-5471-4b8a-b0ee-2ae790b3b137",
   "metadata": {},
   "outputs": [],
   "source": [
    "best =compare_models()"
   ]
  },
  {
   "cell_type": "code",
   "execution_count": null,
   "id": "87876acb-fc7a-40d7-bf0b-4f571d98d120",
   "metadata": {},
   "outputs": [],
   "source": [
    "# plot residuals\n",
    "plot_model(best, plot = 'residuals')"
   ]
  },
  {
   "cell_type": "code",
   "execution_count": null,
   "id": "25989912-03d0-47bb-9589-24d928135e66",
   "metadata": {},
   "outputs": [],
   "source": [
    "# plot error\n",
    "plot_model(best, plot = 'error')"
   ]
  },
  {
   "cell_type": "code",
   "execution_count": null,
   "id": "1c0379cc-75df-4668-a791-4401fe65d88a",
   "metadata": {},
   "outputs": [],
   "source": [
    "# plot feature importance\n",
    "plot_model(best, plot = 'feature')"
   ]
  },
  {
   "cell_type": "code",
   "execution_count": null,
   "id": "70be3de9-5a09-457c-97a0-2e51daecf5d5",
   "metadata": {},
   "outputs": [],
   "source": [
    "evaluate_model(best)"
   ]
  }
 ],
 "metadata": {
  "kernelspec": {
   "display_name": "Python 3 (ipykernel)",
   "language": "python",
   "name": "python3"
  },
  "language_info": {
   "codemirror_mode": {
    "name": "ipython",
    "version": 3
   },
   "file_extension": ".py",
   "mimetype": "text/x-python",
   "name": "python",
   "nbconvert_exporter": "python",
   "pygments_lexer": "ipython3",
   "version": "3.8.10"
  }
 },
 "nbformat": 4,
 "nbformat_minor": 5
}
